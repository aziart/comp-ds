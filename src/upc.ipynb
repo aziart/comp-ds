{
 "cells": [
  {
   "cell_type": "markdown",
   "metadata": {},
   "source": [
    "### Use `seed`"
   ]
  },
  {
   "cell_type": "code",
   "execution_count": null,
   "metadata": {},
   "outputs": [],
   "source": [
    "import os \n",
    "import random\n",
    "import numpy as np \n",
    "\n",
    "DEFAULT_RANDOM_SEED = 2023\n",
    "\n",
    "def seedBasic(seed=DEFAULT_RANDOM_SEED):\n",
    "    random.seed(seed)\n",
    "    os.environ['PYTHONHASHSEED'] = str(seed)\n",
    "    np.random.seed(seed)\n",
    "    \n",
    "# tensorflow random seed \n",
    "import tensorflow as tf \n",
    "def seedTF(seed=DEFAULT_RANDOM_SEED):\n",
    "    tf.random.set_seed(seed)\n",
    "    \n",
    "# torch random seed\n",
    "import torch\n",
    "def seedTorch(seed=DEFAULT_RANDOM_SEED):\n",
    "    torch.manual_seed(seed)\n",
    "    torch.cuda.manual_seed(seed)\n",
    "    torch.backends.cudnn.deterministic = True\n",
    "    torch.backends.cudnn.benchmark = False"
   ]
  },
  {
   "cell_type": "code",
   "execution_count": null,
   "metadata": {},
   "outputs": [],
   "source": [
    "import os \n",
    "import random\n",
    "import numpy as np \n",
    "\n",
    "import torch\n",
    "import tensorflow as tf \n",
    "\n",
    "def set_all_seeds(seed=DEFAULT_RANDOM_SEED):\n",
    "    \n",
    "    # python's seeds\n",
    "    random.seed(seed)\n",
    "    os.environ['PYTHONHASHSEED'] = str(seed)\n",
    "    np.random.seed(seed)\n",
    "    \n",
    "    # torch's seeds\n",
    "    torch.manual_seed(seed)\n",
    "    torch.cuda.manual_seed(seed)\n",
    "    torch.backends.cudnn.deterministic = True\n",
    "    torch.backends.cudnn.benchmark = False\n",
    "    \n",
    "    # tensorflow's seed\n",
    "    tf.random.set_seed(seed)\n",
    "    \n",
    "DEFAULT_RANDOM_SEED = 2021\n",
    "set_all_seeds(seed=DEFAULT_RANDOM_SEED)"
   ]
  },
  {
   "cell_type": "markdown",
   "metadata": {},
   "source": [
    "### Save results, if calculations took too long"
   ]
  },
  {
   "cell_type": "code",
   "execution_count": null,
   "metadata": {},
   "outputs": [],
   "source": [
    "regenerate = True  # easily switchable flag\n",
    "\n",
    "if regenerate: # while first attempt | prepare data\n",
    "     df = make_features(df) # prepare training features\n",
    "     df.to_csv('train_with_features.csv', index=False) # save\n",
    "     sub = make_features(sub) # prepare features for submit\n",
    "     sub.to_csv('test_with_features.csv', index=False) # save\n",
    "\n",
    "else: # By re-passing, save invaluable time\n",
    "     df = pd.read_csv('train_with_features.csv')\n",
    "     sub = pd.read_csv('test_with_features.csv')"
   ]
  },
  {
   "cell_type": "markdown",
   "metadata": {},
   "source": [
    "### Save files as pickle\n",
    "(`df.to_pickle()`/`pd.read_pickle()`)"
   ]
  },
  {
   "cell_type": "code",
   "execution_count": null,
   "metadata": {},
   "outputs": [],
   "source": [
    "import pickle\n",
    "\n",
    "a = {'hello': 'world'}\n",
    "\n",
    "with open('filename.pickle', 'wb') as handle:\n",
    "    pickle.dump(a, handle, protocol=pickle.HIGHEST_PROTOCOL)\n",
    "\n",
    "with open('filename.pickle', 'rb') as handle:\n",
    "    b = pickle.load(handle)\n",
    "\n",
    "print(a == b)"
   ]
  },
  {
   "cell_type": "markdown",
   "metadata": {},
   "source": [
    "### Use `classes` instead of dicts"
   ]
  },
  {
   "cell_type": "code",
   "execution_count": null,
   "metadata": {},
   "outputs": [],
   "source": [
    "class Paths:\n",
    "    model_xgb = '../models/xgb.pickle'\n",
    "    model_cb  = '../models/cb.pickle'\n",
    "    model_lgb = '../models/lgb.pickle'\n",
    "    \n",
    "paths = Paths()\n",
    "\n",
    "paths.model_xgb  # instead of paths['model_xgb'] when working with dicts"
   ]
  },
  {
   "cell_type": "markdown",
   "metadata": {},
   "source": [
    "### Create 2 modes for notebook/script: `validation` and `test` "
   ]
  },
  {
   "cell_type": "code",
   "execution_count": null,
   "metadata": {},
   "outputs": [],
   "source": [
    "X = pd.read_csv('data/train.csv')\n",
    "y = pd.read_csv('data/y_train.csv')\n",
    "\n",
    "MODE = 'validation'\n",
    "if MODE == 'validation':\n",
    "    X_train, X_test, y_train, y_test = train_test_split(X, y,\n",
    "                                                        test_size=0.2,\n",
    "                                                        random_state=42)\n",
    "elif MODE == 'test':\n",
    "    X_train = X\n",
    "    y_train = y\n",
    "    X_test = pd.read_csv('data/test.csv')"
   ]
  },
  {
   "cell_type": "markdown",
   "metadata": {},
   "source": [
    "### Use `tqdm` to indicate progress"
   ]
  }
 ],
 "metadata": {
  "language_info": {
   "name": "python"
  }
 },
 "nbformat": 4,
 "nbformat_minor": 2
}
