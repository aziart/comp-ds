{
 "cells": [
  {
   "cell_type": "markdown",
   "id": "c3cd0aa5",
   "metadata": {},
   "source": [
    "<div style=\" border-bottom: 8px solid #00B2FF; overflow: hidden; border-radius: 10px; height: 60px; width: 100%; display: flex;\">\n",
    "  <div style=\"height: 100%; width: 100%; background-color: #3800BB; float: left; text-align: center; display: flex; justify-content: left; align-items: center; font-size: 40px; \">\n",
    "    <b><span style=\"color: #FFFFFF; padding: 20px 20px;\">LightGBM</span></b>\n",
    "  </div>\n",
    "</div>"
   ]
  },
  {
   "cell_type": "markdown",
   "id": "670d695e",
   "metadata": {},
   "source": [
    "<div class=\"alert\" style=\"background-color: #FEDAD5; border-left: 8px solid #B12111; padding: 14px; border-radius: 8px; font-size: 14px; color: #000000;\">\n",
    "  <h5 style=\"font-size: 16px; margin-bottom: 10px;\">\n",
    "    <strong> Contents </strong>\n",
    "  </h5>\n",
    "<hr>\n",
    "  <p><font size=\"3\" face=\"Arial\" font-size=\"large\">\n",
    "  <ul type=\"square\">\n",
    "      \n",
    "<li> LightGBM Classifier and its Parameters </li>\n",
    "<li> Wrapping Data in a Dataset Class </li>\n",
    "<li> Two Types of Models in LightGBM </li>\n",
    "<li> Key Parameters </li>\n",
    "<li> Tuning Optimal Hyperparameters </li>\n",
    "<li> Built-in Visualization and Feature Importance </li>\n",
    "<li> Custom Loss & Eval Functions </li>\n",
    "<li> Conclusions and Summary </li>\n",
    "\n",
    "  \n",
    "  </ul>\n",
    "  </font></p>\n",
    "\n",
    "</div>"
   ]
  },
  {
   "cell_type": "markdown",
   "id": "d69965de",
   "metadata": {},
   "source": [
    "<div class=\"alert alert-warning\">\n",
    "\n",
    "### **Why do we need [LightGBM](https://lightgbm.readthedocs.io/en/v3.3.2/)?**\n",
    "</div>"
   ]
  },
  {
   "cell_type": "markdown",
   "id": "9710dbba",
   "metadata": {},
   "source": [
    "<div class=\"alert\" style=\"background-color:  #E8F8F5; border-left: 8px solid #1ABC9C; padding: 14px; border-radius: 8px; font-size: 14px; color: #000000;\">\n",
    "\n",
    "- **`LightGBM`** has a similar interface to **`CatBoost`**\n",
    "- It comes with its own quirks and hacks when it comes to tuning\n",
    "- Naturally, it has unique advantages in functionality\n",
    "- We'll use `LightGBM` as a deeper dive into boosting configuration\n",
    "- Surprisingly, sometimes a specific boosting library outperforms the rest\n",
    "- We'll go through some fancy features and leave the tricky nuances for practice\n",
    "\n",
    "</div>"
   ]
  },
  {
   "cell_type": "markdown",
   "id": "a35beca8",
   "metadata": {},
   "source": [
    "<div class=\"alert\" style=\"background-color:  #E8F8F5; border-left: 8px solid #1ABC9C; padding: 14px; border-radius: 8px; font-size: 14px; color: #000000;\">\n",
    "\n",
    "`LGBM (Light Gradient Boosted Machine)` was introduced by Ke G. et al. in their 2017 paper [“LightGBM: A Highly Efficient Gradient Boosting Decision Tree”](https://papers.nips.cc/paper/6907-lightgbm-a-highly-efficient-gradient-boosting-decision-tree).\n",
    "\n",
    "The implementation is based on two key ideas: `GOSS` and `EFB`.<br>\n",
    "The framework is developed and maintained by Microsoft.\n",
    "\n",
    "</div>"
   ]
  }
 ],
 "metadata": {
  "kernelspec": {
   "display_name": ".venv",
   "language": "python",
   "name": "python3"
  },
  "language_info": {
   "name": "python",
   "version": "3.12.6"
  }
 },
 "nbformat": 4,
 "nbformat_minor": 5
}
