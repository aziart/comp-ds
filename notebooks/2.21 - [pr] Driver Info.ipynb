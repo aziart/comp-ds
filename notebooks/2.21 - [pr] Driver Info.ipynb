{
 "cells": [
  {
   "cell_type": "code",
   "execution_count": 1,
   "metadata": {},
   "outputs": [],
   "source": [
    "from classes import Paths\n",
    "\n",
    "import pandas as pd\n",
    "import numpy as np"
   ]
  },
  {
   "cell_type": "code",
   "execution_count": 2,
   "metadata": {},
   "outputs": [
    {
     "data": {
      "text/html": [
       "<div>\n",
       "<style scoped>\n",
       "    .dataframe tbody tr th:only-of-type {\n",
       "        vertical-align: middle;\n",
       "    }\n",
       "\n",
       "    .dataframe tbody tr th {\n",
       "        vertical-align: top;\n",
       "    }\n",
       "\n",
       "    .dataframe thead th {\n",
       "        text-align: right;\n",
       "    }\n",
       "</style>\n",
       "<table border=\"1\" class=\"dataframe\">\n",
       "  <thead>\n",
       "    <tr style=\"text-align: right;\">\n",
       "      <th></th>\n",
       "      <th>age</th>\n",
       "      <th>user_rating</th>\n",
       "      <th>user_rides</th>\n",
       "      <th>user_time_accident</th>\n",
       "      <th>user_id</th>\n",
       "      <th>sex</th>\n",
       "      <th>first_ride_date</th>\n",
       "    </tr>\n",
       "  </thead>\n",
       "  <tbody>\n",
       "    <tr>\n",
       "      <th>13685</th>\n",
       "      <td>32</td>\n",
       "      <td>8.6</td>\n",
       "      <td>1014</td>\n",
       "      <td>20.0</td>\n",
       "      <td>P16847984W</td>\n",
       "      <td>1</td>\n",
       "      <td>2020-11-7</td>\n",
       "    </tr>\n",
       "    <tr>\n",
       "      <th>11004</th>\n",
       "      <td>44</td>\n",
       "      <td>8.5</td>\n",
       "      <td>1119</td>\n",
       "      <td>NaN</td>\n",
       "      <td>J16557495M</td>\n",
       "      <td>0</td>\n",
       "      <td>2019-1-23</td>\n",
       "    </tr>\n",
       "    <tr>\n",
       "      <th>13202</th>\n",
       "      <td>47</td>\n",
       "      <td>7.5</td>\n",
       "      <td>642</td>\n",
       "      <td>6.0</td>\n",
       "      <td>e19257942i</td>\n",
       "      <td>0</td>\n",
       "      <td>2019-5-27</td>\n",
       "    </tr>\n",
       "    <tr>\n",
       "      <th>12409</th>\n",
       "      <td>18</td>\n",
       "      <td>8.5</td>\n",
       "      <td>633</td>\n",
       "      <td>6.0</td>\n",
       "      <td>M55314014B</td>\n",
       "      <td>1</td>\n",
       "      <td>2019-5-29</td>\n",
       "    </tr>\n",
       "    <tr>\n",
       "      <th>7031</th>\n",
       "      <td>43</td>\n",
       "      <td>8.6</td>\n",
       "      <td>424</td>\n",
       "      <td>NaN</td>\n",
       "      <td>P15346566n</td>\n",
       "      <td>0</td>\n",
       "      <td>2019-7-24</td>\n",
       "    </tr>\n",
       "    <tr>\n",
       "      <th>347</th>\n",
       "      <td>42</td>\n",
       "      <td>8.9</td>\n",
       "      <td>1767</td>\n",
       "      <td>16.0</td>\n",
       "      <td>l17188711P</td>\n",
       "      <td>0</td>\n",
       "      <td>2021-8-18</td>\n",
       "    </tr>\n",
       "    <tr>\n",
       "      <th>6116</th>\n",
       "      <td>31</td>\n",
       "      <td>7.8</td>\n",
       "      <td>839</td>\n",
       "      <td>2.0</td>\n",
       "      <td>q21309633s</td>\n",
       "      <td>1</td>\n",
       "      <td>2020-9-20</td>\n",
       "    </tr>\n",
       "    <tr>\n",
       "      <th>9255</th>\n",
       "      <td>40</td>\n",
       "      <td>8.9</td>\n",
       "      <td>1114</td>\n",
       "      <td>12.0</td>\n",
       "      <td>s14811318S</td>\n",
       "      <td>0</td>\n",
       "      <td>2021-2-27</td>\n",
       "    </tr>\n",
       "    <tr>\n",
       "      <th>5293</th>\n",
       "      <td>39</td>\n",
       "      <td>8.3</td>\n",
       "      <td>856</td>\n",
       "      <td>6.0</td>\n",
       "      <td>Q31949393C</td>\n",
       "      <td>0</td>\n",
       "      <td>2019-4-4</td>\n",
       "    </tr>\n",
       "    <tr>\n",
       "      <th>1747</th>\n",
       "      <td>29</td>\n",
       "      <td>8.5</td>\n",
       "      <td>1147</td>\n",
       "      <td>6.0</td>\n",
       "      <td>t11235313m</td>\n",
       "      <td>1</td>\n",
       "      <td>2020-12-11</td>\n",
       "    </tr>\n",
       "  </tbody>\n",
       "</table>\n",
       "</div>"
      ],
      "text/plain": [
       "       age  user_rating  user_rides  user_time_accident     user_id  sex  \\\n",
       "13685   32          8.6        1014                20.0  P16847984W    1   \n",
       "11004   44          8.5        1119                 NaN  J16557495M    0   \n",
       "13202   47          7.5         642                 6.0  e19257942i    0   \n",
       "12409   18          8.5         633                 6.0  M55314014B    1   \n",
       "7031    43          8.6         424                 NaN  P15346566n    0   \n",
       "347     42          8.9        1767                16.0  l17188711P    0   \n",
       "6116    31          7.8         839                 2.0  q21309633s    1   \n",
       "9255    40          8.9        1114                12.0  s14811318S    0   \n",
       "5293    39          8.3         856                 6.0  Q31949393C    0   \n",
       "1747    29          8.5        1147                 6.0  t11235313m    1   \n",
       "\n",
       "      first_ride_date  \n",
       "13685       2020-11-7  \n",
       "11004       2019-1-23  \n",
       "13202       2019-5-27  \n",
       "12409       2019-5-29  \n",
       "7031        2019-7-24  \n",
       "347         2021-8-18  \n",
       "6116        2020-9-20  \n",
       "9255        2021-2-27  \n",
       "5293         2019-4-4  \n",
       "1747       2020-12-11  "
      ]
     },
     "execution_count": 2,
     "metadata": {},
     "output_type": "execute_result"
    }
   ],
   "source": [
    "paths = Paths()\n",
    "path = paths.driver_info\n",
    "driver_info = pd.read_csv(path)\n",
    "driver_info.sample(10)"
   ]
  },
  {
   "cell_type": "code",
   "execution_count": 3,
   "metadata": {},
   "outputs": [
    {
     "data": {
      "text/html": [
       "<div>\n",
       "<style scoped>\n",
       "    .dataframe tbody tr th:only-of-type {\n",
       "        vertical-align: middle;\n",
       "    }\n",
       "\n",
       "    .dataframe tbody tr th {\n",
       "        vertical-align: top;\n",
       "    }\n",
       "\n",
       "    .dataframe thead th {\n",
       "        text-align: right;\n",
       "    }\n",
       "</style>\n",
       "<table border=\"1\" class=\"dataframe\">\n",
       "  <thead>\n",
       "    <tr style=\"text-align: right;\">\n",
       "      <th></th>\n",
       "      <th>age</th>\n",
       "      <th>user_rating</th>\n",
       "      <th>user_rides</th>\n",
       "      <th>user_time_accident</th>\n",
       "      <th>sex</th>\n",
       "    </tr>\n",
       "  </thead>\n",
       "  <tbody>\n",
       "    <tr>\n",
       "      <th>count</th>\n",
       "      <td>15153.000000</td>\n",
       "      <td>15153.000000</td>\n",
       "      <td>15153.000000</td>\n",
       "      <td>14182.000000</td>\n",
       "      <td>15153.000000</td>\n",
       "    </tr>\n",
       "    <tr>\n",
       "      <th>mean</th>\n",
       "      <td>33.581073</td>\n",
       "      <td>8.109345</td>\n",
       "      <td>871.015442</td>\n",
       "      <td>10.129601</td>\n",
       "      <td>0.499967</td>\n",
       "    </tr>\n",
       "    <tr>\n",
       "      <th>std</th>\n",
       "      <td>9.919271</td>\n",
       "      <td>0.668246</td>\n",
       "      <td>573.512378</td>\n",
       "      <td>8.867482</td>\n",
       "      <td>0.500016</td>\n",
       "    </tr>\n",
       "    <tr>\n",
       "      <th>min</th>\n",
       "      <td>18.000000</td>\n",
       "      <td>5.800000</td>\n",
       "      <td>0.000000</td>\n",
       "      <td>0.000000</td>\n",
       "      <td>0.000000</td>\n",
       "    </tr>\n",
       "    <tr>\n",
       "      <th>25%</th>\n",
       "      <td>25.000000</td>\n",
       "      <td>7.700000</td>\n",
       "      <td>421.000000</td>\n",
       "      <td>4.000000</td>\n",
       "      <td>0.000000</td>\n",
       "    </tr>\n",
       "    <tr>\n",
       "      <th>50%</th>\n",
       "      <td>33.000000</td>\n",
       "      <td>8.100000</td>\n",
       "      <td>876.000000</td>\n",
       "      <td>9.000000</td>\n",
       "      <td>0.000000</td>\n",
       "    </tr>\n",
       "    <tr>\n",
       "      <th>75%</th>\n",
       "      <td>41.000000</td>\n",
       "      <td>8.600000</td>\n",
       "      <td>1145.000000</td>\n",
       "      <td>14.000000</td>\n",
       "      <td>1.000000</td>\n",
       "    </tr>\n",
       "    <tr>\n",
       "      <th>max</th>\n",
       "      <td>63.000000</td>\n",
       "      <td>10.000000</td>\n",
       "      <td>3316.000000</td>\n",
       "      <td>86.000000</td>\n",
       "      <td>1.000000</td>\n",
       "    </tr>\n",
       "  </tbody>\n",
       "</table>\n",
       "</div>"
      ],
      "text/plain": [
       "                age   user_rating    user_rides  user_time_accident  \\\n",
       "count  15153.000000  15153.000000  15153.000000        14182.000000   \n",
       "mean      33.581073      8.109345    871.015442           10.129601   \n",
       "std        9.919271      0.668246    573.512378            8.867482   \n",
       "min       18.000000      5.800000      0.000000            0.000000   \n",
       "25%       25.000000      7.700000    421.000000            4.000000   \n",
       "50%       33.000000      8.100000    876.000000            9.000000   \n",
       "75%       41.000000      8.600000   1145.000000           14.000000   \n",
       "max       63.000000     10.000000   3316.000000           86.000000   \n",
       "\n",
       "                sex  \n",
       "count  15153.000000  \n",
       "mean       0.499967  \n",
       "std        0.500016  \n",
       "min        0.000000  \n",
       "25%        0.000000  \n",
       "50%        0.000000  \n",
       "75%        1.000000  \n",
       "max        1.000000  "
      ]
     },
     "execution_count": 3,
     "metadata": {},
     "output_type": "execute_result"
    }
   ],
   "source": [
    "driver_info.describe()"
   ]
  },
  {
   "cell_type": "markdown",
   "metadata": {},
   "source": [
    "<div class='alert alert-warning'>\n",
    "1 What is the median age of drivers?\n",
    "</div>"
   ]
  },
  {
   "cell_type": "code",
   "execution_count": 4,
   "metadata": {},
   "outputs": [
    {
     "data": {
      "text/plain": [
       "33.0"
      ]
     },
     "execution_count": 4,
     "metadata": {},
     "output_type": "execute_result"
    }
   ],
   "source": [
    "driver_info['age'].median()"
   ]
  },
  {
   "cell_type": "markdown",
   "metadata": {},
   "source": [
    "<div class=\"alert alert-success\">\n",
    "\n",
    "**Answer:** Median age of drivers is 33\n",
    "\n",
    "</div>"
   ]
  },
  {
   "cell_type": "markdown",
   "metadata": {},
   "source": [
    "<div class='alert alert-warning'>\n",
    "2 What is the minimum rating of the driver? (user_rating).\n",
    "</div>"
   ]
  },
  {
   "cell_type": "code",
   "execution_count": 5,
   "metadata": {},
   "outputs": [
    {
     "data": {
      "text/plain": [
       "5.8"
      ]
     },
     "execution_count": 5,
     "metadata": {},
     "output_type": "execute_result"
    }
   ],
   "source": [
    "driver_info['user_rating'].min()"
   ]
  },
  {
   "cell_type": "markdown",
   "metadata": {},
   "source": [
    "<div class=\"alert alert-success\">\n",
    "\n",
    "**Answer:** Minimum user (driver) rating is 5.8\n",
    "\n",
    "</div>"
   ]
  },
  {
   "cell_type": "markdown",
   "metadata": {},
   "source": [
    "<div class='alert alert-warning'>\n",
    "3 What is the most frequent number of incidents among drivers? (user_time_accident).\n",
    "</div>"
   ]
  },
  {
   "cell_type": "code",
   "execution_count": 6,
   "metadata": {},
   "outputs": [
    {
     "data": {
      "text/plain": [
       "0    6.0\n",
       "Name: user_time_accident, dtype: float64"
      ]
     },
     "execution_count": 6,
     "metadata": {},
     "output_type": "execute_result"
    }
   ],
   "source": [
    "driver_info['user_time_accident'].mode()\n",
    "\n",
    "# or we can use groupby method or value_counts for detailed information\n",
    "# driver_info['user_time_accident'].value_counts()\n",
    "# driver_info.groupby(\"user_time_accident\")[\"user_id\"].count().nlargest(1)"
   ]
  },
  {
   "cell_type": "markdown",
   "metadata": {},
   "source": [
    "<div class=\"alert alert-success\">\n",
    "\n",
    "**Answer:** The most frequent number of incidents among drivers is 6\n",
    "\n",
    "</div>"
   ]
  },
  {
   "cell_type": "markdown",
   "metadata": {},
   "source": [
    "<div class='alert alert-warning'>\n",
    "4 How many rows are there in the dataset?\n",
    "</div>"
   ]
  },
  {
   "cell_type": "code",
   "execution_count": 7,
   "metadata": {},
   "outputs": [
    {
     "name": "stdout",
     "output_type": "stream",
     "text": [
      "Dataframe has:\n",
      "Rows:      15153\n",
      "Columns:       7\n"
     ]
    }
   ],
   "source": [
    "print(\"Dataframe has:\\nRows: {:10}\\nColumns: {:7}\".\n",
    "        format(driver_info.shape[0], driver_info.shape[1]))"
   ]
  },
  {
   "cell_type": "markdown",
   "metadata": {},
   "source": [
    "<div class=\"alert alert-success\">\n",
    "\n",
    "**Answer:** Dataframe has 15153 rows\n",
    "\n",
    "</div>"
   ]
  },
  {
   "cell_type": "markdown",
   "metadata": {},
   "source": [
    "<div class='alert alert-warning'>\n",
    "5 What is the most popular gender?\n",
    "</div>"
   ]
  },
  {
   "cell_type": "code",
   "execution_count": 8,
   "metadata": {},
   "outputs": [
    {
     "data": {
      "text/plain": [
       "sex\n",
       "0    7577\n",
       "1    7576\n",
       "Name: count, dtype: int64"
      ]
     },
     "execution_count": 8,
     "metadata": {},
     "output_type": "execute_result"
    }
   ],
   "source": [
    "driver_info['sex'].value_counts()\n",
    "# driver_info.sex.value_counts().nlargest(1)"
   ]
  },
  {
   "cell_type": "markdown",
   "metadata": {},
   "source": [
    "<div class=\"alert alert-success\">\n",
    "\n",
    "**Answer:** The most popular gender is 0, but to be more precise we have ~%50 of each gender in users base\n",
    "\n",
    "</div>\n",
    "\n"
   ]
  }
 ],
 "metadata": {
  "kernelspec": {
   "display_name": "comp-ds",
   "language": "python",
   "name": "python3"
  },
  "language_info": {
   "codemirror_mode": {
    "name": "ipython",
    "version": 3
   },
   "file_extension": ".py",
   "mimetype": "text/x-python",
   "name": "python",
   "nbconvert_exporter": "python",
   "pygments_lexer": "ipython3",
   "version": "3.10.12"
  }
 },
 "nbformat": 4,
 "nbformat_minor": 2
}
