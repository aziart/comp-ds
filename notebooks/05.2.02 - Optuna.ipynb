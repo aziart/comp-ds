{
 "cells": [
  {
   "cell_type": "markdown",
   "id": "13223b6c",
   "metadata": {},
   "source": [
    "<div style=\" border-bottom: 8px solid #e3f56c; overflow: hidden; border-radius: 10px; height: 95%; width: 100%; display: flex;\">\n",
    "  <div style=\"height: 100%; width: 100%; background-color: #3800BB; float: left; text-align: center; display: flex; justify-content: left; align-items: center; font-size: 40px; \">\n",
    "    <b><span style=\"color: #FFFFFF; padding: 20px 20px;\">Hyperparameters Tuning with Optuna</span></b>\n",
    "  </div>\n",
    "</div>\n",
    "\n"
   ]
  },
  {
   "cell_type": "markdown",
   "id": "ac2a4406",
   "metadata": {},
   "source": [
    "<div class=\"alert\" style=\"background-color: #FFFFFF; border-left: 8px solid #B12111; padding: 14px; border-radius: 8px; font-size: 14px; color: #000000;\">\n",
    "  <h5 style=\"font-size: 16px; margin-bottom: 10px;\">\n",
    "    <strong> Contents </strong>\n",
    "  </h5>\n",
    "<hr>\n",
    "  <p><font size=\"3\" face=\"Arial\" font-size=\"large\">\n",
    "  <ul type=\"square\">\n",
    "\n",
    "  <li> Basic Optuna concepts;  </li>\n",
    "  <li> Implementation;  </li>\n",
    "  <li> Visuals;  </li>\n",
    "  <li> Pruning;  </li>\n",
    "  <li> Conslusion;  </li>\n",
    "  <li> Useful Resources  </li>\n",
    "  \n",
    "  </ul>\n",
    "  </font></p>\n",
    "\n",
    "</div>"
   ]
  },
  {
   "cell_type": "code",
   "execution_count": null,
   "id": "6924a53c",
   "metadata": {},
   "outputs": [],
   "source": [
    "import optuna"
   ]
  },
  {
   "cell_type": "code",
   "execution_count": null,
   "id": "f1d45d51",
   "metadata": {},
   "outputs": [],
   "source": []
  }
 ],
 "metadata": {
  "kernelspec": {
   "display_name": ".venv",
   "language": "python",
   "name": "python3"
  },
  "language_info": {
   "codemirror_mode": {
    "name": "ipython",
    "version": 3
   },
   "file_extension": ".py",
   "mimetype": "text/x-python",
   "name": "python",
   "nbconvert_exporter": "python",
   "pygments_lexer": "ipython3",
   "version": "3.12.6"
  }
 },
 "nbformat": 4,
 "nbformat_minor": 5
}
