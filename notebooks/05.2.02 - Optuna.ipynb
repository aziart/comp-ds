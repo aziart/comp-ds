{
 "cells": [
  {
   "cell_type": "markdown",
   "id": "13223b6c",
   "metadata": {},
   "source": [
    "<div style=\" border-bottom: 8px solid #e3f56c; overflow: hidden; border-radius: 10px; height: 95%; width: 100%; display: flex;\">\n",
    "  <div style=\"height: 100%; width: 100%; background-color: #3800BB; float: left; text-align: center; display: flex; justify-content: left; align-items: center; font-size: 40px; \">\n",
    "    <b><span style=\"color: #FFFFFF; padding: 20px 20px;\">Hyperparameters Tuning with Optuna</span></b>\n",
    "  </div>\n",
    "</div>\n",
    "\n"
   ]
  },
  {
   "cell_type": "markdown",
   "id": "ac2a4406",
   "metadata": {},
   "source": [
    "<div class=\"alert\" style=\"background-color: #FFFFFF; border-left: 8px solid #B12111; padding: 14px; border-radius: 8px; font-size: 14px; color: #000000;\">\n",
    "\n",
    "<div class=\"alert alert-danger\">\n",
    "\n",
    "**Contents** \n",
    "</div>\n",
    "\n",
    "<hr>\n",
    "  <p><font size=\"3\" face=\"Arial\" font-size=\"large\">\n",
    "  <ul type=\"square\">\n",
    "\n",
    "  <li> Basic Optuna concepts;  </li>\n",
    "  <li> Implementation;  </li>\n",
    "  <li> Visuals;  </li>\n",
    "  <li> Pruning;  </li>\n",
    "  <li> Conslusion;  </li>\n",
    "  <li> Useful Resources  </li>\n",
    "  \n",
    "  </ul>\n",
    "  </font></p>\n",
    "\n",
    "</div>"
   ]
  },
  {
   "cell_type": "markdown",
   "id": "f1d45d51",
   "metadata": {},
   "source": [
    "<div class=\"alert\" style=\"background-color: #FFFFFF; border-left: 8px solid #1ABC9C; padding: 14px; border-radius: 8px; font-size: 14px; color: #000000;\">\n",
    "\n",
    "* In previous lessons, we looked at finding optimal hyperparameters using classical methods: exhaustive grid search (`GridSearchCV`) and random search from a given distribution (`Random Search`).\n",
    "* Although `Random Search` significantly speeds up the search process, we might miss a set of hyperparameters where the model performs best.<br>\n",
    "* And here, an idea might come to mind: \"What if we do some guessing at first, like in `Random Search`, and then check more often in those areas where the model showed better accuracy?!\" This method is called **Bayesian hyperparameter optimization**.\n",
    "* The most popular libraries implementing this method are `HyperOpt` and `Optuna`. (in our practice, `HyperOpt` often has failures and unstable performance, so in this notebook we will focus on **`Optuna`**)\n",
    "</div>"
   ]
  },
  {
   "cell_type": "markdown",
   "id": "9d87a19b",
   "metadata": {},
   "source": [
    "<div class=\"alert\" style=\"background-color: #FFFFFF; border-left: 8px solid #1ABC9C; padding: 14px; border-radius: 8px; font-size: 14px; color: #000000;\">\n",
    "\n",
    "<div class=\"alert alert-info\">\n",
    "\n",
    "**Key Features of the `Optuna` Framework**\n",
    "</div>\n",
    "\n",
    "* Lightweight and highly versatile - suitable for optimizing arbitrary functions and evaluation metrics.\n",
    "* Incorporates state-of-the-art algorithms specifically adapted for hyperparameter search.\n",
    "* Supports parallel execution and advanced pruning strategies.\n",
    "* Includes built-in tools for result visualization.\n",
    "* Offers seamless integration with many popular libraries and frameworks (e.g., boosting algorithms, **scikit-learn**, **PyTorch**, **Weights & Biases**, among others).\n",
    "\n",
    "To understand how to use it effectively, we will examine the framework in detail.\n",
    "\n",
    "</div>\n"
   ]
  },
  {
   "cell_type": "code",
   "execution_count": 1,
   "id": "919e6a49",
   "metadata": {},
   "outputs": [],
   "source": [
    "import optuna\n",
    "\n",
    "import numpy as np\n",
    "import pandas as pd\n",
    "\n",
    "from catboost import CatBoostClassifier\n",
    "from sklearn.model_selection import KFold, train_test_split"
   ]
  },
  {
   "cell_type": "markdown",
   "id": "1edcad5c",
   "metadata": {},
   "source": [
    "<div class=\"alert\" style=\"background-color: #FFFFFF; border-left: 8px solid #1ABC9C; padding: 14px; border-radius: 8px; font-size: 14px; color: #000000;\">\n",
    "\n",
    "**`Optuna` has two core concepts:**\n",
    "\n",
    "\n",
    "<div class=\"alert alert-info\">\n",
    "\n",
    "**1. `Study`: an optimization based on an `Objective` function.**\n",
    "</div>\n",
    "\n",
    "\n",
    "The `Objective` function should contain the logic for calculating the metric to optimize. Optuna will call this function multiple times to search for the best set of parameters.\n",
    "\n",
    "\n",
    "<div class=\"alert\" style=\"background-color:rgb(0, 0, 0); border-left: 8px solid #B12111; padding: 14px; border-radius: 8px; font-size: 14px; color:rgb(255, 255, 255);\">\n",
    "\n",
    "```python\n",
    "def objective(trial, ...):\n",
    "    # calculate score...\n",
    "    return score\n",
    "```\n",
    "</div>\n",
    "\n",
    "<div class=\"alert alert-info\">\n",
    "\n",
    "**2. `Trial` - a single execution of the `Objective` function**\n",
    "</div>\n",
    "\n",
    "\n",
    "Within the `trial` object, we define parameters to be tuned using appropriate methods depending on the type. For example:\n",
    "\n",
    "<div class=\"alert\" style=\"background-color:rgb(0, 0, 0); border-left: 8px solid #B12111; padding: 14px; border-radius: 8px; font-size: 14px; color:rgb(255, 255, 255);\">\n",
    "\n",
    "```python\n",
    "# `suggest_float` method is used to tune float values within the range [0, 1.5]\n",
    "param = trial.suggest_float('param', 0, 1.5) \n",
    "\n",
    "# Categorical value\n",
    "loss_function = trial.suggest_categorical('loss', ['Logloss', 'CrossEntropy'])\n",
    "\n",
    "# Integer value\n",
    "depth = trial.suggest_int('depth', 5, 8)\n",
    "\n",
    "# Uniform distribution\n",
    "learning_rate = trial.suggest_uniform('learning_rate', 0.0, 1.0)\n",
    "```\n",
    "</div>\n",
    "\n",
    "</div>"
   ]
  },
  {
   "cell_type": "markdown",
   "id": "8505920d",
   "metadata": {},
   "source": [
    "<div class=\"alert\" style=\"background-color: #FFFFFF; border-left: 8px solid #1ABC9C; padding: 14px; border-radius: 8px; font-size: 14px; color: #000000;\">\n",
    "    \n",
    "[`Optuna`](https://optuna.readthedocs.io/en/stable/index.html) implements several parameter search methods (`samplers`), including classical ones:\n",
    "* `GridSampler`\n",
    "* `RandomSampler`\n",
    "* `Tree-Structured Parzen Estimator` (`TPESampler` – the most popular and default one)\n",
    "* `BruteForceSampler`\n",
    "* And [4 more](https://optuna.readthedocs.io/en/stable/reference/samplers/index.html#module-optuna.samplers); you can also implement a custom sampler.\n",
    "</div>\n"
   ]
  },
  {
   "cell_type": "markdown",
   "id": "184d877b",
   "metadata": {},
   "source": [
    "<div class=\"alert\" style=\"background-color: #FFFFFF; border-left: 8px solid #1ABC9C; padding: 14px; border-radius: 8px; font-size: 14px; color: #000000;\">\n",
    "\n",
    "<div class=\"alert alert-info\">\n",
    "\n",
    "**Let's go through a simple example to see how `Optuna` works:**\n",
    "</div>\n",
    "\n",
    "* Suppose we have a function `y = (x+1)(x+5)(x-9)`, and we want to find the value of `x` that minimizes the function.\n",
    "* We'll create an `objective` function and pass a `trial` object as an argument — using it, we'll define the search range for `x` as `[-5, 5]`.\n",
    "\n",
    "<img src='../imgs/05.2.02_1.JPG' width='600px'>\n",
    "\n",
    "</div>\n"
   ]
  },
  {
   "cell_type": "markdown",
   "id": "30d3a23b",
   "metadata": {},
   "source": [
    "\n"
   ]
  },
  {
   "cell_type": "code",
   "execution_count": 2,
   "id": "aa9a7957",
   "metadata": {},
   "outputs": [],
   "source": [
    "# Limit logging\n",
    "optuna.logging.set_verbosity(30)"
   ]
  },
  {
   "cell_type": "code",
   "execution_count": 15,
   "id": "faa0974f",
   "metadata": {},
   "outputs": [
    {
     "data": {
      "application/vnd.jupyter.widget-view+json": {
       "model_id": "276261a71e8741c4bebcfded1cc83a95",
       "version_major": 2,
       "version_minor": 0
      },
      "text/plain": [
       "  0%|          | 0/250 [00:00<?, ?it/s]"
      ]
     },
     "metadata": {},
     "output_type": "display_data"
    }
   ],
   "source": [
    "def objective(trial):\n",
    "    x = trial.suggest_float(\"x\", -2, 10)\n",
    "    return (x + 1) * (x + 5) * (x - 9)\n",
    "\n",
    "\n",
    "# create a study object and run for 10 iterations; since we are searching for a minimum, the direction parameter is left as default\n",
    "study = optuna.create_study()\n",
    "\n",
    "# run the optimization\n",
    "study.optimize(objective,\n",
    "               n_jobs=-1,\n",
    "               n_trials=250,\n",
    "               show_progress_bar=True)"
   ]
  },
  {
   "cell_type": "code",
   "execution_count": 16,
   "id": "c63b965f",
   "metadata": {},
   "outputs": [
    {
     "data": {
      "application/vnd.plotly.v1+json": {
       "config": {
        "plotlyServerURL": "https://plot.ly"
       },
       "data": [
        {
         "marker": {
          "color": [
           0,
           1,
           2,
           3,
           4,
           5,
           6,
           7,
           8,
           9,
           10,
           11,
           12,
           13,
           14,
           15,
           16,
           17,
           18,
           19,
           20,
           21,
           22,
           23,
           24,
           25,
           26,
           27,
           28,
           29,
           30,
           31,
           32,
           33,
           34,
           35,
           36,
           37,
           38,
           39,
           40,
           41,
           42,
           43,
           44,
           45,
           46,
           47,
           48,
           49,
           50,
           51,
           52,
           53,
           54,
           55,
           56,
           57,
           58,
           59,
           60,
           61,
           62,
           63,
           64,
           65,
           66,
           67,
           68,
           69,
           70,
           71,
           72,
           73,
           74,
           75,
           76,
           77,
           78,
           79,
           80,
           81,
           82,
           83,
           84,
           85,
           86,
           87,
           88,
           89,
           90,
           91,
           92,
           93,
           94,
           95,
           96,
           97,
           98,
           99,
           100,
           101,
           102,
           103,
           104,
           105,
           106,
           107,
           108,
           109,
           110,
           111,
           112,
           113,
           114,
           115,
           116,
           117,
           118,
           119,
           120,
           121,
           122,
           123,
           124,
           125,
           126,
           127,
           128,
           129,
           130,
           131,
           132,
           133,
           134,
           135,
           136,
           137,
           138,
           139,
           140,
           141,
           142,
           143,
           144,
           145,
           146,
           147,
           148,
           149,
           150,
           151,
           152,
           153,
           154,
           155,
           156,
           157,
           158,
           159,
           160,
           161,
           162,
           163,
           164,
           165,
           166,
           167,
           168,
           169,
           170,
           171,
           172,
           173,
           174,
           175,
           176,
           177,
           178,
           179,
           180,
           181,
           182,
           183,
           184,
           185,
           186,
           187,
           188,
           189,
           190,
           191,
           192,
           193,
           194,
           195,
           196,
           197,
           198,
           199,
           200,
           201,
           202,
           203,
           204,
           205,
           206,
           207,
           208,
           209,
           210,
           211,
           212,
           213,
           214,
           215,
           216,
           217,
           218,
           219,
           220,
           221,
           222,
           223,
           224,
           225,
           226,
           227,
           228,
           229,
           230,
           231,
           232,
           233,
           234,
           235,
           236,
           237,
           238,
           239,
           240,
           241,
           242,
           243,
           244,
           245,
           246,
           247,
           248,
           249
          ],
          "colorbar": {
           "title": {
            "text": "Trial"
           },
           "x": 1,
           "xpad": 40
          },
          "colorscale": [
           [
            0,
            "rgb(247,251,255)"
           ],
           [
            0.125,
            "rgb(222,235,247)"
           ],
           [
            0.25,
            "rgb(198,219,239)"
           ],
           [
            0.375,
            "rgb(158,202,225)"
           ],
           [
            0.5,
            "rgb(107,174,214)"
           ],
           [
            0.625,
            "rgb(66,146,198)"
           ],
           [
            0.75,
            "rgb(33,113,181)"
           ],
           [
            0.875,
            "rgb(8,81,156)"
           ],
           [
            1,
            "rgb(8,48,107)"
           ]
          ],
          "line": {
           "color": "Grey",
           "width": 0.5
          }
         },
         "mode": "markers",
         "name": "Feasible Trial",
         "showlegend": false,
         "type": "scatter",
         "x": [
          4.6286075619905205,
          7.64450955270236,
          8.05779922853765,
          5.077580588723743,
          5.876015796528506,
          8.05354635184339,
          3.6252340190667667,
          7.732623680728887,
          4.311727842541023,
          8.85067568549617,
          2.456881843363517,
          1.9208555503390112,
          0.04547327935733847,
          1.7616986902319196,
          5.504449460534728,
          5.561104232170039,
          5.523372069871124,
          -1.9337160142277856,
          -1.7562926874189326,
          -0.7549824531563569,
          6.62852569847471,
          5.853030050885419,
          3.0325788734974903,
          9.738908054860156,
          9.998735546760528,
          5.004083679995298,
          4.9913233329536695,
          5.125846501492725,
          4.503166967674271,
          6.8771676967158655,
          4.512723792103017,
          6.801037938172528,
          6.848948957279541,
          6.827332987037011,
          6.640690646634723,
          3.4488783328556165,
          3.642957938688549,
          3.2940907272907487,
          3.7167712821854386,
          5.009399524752996,
          3.3583678059059405,
          3.488608760879934,
          3.3079833768321913,
          3.433348608078349,
          3.8081802474501814,
          3.647490070224321,
          4.928799871041078,
          4.996085818143763,
          4.974379389349624,
          4.8958721978518,
          5.077979639736821,
          4.891557387028663,
          5.219590091249504,
          5.035751787759969,
          5.061964373992342,
          6.1470894426758855,
          4.993289306970584,
          6.110597335655484,
          6.1564608972454185,
          6.11885738948768,
          6.093668582990752,
          6.241609067239411,
          7.412981077071623,
          6.030989151383914,
          4.1414201759240425,
          4.190261359313412,
          4.187884589655971,
          7.40641961088123,
          4.205195028736915,
          4.162892626523977,
          4.286967780487911,
          5.5627784911252975,
          5.467192817847357,
          5.53382871733453,
          5.385544710715214,
          5.438090573279893,
          5.521551100828216,
          5.617887658097007,
          5.252229021505824,
          5.396082981473479,
          2.3782613401504156,
          2.1840871706130036,
          4.6543832386871,
          2.548915362958761,
          4.644980279532209,
          4.663166855889589,
          2.7260654127304176,
          1.7364879618529248,
          4.565357911004797,
          4.586819597552853,
          5.143486040451362,
          6.455837476703393,
          5.849651400051957,
          5.128289918772838,
          5.78857874410636,
          5.197725926969678,
          6.495708428600567,
          6.497145849181962,
          6.485361198837492,
          6.4934757350311445,
          5.208060976498633,
          5.221750585159765,
          5.297641216301917,
          5.25716891564614,
          5.154575585070041,
          5.207335345975709,
          5.280151164490365,
          5.169594224475976,
          5.264390441241576,
          5.1561632814156475,
          3.971410843595529,
          5.155914498812879,
          5.211610056999115,
          3.9062825174325977,
          3.9488494021452736,
          5.7865713813519095,
          4.417490777745186,
          5.785219047542386,
          4.768918215289906,
          5.765529220302085,
          5.777320749396278,
          5.714674128180771,
          5.715879222118041,
          5.875849436566878,
          4.787209520775333,
          4.422314942056193,
          4.405350032021085,
          4.715989427274035,
          4.848198388047367,
          4.795830754327893,
          4.756944882454059,
          5.117772266251061,
          5.044419493967075,
          5.107894507397022,
          5.062853985930967,
          5.283461309597855,
          5.115807463636502,
          5.1903327718969114,
          5.142417708713194,
          5.187443377597594,
          5.050043952123016,
          5.1888059161615425,
          5.141233377864039,
          5.512859418878993,
          5.566445570827173,
          8.888711174280843,
          5.562745660244993,
          5.446281481231657,
          5.455845229777685,
          5.520217675762978,
          5.468487236618923,
          6.019854906025912,
          5.479447310668989,
          5.993697489493442,
          6.0823501110896085,
          6.121762472053339,
          6.080955866614065,
          6.070944736006147,
          6.062353844429081,
          4.439610023021375,
          4.876935979120284,
          4.562855766823106,
          4.406129305810807,
          4.499446250723917,
          4.421575207548395,
          4.840544628146936,
          4.921643096282415,
          4.8962594876440955,
          5.111763953079853,
          5.182233476540866,
          4.969074488561387,
          5.126008090195128,
          5.0979039431159965,
          5.164410242762302,
          5.060542323132201,
          5.125222070033959,
          5.197027299994771,
          5.263620387279053,
          5.2549643190160795,
          5.262909565384517,
          5.270988881544668,
          5.222401482576406,
          5.269044528331826,
          5.313025561282149,
          5.319306867940205,
          4.7241363186501335,
          4.642999822285957,
          0.249668412518802,
          4.716636151873925,
          4.6683073585856265,
          5.736557119759746,
          5.741795835644156,
          -0.4977474033442437,
          0.5043258714331391,
          5.7008665617914795,
          4.797788585673019,
          5.690292511157862,
          5.684447409909098,
          5.713529537806367,
          5.696111314446817,
          5.633916900886801,
          4.970977184583587,
          4.967445174240668,
          4.954583053559128,
          4.915077748431559,
          4.951775267261614,
          4.945171840683175,
          4.976990713874049,
          4.92598195175796,
          5.0022720676888985,
          4.997681108174741,
          4.997411013746734,
          5.043544934717689,
          5.425283538523044,
          5.4544635079837995,
          5.440286795622642,
          5.417865651464197,
          5.427311854671233,
          5.414795245204527,
          5.397921087557562,
          5.442695624244007,
          5.331702619173821,
          5.449941879947227,
          5.273923161393019,
          5.415843708377605,
          5.243371280217525,
          5.191512407607535,
          5.195215440415135,
          5.178085760054341,
          5.1967086603361015,
          5.181468378893301,
          5.179619385334455,
          4.607412371221198,
          4.560358422720401,
          4.71989653085488,
          4.602261645991854,
          4.666435856046543,
          4.6663144985003475,
          4.590537142218558,
          4.541128258989373,
          4.547874797353018,
          4.705092084924652,
          4.720656285526768,
          4.698779884695094,
          5.234226031023913,
          5.132691942546128,
          5.126615999868084,
          5.107407042845395,
          5.171922843586655,
          5.177591087841162
         ],
         "y": [
          -236.91046916098566,
          -148.16267442991202,
          -111.43872442889263,
          -240.23763044394073,
          -233.622961334618,
          -111.8527315984358,
          -214.41944032228946,
          -140.91857307127086,
          -231.88833591456603,
          -20.373587605255587,
          -168.66561728697383,
          -143.10362618335432,
          -47.23430011539891,
          -135.1664058176737,
          -238.83579986329488,
          -238.28970450492642,
          -238.66310719727338,
          31.303649477883244,
          26.387252467991804,
          -10.146194178339208,
          -210.3699449764277,
          -234.05948091578367,
          -193.29675206324697,
          116.95420320354147,
          164.75853259797313,
          -240.01613453457227,
          -239.96439057042124,
          -240.31134482863953,
          -235.17319091358436,
          -198.60888230489152,
          -235.3173358733566,
          -202.43720531818943,
          -200.0516093208764,
          -201.13785044995015,
          -209.8438539743828,
          -208.6557374836975,
          -214.97215254221507,
          -203.21925723878635,
          -217.2200356800499,
          -240.03653705576698,
          -205.51812305460845,
          -209.99526957492355,
          -203.72099912942312,
          -208.1258192509466,
          -219.88041080182197,
          -215.1126865300333,
          -239.65472692988837,
          -239.9841594827083,
          -239.88965738688816,
          -239.45450661726684,
          -240.238474487904,
          -239.42638720789145,
          -240.28913407482125,
          -240.12762316951415,
          -240.2015445748413,
          -227.289230931425,
          -239.97261712927644,
          -228.27143191886782,
          -227.0303690131533,
          -228.0526947485107,
          -228.71319370988468,
          -224.55326341777396,
          -165.7326637091941,
          -230.27281484588315,
          -228.35267904636905,
          -229.42385217503778,
          -229.37277672780644,
          -166.20018645722303,
          -229.7422909834101,
          -228.8291873988977,
          -231.4094080066276,
          -238.2722354080996,
          -239.14756795336248,
          -238.56351085177096,
          -239.7011329682364,
          -239.36520227775802,
          -238.68014778406223,
          -237.65422839885431,
          -240.2294356555359,
          -239.6396130046896,
          -165.0514384895665,
          -155.91236873894428,
          -237.22540585533213,
          -172.8275359261719,
          -237.11219942630655,
          -237.32940455207563,
          -180.61293165533982,
          -133.8978922535445,
          -236.07657656270118,
          -236.369199201139,
          -240.32393111056916,
          -217.30420348951503,
          -234.1223458614337,
          -240.31354860159826,
          -235.20165498150473,
          -240.3140269992054,
          -215.79099458061464,
          -215.7354639555307,
          -216.18872082282036,
          -215.87711320570438,
          -240.3037646381137,
          -240.2860182634828,
          -240.10111321875542,
          -240.2180373633573,
          -240.32788563330624,
          -240.30457311501985,
          -240.1568009852916,
          -240.32835258302794,
          -240.20025259855356,
          -240.32820113078134,
          -224.27793839817014,
          -240.3281558468207,
          -240.2996187854651,
          -222.5788393544795,
          -223.69782143027226,
          -235.23530365250588,
          -233.79581446111757,
          -235.25790707296593,
          -238.44722685443958,
          -235.58107012880032,
          -235.38887381829775,
          -236.36456087754593,
          -236.346844185734,
          -233.6261761005768,
          -238.61511573431542,
          -233.87740452682223,
          -233.58837044847726,
          -237.91892250641118,
          -239.11976687475948,
          -238.69161285829048,
          -238.33322872095573,
          -240.3030118471759,
          -240.1539132348133,
          -240.29062730866337,
          -240.20376014871812,
          -240.14686526468014,
          -240.30074029435357,
          -240.3197172165387,
          -240.32338855935427,
          -240.3215674459438,
          -240.1699977128322,
          -240.3207210851706,
          -240.3227539437741,
          -238.76024553548774,
          -238.23370520973023,
          -15.28456906983133,
          -238.2725787006957,
          -239.30623538364648,
          -239.23512013511564,
          -238.6925688884308,
          -239.13736174101342,
          -230.53741607485728,
          -239.04914213734733,
          -231.1443621674166,
          -229.003665872354,
          -227.97526638622685,
          -229.03917670999218,
          -229.29241666246097,
          -229.5072991175383,
          -234.16598012240686,
          -239.32787065188845,
          -236.0418182125673,
          -233.60177614879987,
          -235.11655210400778,
          -233.86492455798017,
          -239.06112064000845,
          -239.61337582886628,
          -239.45700928886558,
          -240.29576557403254,
          -240.32437362769068,
          -239.86485088391774,
          -240.31149513390048,
          -240.27565516041116,
          -240.32882810740705,
          -240.19796290765595,
          -240.31075792521582,
          -240.31462356476334,
          -240.20221256043382,
          -240.22320121290235,
          -240.2040082990537,
          -240.18283577767963,
          -240.2850563814614,
          -240.1880838376797,
          -240.04561041068325,
          -240.02118943008242,
          -238.00432946510125,
          -237.088109127438,
          -57.40519225227677,
          -237.925756482539,
          -237.38948216110532,
          -236.03643748088024,
          -235.95586923708368,
          -21.476952821105485,
          -70.34672889974313,
          -236.56462357448117,
          -238.70874918442848,
          -236.71419806227718,
          -236.79552867137988,
          -236.38135003659812,
          -236.63227838320597,
          -237.45872004621592,
          -239.8738252991666,
          -239.8570973989474,
          -239.79367350743948,
          -239.5743819693325,
          -239.7793057235109,
          -239.7447786584969,
          -239.90162191026292,
          -239.63858927001394,
          -240.00902631152755,
          -239.99065991805668,
          -239.9895636381427,
          -240.1513432345742,
          -239.45382172646552,
          -239.24554550492192,
          -239.34956695420118,
          -239.50315794088266,
          -239.4400771769112,
          -239.5231521999832,
          -239.6285827478592,
          -239.33227027849523,
          -239.96999482535128,
          -239.2793054791956,
          -240.1747323427545,
          -239.51635277107138,
          -240.2483153817337,
          -240.31890150221042,
          -240.31611346501495,
          -240.32612067741502,
          -240.31489157339414,
          -240.32472835120706,
          -240.32552497585485,
          -236.64065651609346,
          -236.00699309082106,
          -237.96006702723093,
          -236.57361754138472,
          -237.36767699380562,
          -237.36626037756042,
          -236.41888105994968,
          -235.73437527603363,
          -235.83091497045217,
          -237.80236854064154,
          -237.96802821547706,
          -237.7336476171707,
          -240.26571205124407,
          -240.31714562363382,
          -240.3120548038914,
          -240.2899538201955,
          -240.3279202012982,
          -240.32630024429454
         ]
        }
       ],
       "layout": {
        "template": {
         "data": {
          "bar": [
           {
            "error_x": {
             "color": "#2a3f5f"
            },
            "error_y": {
             "color": "#2a3f5f"
            },
            "marker": {
             "line": {
              "color": "#E5ECF6",
              "width": 0.5
             },
             "pattern": {
              "fillmode": "overlay",
              "size": 10,
              "solidity": 0.2
             }
            },
            "type": "bar"
           }
          ],
          "barpolar": [
           {
            "marker": {
             "line": {
              "color": "#E5ECF6",
              "width": 0.5
             },
             "pattern": {
              "fillmode": "overlay",
              "size": 10,
              "solidity": 0.2
             }
            },
            "type": "barpolar"
           }
          ],
          "carpet": [
           {
            "aaxis": {
             "endlinecolor": "#2a3f5f",
             "gridcolor": "white",
             "linecolor": "white",
             "minorgridcolor": "white",
             "startlinecolor": "#2a3f5f"
            },
            "baxis": {
             "endlinecolor": "#2a3f5f",
             "gridcolor": "white",
             "linecolor": "white",
             "minorgridcolor": "white",
             "startlinecolor": "#2a3f5f"
            },
            "type": "carpet"
           }
          ],
          "choropleth": [
           {
            "colorbar": {
             "outlinewidth": 0,
             "ticks": ""
            },
            "type": "choropleth"
           }
          ],
          "contour": [
           {
            "colorbar": {
             "outlinewidth": 0,
             "ticks": ""
            },
            "colorscale": [
             [
              0,
              "#0d0887"
             ],
             [
              0.1111111111111111,
              "#46039f"
             ],
             [
              0.2222222222222222,
              "#7201a8"
             ],
             [
              0.3333333333333333,
              "#9c179e"
             ],
             [
              0.4444444444444444,
              "#bd3786"
             ],
             [
              0.5555555555555556,
              "#d8576b"
             ],
             [
              0.6666666666666666,
              "#ed7953"
             ],
             [
              0.7777777777777778,
              "#fb9f3a"
             ],
             [
              0.8888888888888888,
              "#fdca26"
             ],
             [
              1,
              "#f0f921"
             ]
            ],
            "type": "contour"
           }
          ],
          "contourcarpet": [
           {
            "colorbar": {
             "outlinewidth": 0,
             "ticks": ""
            },
            "type": "contourcarpet"
           }
          ],
          "heatmap": [
           {
            "colorbar": {
             "outlinewidth": 0,
             "ticks": ""
            },
            "colorscale": [
             [
              0,
              "#0d0887"
             ],
             [
              0.1111111111111111,
              "#46039f"
             ],
             [
              0.2222222222222222,
              "#7201a8"
             ],
             [
              0.3333333333333333,
              "#9c179e"
             ],
             [
              0.4444444444444444,
              "#bd3786"
             ],
             [
              0.5555555555555556,
              "#d8576b"
             ],
             [
              0.6666666666666666,
              "#ed7953"
             ],
             [
              0.7777777777777778,
              "#fb9f3a"
             ],
             [
              0.8888888888888888,
              "#fdca26"
             ],
             [
              1,
              "#f0f921"
             ]
            ],
            "type": "heatmap"
           }
          ],
          "heatmapgl": [
           {
            "colorbar": {
             "outlinewidth": 0,
             "ticks": ""
            },
            "colorscale": [
             [
              0,
              "#0d0887"
             ],
             [
              0.1111111111111111,
              "#46039f"
             ],
             [
              0.2222222222222222,
              "#7201a8"
             ],
             [
              0.3333333333333333,
              "#9c179e"
             ],
             [
              0.4444444444444444,
              "#bd3786"
             ],
             [
              0.5555555555555556,
              "#d8576b"
             ],
             [
              0.6666666666666666,
              "#ed7953"
             ],
             [
              0.7777777777777778,
              "#fb9f3a"
             ],
             [
              0.8888888888888888,
              "#fdca26"
             ],
             [
              1,
              "#f0f921"
             ]
            ],
            "type": "heatmapgl"
           }
          ],
          "histogram": [
           {
            "marker": {
             "pattern": {
              "fillmode": "overlay",
              "size": 10,
              "solidity": 0.2
             }
            },
            "type": "histogram"
           }
          ],
          "histogram2d": [
           {
            "colorbar": {
             "outlinewidth": 0,
             "ticks": ""
            },
            "colorscale": [
             [
              0,
              "#0d0887"
             ],
             [
              0.1111111111111111,
              "#46039f"
             ],
             [
              0.2222222222222222,
              "#7201a8"
             ],
             [
              0.3333333333333333,
              "#9c179e"
             ],
             [
              0.4444444444444444,
              "#bd3786"
             ],
             [
              0.5555555555555556,
              "#d8576b"
             ],
             [
              0.6666666666666666,
              "#ed7953"
             ],
             [
              0.7777777777777778,
              "#fb9f3a"
             ],
             [
              0.8888888888888888,
              "#fdca26"
             ],
             [
              1,
              "#f0f921"
             ]
            ],
            "type": "histogram2d"
           }
          ],
          "histogram2dcontour": [
           {
            "colorbar": {
             "outlinewidth": 0,
             "ticks": ""
            },
            "colorscale": [
             [
              0,
              "#0d0887"
             ],
             [
              0.1111111111111111,
              "#46039f"
             ],
             [
              0.2222222222222222,
              "#7201a8"
             ],
             [
              0.3333333333333333,
              "#9c179e"
             ],
             [
              0.4444444444444444,
              "#bd3786"
             ],
             [
              0.5555555555555556,
              "#d8576b"
             ],
             [
              0.6666666666666666,
              "#ed7953"
             ],
             [
              0.7777777777777778,
              "#fb9f3a"
             ],
             [
              0.8888888888888888,
              "#fdca26"
             ],
             [
              1,
              "#f0f921"
             ]
            ],
            "type": "histogram2dcontour"
           }
          ],
          "mesh3d": [
           {
            "colorbar": {
             "outlinewidth": 0,
             "ticks": ""
            },
            "type": "mesh3d"
           }
          ],
          "parcoords": [
           {
            "line": {
             "colorbar": {
              "outlinewidth": 0,
              "ticks": ""
             }
            },
            "type": "parcoords"
           }
          ],
          "pie": [
           {
            "automargin": true,
            "type": "pie"
           }
          ],
          "scatter": [
           {
            "fillpattern": {
             "fillmode": "overlay",
             "size": 10,
             "solidity": 0.2
            },
            "type": "scatter"
           }
          ],
          "scatter3d": [
           {
            "line": {
             "colorbar": {
              "outlinewidth": 0,
              "ticks": ""
             }
            },
            "marker": {
             "colorbar": {
              "outlinewidth": 0,
              "ticks": ""
             }
            },
            "type": "scatter3d"
           }
          ],
          "scattercarpet": [
           {
            "marker": {
             "colorbar": {
              "outlinewidth": 0,
              "ticks": ""
             }
            },
            "type": "scattercarpet"
           }
          ],
          "scattergeo": [
           {
            "marker": {
             "colorbar": {
              "outlinewidth": 0,
              "ticks": ""
             }
            },
            "type": "scattergeo"
           }
          ],
          "scattergl": [
           {
            "marker": {
             "colorbar": {
              "outlinewidth": 0,
              "ticks": ""
             }
            },
            "type": "scattergl"
           }
          ],
          "scattermapbox": [
           {
            "marker": {
             "colorbar": {
              "outlinewidth": 0,
              "ticks": ""
             }
            },
            "type": "scattermapbox"
           }
          ],
          "scatterpolar": [
           {
            "marker": {
             "colorbar": {
              "outlinewidth": 0,
              "ticks": ""
             }
            },
            "type": "scatterpolar"
           }
          ],
          "scatterpolargl": [
           {
            "marker": {
             "colorbar": {
              "outlinewidth": 0,
              "ticks": ""
             }
            },
            "type": "scatterpolargl"
           }
          ],
          "scatterternary": [
           {
            "marker": {
             "colorbar": {
              "outlinewidth": 0,
              "ticks": ""
             }
            },
            "type": "scatterternary"
           }
          ],
          "surface": [
           {
            "colorbar": {
             "outlinewidth": 0,
             "ticks": ""
            },
            "colorscale": [
             [
              0,
              "#0d0887"
             ],
             [
              0.1111111111111111,
              "#46039f"
             ],
             [
              0.2222222222222222,
              "#7201a8"
             ],
             [
              0.3333333333333333,
              "#9c179e"
             ],
             [
              0.4444444444444444,
              "#bd3786"
             ],
             [
              0.5555555555555556,
              "#d8576b"
             ],
             [
              0.6666666666666666,
              "#ed7953"
             ],
             [
              0.7777777777777778,
              "#fb9f3a"
             ],
             [
              0.8888888888888888,
              "#fdca26"
             ],
             [
              1,
              "#f0f921"
             ]
            ],
            "type": "surface"
           }
          ],
          "table": [
           {
            "cells": {
             "fill": {
              "color": "#EBF0F8"
             },
             "line": {
              "color": "white"
             }
            },
            "header": {
             "fill": {
              "color": "#C8D4E3"
             },
             "line": {
              "color": "white"
             }
            },
            "type": "table"
           }
          ]
         },
         "layout": {
          "annotationdefaults": {
           "arrowcolor": "#2a3f5f",
           "arrowhead": 0,
           "arrowwidth": 1
          },
          "autotypenumbers": "strict",
          "coloraxis": {
           "colorbar": {
            "outlinewidth": 0,
            "ticks": ""
           }
          },
          "colorscale": {
           "diverging": [
            [
             0,
             "#8e0152"
            ],
            [
             0.1,
             "#c51b7d"
            ],
            [
             0.2,
             "#de77ae"
            ],
            [
             0.3,
             "#f1b6da"
            ],
            [
             0.4,
             "#fde0ef"
            ],
            [
             0.5,
             "#f7f7f7"
            ],
            [
             0.6,
             "#e6f5d0"
            ],
            [
             0.7,
             "#b8e186"
            ],
            [
             0.8,
             "#7fbc41"
            ],
            [
             0.9,
             "#4d9221"
            ],
            [
             1,
             "#276419"
            ]
           ],
           "sequential": [
            [
             0,
             "#0d0887"
            ],
            [
             0.1111111111111111,
             "#46039f"
            ],
            [
             0.2222222222222222,
             "#7201a8"
            ],
            [
             0.3333333333333333,
             "#9c179e"
            ],
            [
             0.4444444444444444,
             "#bd3786"
            ],
            [
             0.5555555555555556,
             "#d8576b"
            ],
            [
             0.6666666666666666,
             "#ed7953"
            ],
            [
             0.7777777777777778,
             "#fb9f3a"
            ],
            [
             0.8888888888888888,
             "#fdca26"
            ],
            [
             1,
             "#f0f921"
            ]
           ],
           "sequentialminus": [
            [
             0,
             "#0d0887"
            ],
            [
             0.1111111111111111,
             "#46039f"
            ],
            [
             0.2222222222222222,
             "#7201a8"
            ],
            [
             0.3333333333333333,
             "#9c179e"
            ],
            [
             0.4444444444444444,
             "#bd3786"
            ],
            [
             0.5555555555555556,
             "#d8576b"
            ],
            [
             0.6666666666666666,
             "#ed7953"
            ],
            [
             0.7777777777777778,
             "#fb9f3a"
            ],
            [
             0.8888888888888888,
             "#fdca26"
            ],
            [
             1,
             "#f0f921"
            ]
           ]
          },
          "colorway": [
           "#636efa",
           "#EF553B",
           "#00cc96",
           "#ab63fa",
           "#FFA15A",
           "#19d3f3",
           "#FF6692",
           "#B6E880",
           "#FF97FF",
           "#FECB52"
          ],
          "font": {
           "color": "#2a3f5f"
          },
          "geo": {
           "bgcolor": "white",
           "lakecolor": "white",
           "landcolor": "#E5ECF6",
           "showlakes": true,
           "showland": true,
           "subunitcolor": "white"
          },
          "hoverlabel": {
           "align": "left"
          },
          "hovermode": "closest",
          "mapbox": {
           "style": "light"
          },
          "paper_bgcolor": "white",
          "plot_bgcolor": "#E5ECF6",
          "polar": {
           "angularaxis": {
            "gridcolor": "white",
            "linecolor": "white",
            "ticks": ""
           },
           "bgcolor": "#E5ECF6",
           "radialaxis": {
            "gridcolor": "white",
            "linecolor": "white",
            "ticks": ""
           }
          },
          "scene": {
           "xaxis": {
            "backgroundcolor": "#E5ECF6",
            "gridcolor": "white",
            "gridwidth": 2,
            "linecolor": "white",
            "showbackground": true,
            "ticks": "",
            "zerolinecolor": "white"
           },
           "yaxis": {
            "backgroundcolor": "#E5ECF6",
            "gridcolor": "white",
            "gridwidth": 2,
            "linecolor": "white",
            "showbackground": true,
            "ticks": "",
            "zerolinecolor": "white"
           },
           "zaxis": {
            "backgroundcolor": "#E5ECF6",
            "gridcolor": "white",
            "gridwidth": 2,
            "linecolor": "white",
            "showbackground": true,
            "ticks": "",
            "zerolinecolor": "white"
           }
          },
          "shapedefaults": {
           "line": {
            "color": "#2a3f5f"
           }
          },
          "ternary": {
           "aaxis": {
            "gridcolor": "white",
            "linecolor": "white",
            "ticks": ""
           },
           "baxis": {
            "gridcolor": "white",
            "linecolor": "white",
            "ticks": ""
           },
           "bgcolor": "#E5ECF6",
           "caxis": {
            "gridcolor": "white",
            "linecolor": "white",
            "ticks": ""
           }
          },
          "title": {
           "x": 0.05
          },
          "xaxis": {
           "automargin": true,
           "gridcolor": "white",
           "linecolor": "white",
           "ticks": "",
           "title": {
            "standoff": 15
           },
           "zerolinecolor": "white",
           "zerolinewidth": 2
          },
          "yaxis": {
           "automargin": true,
           "gridcolor": "white",
           "linecolor": "white",
           "ticks": "",
           "title": {
            "standoff": 15
           },
           "zerolinecolor": "white",
           "zerolinewidth": 2
          }
         }
        },
        "title": {
         "text": "Slice Plot"
        },
        "xaxis": {
         "title": {
          "text": "x"
         }
        },
        "yaxis": {
         "title": {
          "text": "Objective Value"
         }
        }
       }
      }
     },
     "metadata": {},
     "output_type": "display_data"
    }
   ],
   "source": [
    "optuna.visualization.plot_slice(study)"
   ]
  },
  {
   "cell_type": "code",
   "execution_count": 17,
   "id": "125bd099",
   "metadata": {},
   "outputs": [
    {
     "data": {
      "application/vnd.plotly.v1+json": {
       "config": {
        "plotlyServerURL": "https://plot.ly"
       },
       "data": [
        {
         "mode": "markers",
         "name": "Objective Value",
         "type": "scatter",
         "x": [
          0,
          1,
          2,
          3,
          4,
          5,
          6,
          7,
          8,
          9,
          10,
          11,
          12,
          13,
          14,
          15,
          16,
          17,
          18,
          19,
          20,
          21,
          22,
          23,
          24,
          25,
          26,
          27,
          28,
          29,
          30,
          31,
          32,
          33,
          34,
          35,
          36,
          37,
          38,
          39,
          40,
          41,
          42,
          43,
          44,
          45,
          46,
          47,
          48,
          49,
          50,
          51,
          52,
          53,
          54,
          55,
          56,
          57,
          58,
          59,
          60,
          61,
          62,
          63,
          64,
          65,
          66,
          67,
          68,
          69,
          70,
          71,
          72,
          73,
          74,
          75,
          76,
          77,
          78,
          79,
          80,
          81,
          82,
          83,
          84,
          85,
          86,
          87,
          88,
          89,
          90,
          91,
          92,
          93,
          94,
          95,
          96,
          97,
          98,
          99,
          100,
          101,
          102,
          103,
          104,
          105,
          106,
          107,
          108,
          109,
          110,
          111,
          112,
          113,
          114,
          115,
          116,
          117,
          118,
          119,
          120,
          121,
          122,
          123,
          124,
          125,
          126,
          127,
          128,
          129,
          130,
          131,
          132,
          133,
          134,
          135,
          136,
          137,
          138,
          139,
          140,
          141,
          142,
          143,
          144,
          145,
          146,
          147,
          148,
          149,
          150,
          151,
          152,
          153,
          154,
          155,
          156,
          157,
          158,
          159,
          160,
          161,
          162,
          163,
          164,
          165,
          166,
          167,
          168,
          169,
          170,
          171,
          172,
          173,
          174,
          175,
          176,
          177,
          178,
          179,
          180,
          181,
          182,
          183,
          184,
          185,
          186,
          187,
          188,
          189,
          190,
          191,
          192,
          193,
          194,
          195,
          196,
          197,
          198,
          199,
          200,
          201,
          202,
          203,
          204,
          205,
          206,
          207,
          208,
          209,
          210,
          211,
          212,
          213,
          214,
          215,
          216,
          217,
          218,
          219,
          220,
          221,
          222,
          223,
          224,
          225,
          226,
          227,
          228,
          229,
          230,
          231,
          232,
          233,
          234,
          235,
          236,
          237,
          238,
          239,
          240,
          241,
          242,
          243,
          244,
          245,
          246,
          247,
          248,
          249
         ],
         "y": [
          -236.91046916098566,
          -148.16267442991202,
          -111.43872442889263,
          -240.23763044394073,
          -233.622961334618,
          -111.8527315984358,
          -214.41944032228946,
          -140.91857307127086,
          -231.88833591456603,
          -20.373587605255587,
          -168.66561728697383,
          -143.10362618335432,
          -47.23430011539891,
          -135.1664058176737,
          -238.83579986329488,
          -238.28970450492642,
          -238.66310719727338,
          31.303649477883244,
          26.387252467991804,
          -10.146194178339208,
          -210.3699449764277,
          -234.05948091578367,
          -193.29675206324697,
          116.95420320354147,
          164.75853259797313,
          -240.01613453457227,
          -239.96439057042124,
          -240.31134482863953,
          -235.17319091358436,
          -198.60888230489152,
          -235.3173358733566,
          -202.43720531818943,
          -200.0516093208764,
          -201.13785044995015,
          -209.8438539743828,
          -208.6557374836975,
          -214.97215254221507,
          -203.21925723878635,
          -217.2200356800499,
          -240.03653705576698,
          -205.51812305460845,
          -209.99526957492355,
          -203.72099912942312,
          -208.1258192509466,
          -219.88041080182197,
          -215.1126865300333,
          -239.65472692988837,
          -239.9841594827083,
          -239.88965738688816,
          -239.45450661726684,
          -240.238474487904,
          -239.42638720789145,
          -240.28913407482125,
          -240.12762316951415,
          -240.2015445748413,
          -227.289230931425,
          -239.97261712927644,
          -228.27143191886782,
          -227.0303690131533,
          -228.0526947485107,
          -228.71319370988468,
          -224.55326341777396,
          -165.7326637091941,
          -230.27281484588315,
          -228.35267904636905,
          -229.42385217503778,
          -229.37277672780644,
          -166.20018645722303,
          -229.7422909834101,
          -228.8291873988977,
          -231.4094080066276,
          -238.2722354080996,
          -239.14756795336248,
          -238.56351085177096,
          -239.7011329682364,
          -239.36520227775802,
          -238.68014778406223,
          -237.65422839885431,
          -240.2294356555359,
          -239.6396130046896,
          -165.0514384895665,
          -155.91236873894428,
          -237.22540585533213,
          -172.8275359261719,
          -237.11219942630655,
          -237.32940455207563,
          -180.61293165533982,
          -133.8978922535445,
          -236.07657656270118,
          -236.369199201139,
          -240.32393111056916,
          -217.30420348951503,
          -234.1223458614337,
          -240.31354860159826,
          -235.20165498150473,
          -240.3140269992054,
          -215.79099458061464,
          -215.7354639555307,
          -216.18872082282036,
          -215.87711320570438,
          -240.3037646381137,
          -240.2860182634828,
          -240.10111321875542,
          -240.2180373633573,
          -240.32788563330624,
          -240.30457311501985,
          -240.1568009852916,
          -240.32835258302794,
          -240.20025259855356,
          -240.32820113078134,
          -224.27793839817014,
          -240.3281558468207,
          -240.2996187854651,
          -222.5788393544795,
          -223.69782143027226,
          -235.23530365250588,
          -233.79581446111757,
          -235.25790707296593,
          -238.44722685443958,
          -235.58107012880032,
          -235.38887381829775,
          -236.36456087754593,
          -236.346844185734,
          -233.6261761005768,
          -238.61511573431542,
          -233.87740452682223,
          -233.58837044847726,
          -237.91892250641118,
          -239.11976687475948,
          -238.69161285829048,
          -238.33322872095573,
          -240.3030118471759,
          -240.1539132348133,
          -240.29062730866337,
          -240.20376014871812,
          -240.14686526468014,
          -240.30074029435357,
          -240.3197172165387,
          -240.32338855935427,
          -240.3215674459438,
          -240.1699977128322,
          -240.3207210851706,
          -240.3227539437741,
          -238.76024553548774,
          -238.23370520973023,
          -15.28456906983133,
          -238.2725787006957,
          -239.30623538364648,
          -239.23512013511564,
          -238.6925688884308,
          -239.13736174101342,
          -230.53741607485728,
          -239.04914213734733,
          -231.1443621674166,
          -229.003665872354,
          -227.97526638622685,
          -229.03917670999218,
          -229.29241666246097,
          -229.5072991175383,
          -234.16598012240686,
          -239.32787065188845,
          -236.0418182125673,
          -233.60177614879987,
          -235.11655210400778,
          -233.86492455798017,
          -239.06112064000845,
          -239.61337582886628,
          -239.45700928886558,
          -240.29576557403254,
          -240.32437362769068,
          -239.86485088391774,
          -240.31149513390048,
          -240.27565516041116,
          -240.32882810740705,
          -240.19796290765595,
          -240.31075792521582,
          -240.31462356476334,
          -240.20221256043382,
          -240.22320121290235,
          -240.2040082990537,
          -240.18283577767963,
          -240.2850563814614,
          -240.1880838376797,
          -240.04561041068325,
          -240.02118943008242,
          -238.00432946510125,
          -237.088109127438,
          -57.40519225227677,
          -237.925756482539,
          -237.38948216110532,
          -236.03643748088024,
          -235.95586923708368,
          -21.476952821105485,
          -70.34672889974313,
          -236.56462357448117,
          -238.70874918442848,
          -236.71419806227718,
          -236.79552867137988,
          -236.38135003659812,
          -236.63227838320597,
          -237.45872004621592,
          -239.8738252991666,
          -239.8570973989474,
          -239.79367350743948,
          -239.5743819693325,
          -239.7793057235109,
          -239.7447786584969,
          -239.90162191026292,
          -239.63858927001394,
          -240.00902631152755,
          -239.99065991805668,
          -239.9895636381427,
          -240.1513432345742,
          -239.45382172646552,
          -239.24554550492192,
          -239.34956695420118,
          -239.50315794088266,
          -239.4400771769112,
          -239.5231521999832,
          -239.6285827478592,
          -239.33227027849523,
          -239.96999482535128,
          -239.2793054791956,
          -240.1747323427545,
          -239.51635277107138,
          -240.2483153817337,
          -240.31890150221042,
          -240.31611346501495,
          -240.32612067741502,
          -240.31489157339414,
          -240.32472835120706,
          -240.32552497585485,
          -236.64065651609346,
          -236.00699309082106,
          -237.96006702723093,
          -236.57361754138472,
          -237.36767699380562,
          -237.36626037756042,
          -236.41888105994968,
          -235.73437527603363,
          -235.83091497045217,
          -237.80236854064154,
          -237.96802821547706,
          -237.7336476171707,
          -240.26571205124407,
          -240.31714562363382,
          -240.3120548038914,
          -240.2899538201955,
          -240.3279202012982,
          -240.32630024429454
         ]
        },
        {
         "mode": "lines",
         "name": "Best Value",
         "type": "scatter",
         "x": [
          0,
          1,
          2,
          3,
          4,
          5,
          6,
          7,
          8,
          9,
          10,
          11,
          12,
          13,
          14,
          15,
          16,
          17,
          18,
          19,
          20,
          21,
          22,
          23,
          24,
          25,
          26,
          27,
          28,
          29,
          30,
          31,
          32,
          33,
          34,
          35,
          36,
          37,
          38,
          39,
          40,
          41,
          42,
          43,
          44,
          45,
          46,
          47,
          48,
          49,
          50,
          51,
          52,
          53,
          54,
          55,
          56,
          57,
          58,
          59,
          60,
          61,
          62,
          63,
          64,
          65,
          66,
          67,
          68,
          69,
          70,
          71,
          72,
          73,
          74,
          75,
          76,
          77,
          78,
          79,
          80,
          81,
          82,
          83,
          84,
          85,
          86,
          87,
          88,
          89,
          90,
          91,
          92,
          93,
          94,
          95,
          96,
          97,
          98,
          99,
          100,
          101,
          102,
          103,
          104,
          105,
          106,
          107,
          108,
          109,
          110,
          111,
          112,
          113,
          114,
          115,
          116,
          117,
          118,
          119,
          120,
          121,
          122,
          123,
          124,
          125,
          126,
          127,
          128,
          129,
          130,
          131,
          132,
          133,
          134,
          135,
          136,
          137,
          138,
          139,
          140,
          141,
          142,
          143,
          144,
          145,
          146,
          147,
          148,
          149,
          150,
          151,
          152,
          153,
          154,
          155,
          156,
          157,
          158,
          159,
          160,
          161,
          162,
          163,
          164,
          165,
          166,
          167,
          168,
          169,
          170,
          171,
          172,
          173,
          174,
          175,
          176,
          177,
          178,
          179,
          180,
          181,
          182,
          183,
          184,
          185,
          186,
          187,
          188,
          189,
          190,
          191,
          192,
          193,
          194,
          195,
          196,
          197,
          198,
          199,
          200,
          201,
          202,
          203,
          204,
          205,
          206,
          207,
          208,
          209,
          210,
          211,
          212,
          213,
          214,
          215,
          216,
          217,
          218,
          219,
          220,
          221,
          222,
          223,
          224,
          225,
          226,
          227,
          228,
          229,
          230,
          231,
          232,
          233,
          234,
          235,
          236,
          237,
          238,
          239,
          240,
          241,
          242,
          243,
          244,
          245,
          246,
          247,
          248,
          249
         ],
         "y": [
          -236.91046916098566,
          -236.91046916098566,
          -236.91046916098566,
          -240.23763044394073,
          -240.23763044394073,
          -240.23763044394073,
          -240.23763044394073,
          -240.23763044394073,
          -240.23763044394073,
          -240.23763044394073,
          -240.23763044394073,
          -240.23763044394073,
          -240.23763044394073,
          -240.23763044394073,
          -240.23763044394073,
          -240.23763044394073,
          -240.23763044394073,
          -240.23763044394073,
          -240.23763044394073,
          -240.23763044394073,
          -240.23763044394073,
          -240.23763044394073,
          -240.23763044394073,
          -240.23763044394073,
          -240.23763044394073,
          -240.23763044394073,
          -240.23763044394073,
          -240.31134482863953,
          -240.31134482863953,
          -240.31134482863953,
          -240.31134482863953,
          -240.31134482863953,
          -240.31134482863953,
          -240.31134482863953,
          -240.31134482863953,
          -240.31134482863953,
          -240.31134482863953,
          -240.31134482863953,
          -240.31134482863953,
          -240.31134482863953,
          -240.31134482863953,
          -240.31134482863953,
          -240.31134482863953,
          -240.31134482863953,
          -240.31134482863953,
          -240.31134482863953,
          -240.31134482863953,
          -240.31134482863953,
          -240.31134482863953,
          -240.31134482863953,
          -240.31134482863953,
          -240.31134482863953,
          -240.31134482863953,
          -240.31134482863953,
          -240.31134482863953,
          -240.31134482863953,
          -240.31134482863953,
          -240.31134482863953,
          -240.31134482863953,
          -240.31134482863953,
          -240.31134482863953,
          -240.31134482863953,
          -240.31134482863953,
          -240.31134482863953,
          -240.31134482863953,
          -240.31134482863953,
          -240.31134482863953,
          -240.31134482863953,
          -240.31134482863953,
          -240.31134482863953,
          -240.31134482863953,
          -240.31134482863953,
          -240.31134482863953,
          -240.31134482863953,
          -240.31134482863953,
          -240.31134482863953,
          -240.31134482863953,
          -240.31134482863953,
          -240.31134482863953,
          -240.31134482863953,
          -240.31134482863953,
          -240.31134482863953,
          -240.31134482863953,
          -240.31134482863953,
          -240.31134482863953,
          -240.31134482863953,
          -240.31134482863953,
          -240.31134482863953,
          -240.31134482863953,
          -240.31134482863953,
          -240.32393111056916,
          -240.32393111056916,
          -240.32393111056916,
          -240.32393111056916,
          -240.32393111056916,
          -240.32393111056916,
          -240.32393111056916,
          -240.32393111056916,
          -240.32393111056916,
          -240.32393111056916,
          -240.32393111056916,
          -240.32393111056916,
          -240.32393111056916,
          -240.32393111056916,
          -240.32788563330624,
          -240.32788563330624,
          -240.32788563330624,
          -240.32835258302794,
          -240.32835258302794,
          -240.32835258302794,
          -240.32835258302794,
          -240.32835258302794,
          -240.32835258302794,
          -240.32835258302794,
          -240.32835258302794,
          -240.32835258302794,
          -240.32835258302794,
          -240.32835258302794,
          -240.32835258302794,
          -240.32835258302794,
          -240.32835258302794,
          -240.32835258302794,
          -240.32835258302794,
          -240.32835258302794,
          -240.32835258302794,
          -240.32835258302794,
          -240.32835258302794,
          -240.32835258302794,
          -240.32835258302794,
          -240.32835258302794,
          -240.32835258302794,
          -240.32835258302794,
          -240.32835258302794,
          -240.32835258302794,
          -240.32835258302794,
          -240.32835258302794,
          -240.32835258302794,
          -240.32835258302794,
          -240.32835258302794,
          -240.32835258302794,
          -240.32835258302794,
          -240.32835258302794,
          -240.32835258302794,
          -240.32835258302794,
          -240.32835258302794,
          -240.32835258302794,
          -240.32835258302794,
          -240.32835258302794,
          -240.32835258302794,
          -240.32835258302794,
          -240.32835258302794,
          -240.32835258302794,
          -240.32835258302794,
          -240.32835258302794,
          -240.32835258302794,
          -240.32835258302794,
          -240.32835258302794,
          -240.32835258302794,
          -240.32835258302794,
          -240.32835258302794,
          -240.32835258302794,
          -240.32835258302794,
          -240.32835258302794,
          -240.32835258302794,
          -240.32835258302794,
          -240.32835258302794,
          -240.32835258302794,
          -240.32835258302794,
          -240.32835258302794,
          -240.32835258302794,
          -240.32835258302794,
          -240.32835258302794,
          -240.32835258302794,
          -240.32882810740705,
          -240.32882810740705,
          -240.32882810740705,
          -240.32882810740705,
          -240.32882810740705,
          -240.32882810740705,
          -240.32882810740705,
          -240.32882810740705,
          -240.32882810740705,
          -240.32882810740705,
          -240.32882810740705,
          -240.32882810740705,
          -240.32882810740705,
          -240.32882810740705,
          -240.32882810740705,
          -240.32882810740705,
          -240.32882810740705,
          -240.32882810740705,
          -240.32882810740705,
          -240.32882810740705,
          -240.32882810740705,
          -240.32882810740705,
          -240.32882810740705,
          -240.32882810740705,
          -240.32882810740705,
          -240.32882810740705,
          -240.32882810740705,
          -240.32882810740705,
          -240.32882810740705,
          -240.32882810740705,
          -240.32882810740705,
          -240.32882810740705,
          -240.32882810740705,
          -240.32882810740705,
          -240.32882810740705,
          -240.32882810740705,
          -240.32882810740705,
          -240.32882810740705,
          -240.32882810740705,
          -240.32882810740705,
          -240.32882810740705,
          -240.32882810740705,
          -240.32882810740705,
          -240.32882810740705,
          -240.32882810740705,
          -240.32882810740705,
          -240.32882810740705,
          -240.32882810740705,
          -240.32882810740705,
          -240.32882810740705,
          -240.32882810740705,
          -240.32882810740705,
          -240.32882810740705,
          -240.32882810740705,
          -240.32882810740705,
          -240.32882810740705,
          -240.32882810740705,
          -240.32882810740705,
          -240.32882810740705,
          -240.32882810740705,
          -240.32882810740705,
          -240.32882810740705,
          -240.32882810740705,
          -240.32882810740705,
          -240.32882810740705,
          -240.32882810740705,
          -240.32882810740705,
          -240.32882810740705,
          -240.32882810740705,
          -240.32882810740705,
          -240.32882810740705,
          -240.32882810740705,
          -240.32882810740705,
          -240.32882810740705,
          -240.32882810740705,
          -240.32882810740705,
          -240.32882810740705
         ]
        },
        {
         "marker": {
          "color": "#cccccc"
         },
         "mode": "markers",
         "name": "Infeasible Trial",
         "showlegend": false,
         "type": "scatter",
         "x": [],
         "y": []
        }
       ],
       "layout": {
        "template": {
         "data": {
          "bar": [
           {
            "error_x": {
             "color": "#2a3f5f"
            },
            "error_y": {
             "color": "#2a3f5f"
            },
            "marker": {
             "line": {
              "color": "#E5ECF6",
              "width": 0.5
             },
             "pattern": {
              "fillmode": "overlay",
              "size": 10,
              "solidity": 0.2
             }
            },
            "type": "bar"
           }
          ],
          "barpolar": [
           {
            "marker": {
             "line": {
              "color": "#E5ECF6",
              "width": 0.5
             },
             "pattern": {
              "fillmode": "overlay",
              "size": 10,
              "solidity": 0.2
             }
            },
            "type": "barpolar"
           }
          ],
          "carpet": [
           {
            "aaxis": {
             "endlinecolor": "#2a3f5f",
             "gridcolor": "white",
             "linecolor": "white",
             "minorgridcolor": "white",
             "startlinecolor": "#2a3f5f"
            },
            "baxis": {
             "endlinecolor": "#2a3f5f",
             "gridcolor": "white",
             "linecolor": "white",
             "minorgridcolor": "white",
             "startlinecolor": "#2a3f5f"
            },
            "type": "carpet"
           }
          ],
          "choropleth": [
           {
            "colorbar": {
             "outlinewidth": 0,
             "ticks": ""
            },
            "type": "choropleth"
           }
          ],
          "contour": [
           {
            "colorbar": {
             "outlinewidth": 0,
             "ticks": ""
            },
            "colorscale": [
             [
              0,
              "#0d0887"
             ],
             [
              0.1111111111111111,
              "#46039f"
             ],
             [
              0.2222222222222222,
              "#7201a8"
             ],
             [
              0.3333333333333333,
              "#9c179e"
             ],
             [
              0.4444444444444444,
              "#bd3786"
             ],
             [
              0.5555555555555556,
              "#d8576b"
             ],
             [
              0.6666666666666666,
              "#ed7953"
             ],
             [
              0.7777777777777778,
              "#fb9f3a"
             ],
             [
              0.8888888888888888,
              "#fdca26"
             ],
             [
              1,
              "#f0f921"
             ]
            ],
            "type": "contour"
           }
          ],
          "contourcarpet": [
           {
            "colorbar": {
             "outlinewidth": 0,
             "ticks": ""
            },
            "type": "contourcarpet"
           }
          ],
          "heatmap": [
           {
            "colorbar": {
             "outlinewidth": 0,
             "ticks": ""
            },
            "colorscale": [
             [
              0,
              "#0d0887"
             ],
             [
              0.1111111111111111,
              "#46039f"
             ],
             [
              0.2222222222222222,
              "#7201a8"
             ],
             [
              0.3333333333333333,
              "#9c179e"
             ],
             [
              0.4444444444444444,
              "#bd3786"
             ],
             [
              0.5555555555555556,
              "#d8576b"
             ],
             [
              0.6666666666666666,
              "#ed7953"
             ],
             [
              0.7777777777777778,
              "#fb9f3a"
             ],
             [
              0.8888888888888888,
              "#fdca26"
             ],
             [
              1,
              "#f0f921"
             ]
            ],
            "type": "heatmap"
           }
          ],
          "heatmapgl": [
           {
            "colorbar": {
             "outlinewidth": 0,
             "ticks": ""
            },
            "colorscale": [
             [
              0,
              "#0d0887"
             ],
             [
              0.1111111111111111,
              "#46039f"
             ],
             [
              0.2222222222222222,
              "#7201a8"
             ],
             [
              0.3333333333333333,
              "#9c179e"
             ],
             [
              0.4444444444444444,
              "#bd3786"
             ],
             [
              0.5555555555555556,
              "#d8576b"
             ],
             [
              0.6666666666666666,
              "#ed7953"
             ],
             [
              0.7777777777777778,
              "#fb9f3a"
             ],
             [
              0.8888888888888888,
              "#fdca26"
             ],
             [
              1,
              "#f0f921"
             ]
            ],
            "type": "heatmapgl"
           }
          ],
          "histogram": [
           {
            "marker": {
             "pattern": {
              "fillmode": "overlay",
              "size": 10,
              "solidity": 0.2
             }
            },
            "type": "histogram"
           }
          ],
          "histogram2d": [
           {
            "colorbar": {
             "outlinewidth": 0,
             "ticks": ""
            },
            "colorscale": [
             [
              0,
              "#0d0887"
             ],
             [
              0.1111111111111111,
              "#46039f"
             ],
             [
              0.2222222222222222,
              "#7201a8"
             ],
             [
              0.3333333333333333,
              "#9c179e"
             ],
             [
              0.4444444444444444,
              "#bd3786"
             ],
             [
              0.5555555555555556,
              "#d8576b"
             ],
             [
              0.6666666666666666,
              "#ed7953"
             ],
             [
              0.7777777777777778,
              "#fb9f3a"
             ],
             [
              0.8888888888888888,
              "#fdca26"
             ],
             [
              1,
              "#f0f921"
             ]
            ],
            "type": "histogram2d"
           }
          ],
          "histogram2dcontour": [
           {
            "colorbar": {
             "outlinewidth": 0,
             "ticks": ""
            },
            "colorscale": [
             [
              0,
              "#0d0887"
             ],
             [
              0.1111111111111111,
              "#46039f"
             ],
             [
              0.2222222222222222,
              "#7201a8"
             ],
             [
              0.3333333333333333,
              "#9c179e"
             ],
             [
              0.4444444444444444,
              "#bd3786"
             ],
             [
              0.5555555555555556,
              "#d8576b"
             ],
             [
              0.6666666666666666,
              "#ed7953"
             ],
             [
              0.7777777777777778,
              "#fb9f3a"
             ],
             [
              0.8888888888888888,
              "#fdca26"
             ],
             [
              1,
              "#f0f921"
             ]
            ],
            "type": "histogram2dcontour"
           }
          ],
          "mesh3d": [
           {
            "colorbar": {
             "outlinewidth": 0,
             "ticks": ""
            },
            "type": "mesh3d"
           }
          ],
          "parcoords": [
           {
            "line": {
             "colorbar": {
              "outlinewidth": 0,
              "ticks": ""
             }
            },
            "type": "parcoords"
           }
          ],
          "pie": [
           {
            "automargin": true,
            "type": "pie"
           }
          ],
          "scatter": [
           {
            "fillpattern": {
             "fillmode": "overlay",
             "size": 10,
             "solidity": 0.2
            },
            "type": "scatter"
           }
          ],
          "scatter3d": [
           {
            "line": {
             "colorbar": {
              "outlinewidth": 0,
              "ticks": ""
             }
            },
            "marker": {
             "colorbar": {
              "outlinewidth": 0,
              "ticks": ""
             }
            },
            "type": "scatter3d"
           }
          ],
          "scattercarpet": [
           {
            "marker": {
             "colorbar": {
              "outlinewidth": 0,
              "ticks": ""
             }
            },
            "type": "scattercarpet"
           }
          ],
          "scattergeo": [
           {
            "marker": {
             "colorbar": {
              "outlinewidth": 0,
              "ticks": ""
             }
            },
            "type": "scattergeo"
           }
          ],
          "scattergl": [
           {
            "marker": {
             "colorbar": {
              "outlinewidth": 0,
              "ticks": ""
             }
            },
            "type": "scattergl"
           }
          ],
          "scattermapbox": [
           {
            "marker": {
             "colorbar": {
              "outlinewidth": 0,
              "ticks": ""
             }
            },
            "type": "scattermapbox"
           }
          ],
          "scatterpolar": [
           {
            "marker": {
             "colorbar": {
              "outlinewidth": 0,
              "ticks": ""
             }
            },
            "type": "scatterpolar"
           }
          ],
          "scatterpolargl": [
           {
            "marker": {
             "colorbar": {
              "outlinewidth": 0,
              "ticks": ""
             }
            },
            "type": "scatterpolargl"
           }
          ],
          "scatterternary": [
           {
            "marker": {
             "colorbar": {
              "outlinewidth": 0,
              "ticks": ""
             }
            },
            "type": "scatterternary"
           }
          ],
          "surface": [
           {
            "colorbar": {
             "outlinewidth": 0,
             "ticks": ""
            },
            "colorscale": [
             [
              0,
              "#0d0887"
             ],
             [
              0.1111111111111111,
              "#46039f"
             ],
             [
              0.2222222222222222,
              "#7201a8"
             ],
             [
              0.3333333333333333,
              "#9c179e"
             ],
             [
              0.4444444444444444,
              "#bd3786"
             ],
             [
              0.5555555555555556,
              "#d8576b"
             ],
             [
              0.6666666666666666,
              "#ed7953"
             ],
             [
              0.7777777777777778,
              "#fb9f3a"
             ],
             [
              0.8888888888888888,
              "#fdca26"
             ],
             [
              1,
              "#f0f921"
             ]
            ],
            "type": "surface"
           }
          ],
          "table": [
           {
            "cells": {
             "fill": {
              "color": "#EBF0F8"
             },
             "line": {
              "color": "white"
             }
            },
            "header": {
             "fill": {
              "color": "#C8D4E3"
             },
             "line": {
              "color": "white"
             }
            },
            "type": "table"
           }
          ]
         },
         "layout": {
          "annotationdefaults": {
           "arrowcolor": "#2a3f5f",
           "arrowhead": 0,
           "arrowwidth": 1
          },
          "autotypenumbers": "strict",
          "coloraxis": {
           "colorbar": {
            "outlinewidth": 0,
            "ticks": ""
           }
          },
          "colorscale": {
           "diverging": [
            [
             0,
             "#8e0152"
            ],
            [
             0.1,
             "#c51b7d"
            ],
            [
             0.2,
             "#de77ae"
            ],
            [
             0.3,
             "#f1b6da"
            ],
            [
             0.4,
             "#fde0ef"
            ],
            [
             0.5,
             "#f7f7f7"
            ],
            [
             0.6,
             "#e6f5d0"
            ],
            [
             0.7,
             "#b8e186"
            ],
            [
             0.8,
             "#7fbc41"
            ],
            [
             0.9,
             "#4d9221"
            ],
            [
             1,
             "#276419"
            ]
           ],
           "sequential": [
            [
             0,
             "#0d0887"
            ],
            [
             0.1111111111111111,
             "#46039f"
            ],
            [
             0.2222222222222222,
             "#7201a8"
            ],
            [
             0.3333333333333333,
             "#9c179e"
            ],
            [
             0.4444444444444444,
             "#bd3786"
            ],
            [
             0.5555555555555556,
             "#d8576b"
            ],
            [
             0.6666666666666666,
             "#ed7953"
            ],
            [
             0.7777777777777778,
             "#fb9f3a"
            ],
            [
             0.8888888888888888,
             "#fdca26"
            ],
            [
             1,
             "#f0f921"
            ]
           ],
           "sequentialminus": [
            [
             0,
             "#0d0887"
            ],
            [
             0.1111111111111111,
             "#46039f"
            ],
            [
             0.2222222222222222,
             "#7201a8"
            ],
            [
             0.3333333333333333,
             "#9c179e"
            ],
            [
             0.4444444444444444,
             "#bd3786"
            ],
            [
             0.5555555555555556,
             "#d8576b"
            ],
            [
             0.6666666666666666,
             "#ed7953"
            ],
            [
             0.7777777777777778,
             "#fb9f3a"
            ],
            [
             0.8888888888888888,
             "#fdca26"
            ],
            [
             1,
             "#f0f921"
            ]
           ]
          },
          "colorway": [
           "#636efa",
           "#EF553B",
           "#00cc96",
           "#ab63fa",
           "#FFA15A",
           "#19d3f3",
           "#FF6692",
           "#B6E880",
           "#FF97FF",
           "#FECB52"
          ],
          "font": {
           "color": "#2a3f5f"
          },
          "geo": {
           "bgcolor": "white",
           "lakecolor": "white",
           "landcolor": "#E5ECF6",
           "showlakes": true,
           "showland": true,
           "subunitcolor": "white"
          },
          "hoverlabel": {
           "align": "left"
          },
          "hovermode": "closest",
          "mapbox": {
           "style": "light"
          },
          "paper_bgcolor": "white",
          "plot_bgcolor": "#E5ECF6",
          "polar": {
           "angularaxis": {
            "gridcolor": "white",
            "linecolor": "white",
            "ticks": ""
           },
           "bgcolor": "#E5ECF6",
           "radialaxis": {
            "gridcolor": "white",
            "linecolor": "white",
            "ticks": ""
           }
          },
          "scene": {
           "xaxis": {
            "backgroundcolor": "#E5ECF6",
            "gridcolor": "white",
            "gridwidth": 2,
            "linecolor": "white",
            "showbackground": true,
            "ticks": "",
            "zerolinecolor": "white"
           },
           "yaxis": {
            "backgroundcolor": "#E5ECF6",
            "gridcolor": "white",
            "gridwidth": 2,
            "linecolor": "white",
            "showbackground": true,
            "ticks": "",
            "zerolinecolor": "white"
           },
           "zaxis": {
            "backgroundcolor": "#E5ECF6",
            "gridcolor": "white",
            "gridwidth": 2,
            "linecolor": "white",
            "showbackground": true,
            "ticks": "",
            "zerolinecolor": "white"
           }
          },
          "shapedefaults": {
           "line": {
            "color": "#2a3f5f"
           }
          },
          "ternary": {
           "aaxis": {
            "gridcolor": "white",
            "linecolor": "white",
            "ticks": ""
           },
           "baxis": {
            "gridcolor": "white",
            "linecolor": "white",
            "ticks": ""
           },
           "bgcolor": "#E5ECF6",
           "caxis": {
            "gridcolor": "white",
            "linecolor": "white",
            "ticks": ""
           }
          },
          "title": {
           "x": 0.05
          },
          "xaxis": {
           "automargin": true,
           "gridcolor": "white",
           "linecolor": "white",
           "ticks": "",
           "title": {
            "standoff": 15
           },
           "zerolinecolor": "white",
           "zerolinewidth": 2
          },
          "yaxis": {
           "automargin": true,
           "gridcolor": "white",
           "linecolor": "white",
           "ticks": "",
           "title": {
            "standoff": 15
           },
           "zerolinecolor": "white",
           "zerolinewidth": 2
          }
         }
        },
        "title": {
         "text": "Optimization History Plot"
        },
        "xaxis": {
         "title": {
          "text": "Trial"
         }
        },
        "yaxis": {
         "title": {
          "text": "Objective Value"
         }
        }
       }
      }
     },
     "metadata": {},
     "output_type": "display_data"
    }
   ],
   "source": [
    "optuna.visualization.plot_optimization_history(study)"
   ]
  },
  {
   "cell_type": "code",
   "execution_count": 18,
   "id": "24372a02",
   "metadata": {},
   "outputs": [
    {
     "name": "stdout",
     "output_type": "stream",
     "text": [
      "Best parameters: {'x': 5.164410242762302}\n",
      "Best value: -240.32882810740705\n"
     ]
    }
   ],
   "source": [
    "# display best parameters\n",
    "print(\"Best parameters:\", study.best_params)\n",
    "# display best value\n",
    "print(\"Best value:\", study.best_value)"
   ]
  },
  {
   "cell_type": "markdown",
   "id": "bb6ceb94",
   "metadata": {},
   "source": [
    "<div class=\"alert\" style=\"background-color:rgb(255, 255, 255); border-left: 8px solid #D4AC0D; padding: 14px; border-radius: 8px; font-size: 14px; color: #000000;\">\n",
    "\n",
    "We see the results of all runs and that the minimum of the function occurred at `x = 5.16`, which is close to the actual minimum.\n",
    "\n",
    "</div>"
   ]
  },
  {
   "cell_type": "code",
   "execution_count": null,
   "id": "3385b0e7",
   "metadata": {},
   "outputs": [],
   "source": []
  },
  {
   "cell_type": "code",
   "execution_count": null,
   "id": "da39e394",
   "metadata": {},
   "outputs": [],
   "source": []
  }
 ],
 "metadata": {
  "kernelspec": {
   "display_name": ".venv",
   "language": "python",
   "name": "python3"
  },
  "language_info": {
   "codemirror_mode": {
    "name": "ipython",
    "version": 3
   },
   "file_extension": ".py",
   "mimetype": "text/x-python",
   "name": "python",
   "nbconvert_exporter": "python",
   "pygments_lexer": "ipython3",
   "version": "3.12.6"
  }
 },
 "nbformat": 4,
 "nbformat_minor": 5
}
