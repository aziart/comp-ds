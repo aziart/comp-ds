{
 "cells": [
  {
   "cell_type": "markdown",
   "id": "13223b6c",
   "metadata": {},
   "source": [
    "<div style=\" border-bottom: 8px solid #e3f56c; overflow: hidden; border-radius: 10px; height: 95%; width: 100%; display: flex;\">\n",
    "  <div style=\"height: 100%; width: 100%; background-color: #3800BB; float: left; text-align: center; display: flex; justify-content: left; align-items: center; font-size: 40px; \">\n",
    "    <b><span style=\"color: #FFFFFF; padding: 20px 20px;\">Hyperparameters Tuning with Optuna</span></b>\n",
    "  </div>\n",
    "</div>\n",
    "\n"
   ]
  },
  {
   "cell_type": "markdown",
   "id": "ac2a4406",
   "metadata": {},
   "source": [
    "<div class=\"alert\" style=\"background-color: #FFFFFF; border-left: 8px solid #B12111; padding: 14px; border-radius: 8px; font-size: 14px; color: #000000;\">\n",
    "\n",
    "<div class=\"alert alert-danger\">\n",
    "\n",
    "**Contents** \n",
    "</div>\n",
    "\n",
    "<hr>\n",
    "  <p><font size=\"3\" face=\"Arial\" font-size=\"large\">\n",
    "  <ul type=\"square\">\n",
    "\n",
    "  <li> Basic Optuna concepts;  </li>\n",
    "  <li> Implementation;  </li>\n",
    "  <li> Visuals;  </li>\n",
    "  <li> Pruning;  </li>\n",
    "  <li> Conslusion;  </li>\n",
    "  <li> Useful Resources  </li>\n",
    "  \n",
    "  </ul>\n",
    "  </font></p>\n",
    "\n",
    "</div>"
   ]
  },
  {
   "cell_type": "markdown",
   "id": "f1d45d51",
   "metadata": {},
   "source": [
    "<div class=\"alert\" style=\"background-color:#E8F8F5; border-left: 8px solid #1ABC9C; padding: 14px; border-radius: 8px; font-size: 14px; color: #000000;\">\n",
    "\n",
    "* In previous lessons, we looked at finding optimal hyperparameters using classical methods: exhaustive grid search (`GridSearchCV`) and random search from a given distribution (`Random Search`).\n",
    "* Although `Random Search` significantly speeds up the search process, we might miss a set of hyperparameters where the model performs best.<br>\n",
    "* And here, an idea might come to mind: \"What if we do some guessing at first, like in `Random Search`, and then check more often in those areas where the model showed better accuracy?!\" This method is called **Bayesian hyperparameter optimization**.\n",
    "* The most popular libraries implementing this method are `HyperOpt` and `Optuna`. (in our practice, `HyperOpt` often has failures and unstable performance, so in this notebook we will focus on **`Optuna`**)\n",
    "</div>"
   ]
  },
  {
   "cell_type": "markdown",
   "id": "9d87a19b",
   "metadata": {},
   "source": [
    "<div class=\"alert\" style=\"background-color: #E8F8F5; border-left: 8px solid #1ABC9C; padding: 14px; border-radius: 8px; font-size: 14px; color: #000000;\">\n",
    "\n",
    "<div class=\"alert alert-info\">\n",
    "\n",
    "**Key Features of the `Optuna` Framework**\n",
    "</div>\n",
    "\n",
    "* Lightweight and highly versatile - suitable for optimizing arbitrary functions and evaluation metrics.\n",
    "* Incorporates state-of-the-art algorithms specifically adapted for hyperparameter search.\n",
    "* Supports parallel execution and advanced pruning strategies.\n",
    "* Includes built-in tools for result visualization.\n",
    "* Offers seamless integration with many popular libraries and frameworks (e.g., boosting algorithms, **scikit-learn**, **PyTorch**, **Weights & Biases**, among others).\n",
    "\n",
    "To understand how to use it effectively, we will examine the framework in detail.\n",
    "\n",
    "</div>\n"
   ]
  },
  {
   "cell_type": "code",
   "execution_count": 1,
   "id": "919e6a49",
   "metadata": {},
   "outputs": [],
   "source": [
    "import optuna\n",
    "\n",
    "import numpy as np\n",
    "import pandas as pd\n",
    "\n",
    "from catboost import CatBoostClassifier\n",
    "from sklearn.model_selection import KFold, train_test_split"
   ]
  },
  {
   "cell_type": "markdown",
   "id": "1edcad5c",
   "metadata": {},
   "source": [
    "<div class=\"alert\" style=\"background-color: #E8F8F5; border-left: 8px solid #1ABC9C; padding: 14px; border-radius: 8px; font-size: 14px; color: #000000;\">\n",
    "\n",
    "**`Optuna` has two core concepts:**\n",
    "\n",
    "\n",
    "<div class=\"alert alert-info\">\n",
    "\n",
    "**1. `Study`: an optimization based on an `Objective` function.**\n",
    "</div>\n",
    "\n",
    "\n",
    "The `Objective` function should contain the logic for calculating the metric to optimize. Optuna will call this function multiple times to search for the best set of parameters.\n",
    "\n",
    "\n",
    "<div class=\"alert\" style=\"background-color:rgb(0, 0, 0); border-left: 8px solid #B12111; padding: 14px; border-radius: 8px; font-size: 14px; color:rgb(255, 255, 255);\">\n",
    "\n",
    "```python\n",
    "def objective(trial, ...):\n",
    "    # calculate score...\n",
    "    return score\n",
    "```\n",
    "</div>\n",
    "\n",
    "<div class=\"alert alert-info\">\n",
    "\n",
    "**2. `Trial` - a single execution of the `Objective` function**\n",
    "</div>\n",
    "\n",
    "\n",
    "Within the `trial` object, we define parameters to be tuned using appropriate methods depending on the type. For example:\n",
    "\n",
    "<div class=\"alert\" style=\"background-color:rgb(0, 0, 0); border-left: 8px solid #B12111; padding: 14px; border-radius: 8px; font-size: 14px; color:rgb(255, 255, 255);\">\n",
    "\n",
    "```python\n",
    "# `suggest_float` method is used to tune float values within the range [0, 1.5]\n",
    "param = trial.suggest_float('param', 0, 1.5) \n",
    "\n",
    "# Categorical value\n",
    "loss_function = trial.suggest_categorical('loss', ['Logloss', 'CrossEntropy'])\n",
    "\n",
    "# Integer value\n",
    "depth = trial.suggest_int('depth', 5, 8)\n",
    "\n",
    "# Uniform distribution\n",
    "learning_rate = trial.suggest_uniform('learning_rate', 0.0, 1.0)\n",
    "```\n",
    "</div>\n",
    "\n",
    "</div>"
   ]
  },
  {
   "cell_type": "markdown",
   "id": "8505920d",
   "metadata": {},
   "source": [
    "<div class=\"alert\" style=\"background-color: #E8F8F5; border-left: 8px solid #1ABC9C; padding: 14px; border-radius: 8px; font-size: 14px; color: #000000;\">\n",
    "    \n",
    "[`Optuna`](https://optuna.readthedocs.io/en/stable/index.html) implements several parameter search methods (`samplers`), including classical ones:\n",
    "* `GridSampler`\n",
    "* `RandomSampler`\n",
    "* `Tree-Structured Parzen Estimator` (`TPESampler` – the most popular and default one)\n",
    "* `BruteForceSampler`\n",
    "* And [4 more](https://optuna.readthedocs.io/en/stable/reference/samplers/index.html#module-optuna.samplers); you can also implement a custom sampler.\n",
    "</div>\n"
   ]
  },
  {
   "cell_type": "markdown",
   "id": "184d877b",
   "metadata": {},
   "source": [
    "<div class=\"alert\" style=\"background-color: #E8F8F5; border-left: 8px solid #1ABC9C; padding: 14px; border-radius: 8px; font-size: 14px; color: #000000;\">\n",
    "\n",
    "<div class=\"alert alert-info\">\n",
    "\n",
    "**Let's go through a simple example to see how `Optuna` works:**\n",
    "</div>\n",
    "\n",
    "* Suppose we have a function `y = (x+1)(x+5)(x-9)`, and we want to find the value of `x` that minimizes the function.\n",
    "* We'll create an `objective` function and pass a `trial` object as an argument — using it, we'll define the search range for `x` as `[-5, 5]`.\n",
    "\n",
    "<img src='../imgs/05.2.02_1.JPG' width='600px'>\n",
    "\n",
    "</div>\n"
   ]
  },
  {
   "cell_type": "code",
   "execution_count": 2,
   "id": "aa9a7957",
   "metadata": {},
   "outputs": [],
   "source": [
    "# Limit logging\n",
    "optuna.logging.set_verbosity(30)"
   ]
  },
  {
   "cell_type": "code",
   "execution_count": 3,
   "id": "faa0974f",
   "metadata": {},
   "outputs": [
    {
     "data": {
      "application/vnd.jupyter.widget-view+json": {
       "model_id": "ed329fadc33f46d9956638b25b47b3a6",
       "version_major": 2,
       "version_minor": 0
      },
      "text/plain": [
       "  0%|          | 0/250 [00:00<?, ?it/s]"
      ]
     },
     "metadata": {},
     "output_type": "display_data"
    }
   ],
   "source": [
    "def objective(trial):\n",
    "    x = trial.suggest_float(\"x\", -2, 10)\n",
    "    return (x + 1) * (x + 5) * (x - 9)\n",
    "\n",
    "\n",
    "# create a study object and run for 10 iterations; since we are searching for a minimum, the direction parameter is left as default\n",
    "study = optuna.create_study()\n",
    "\n",
    "# run the optimization\n",
    "study.optimize(objective,\n",
    "               n_jobs=-1,\n",
    "               n_trials=250,\n",
    "               show_progress_bar=True)"
   ]
  },
  {
   "cell_type": "code",
   "execution_count": 4,
   "id": "c63b965f",
   "metadata": {},
   "outputs": [
    {
     "data": {
      "application/vnd.plotly.v1+json": {
       "config": {
        "plotlyServerURL": "https://plot.ly"
       },
       "data": [
        {
         "marker": {
          "color": [
           0,
           1,
           2,
           3,
           4,
           5,
           6,
           7,
           8,
           9,
           10,
           11,
           12,
           13,
           14,
           15,
           16,
           17,
           18,
           19,
           20,
           21,
           22,
           23,
           24,
           25,
           26,
           27,
           28,
           29,
           30,
           31,
           32,
           33,
           34,
           35,
           36,
           37,
           38,
           39,
           40,
           41,
           42,
           43,
           44,
           45,
           46,
           47,
           48,
           49,
           50,
           51,
           52,
           53,
           54,
           55,
           56,
           57,
           58,
           59,
           60,
           61,
           62,
           63,
           64,
           65,
           66,
           67,
           68,
           69,
           70,
           71,
           72,
           73,
           74,
           75,
           76,
           77,
           78,
           79,
           80,
           81,
           82,
           83,
           84,
           85,
           86,
           87,
           88,
           89,
           90,
           91,
           92,
           93,
           94,
           95,
           96,
           97,
           98,
           99,
           100,
           101,
           102,
           103,
           104,
           105,
           106,
           107,
           108,
           109,
           110,
           111,
           112,
           113,
           114,
           115,
           116,
           117,
           118,
           119,
           120,
           121,
           122,
           123,
           124,
           125,
           126,
           127,
           128,
           129,
           130,
           131,
           132,
           133,
           134,
           135,
           136,
           137,
           138,
           139,
           140,
           141,
           142,
           143,
           144,
           145,
           146,
           147,
           148,
           149,
           150,
           151,
           152,
           153,
           154,
           155,
           156,
           157,
           158,
           159,
           160,
           161,
           162,
           163,
           164,
           165,
           166,
           167,
           168,
           169,
           170,
           171,
           172,
           173,
           174,
           175,
           176,
           177,
           178,
           179,
           180,
           181,
           182,
           183,
           184,
           185,
           186,
           187,
           188,
           189,
           190,
           191,
           192,
           193,
           194,
           195,
           196,
           197,
           198,
           199,
           200,
           201,
           202,
           203,
           204,
           205,
           206,
           207,
           208,
           209,
           210,
           211,
           212,
           213,
           214,
           215,
           216,
           217,
           218,
           219,
           220,
           221,
           222,
           223,
           224,
           225,
           226,
           227,
           228,
           229,
           230,
           231,
           232,
           233,
           234,
           235,
           236,
           237,
           238,
           239,
           240,
           241,
           242,
           243,
           244,
           245,
           246,
           247,
           248,
           249
          ],
          "colorbar": {
           "title": {
            "text": "Trial"
           },
           "x": 1,
           "xpad": 40
          },
          "colorscale": [
           [
            0,
            "rgb(247,251,255)"
           ],
           [
            0.125,
            "rgb(222,235,247)"
           ],
           [
            0.25,
            "rgb(198,219,239)"
           ],
           [
            0.375,
            "rgb(158,202,225)"
           ],
           [
            0.5,
            "rgb(107,174,214)"
           ],
           [
            0.625,
            "rgb(66,146,198)"
           ],
           [
            0.75,
            "rgb(33,113,181)"
           ],
           [
            0.875,
            "rgb(8,81,156)"
           ],
           [
            1,
            "rgb(8,48,107)"
           ]
          ],
          "line": {
           "color": "Grey",
           "width": 0.5
          }
         },
         "mode": "markers",
         "name": "Feasible Trial",
         "showlegend": false,
         "type": "scatter",
         "x": [
          0.42659314058995657,
          7.0117773174465725,
          1.7032759655697305,
          -0.4192715296224847,
          3.2854632485541817,
          1.0211059343067843,
          6.750779897227222,
          4.940155006441682,
          -0.8982098336224151,
          9.553797597390268,
          5.250745027610073,
          5.295921451675385,
          5.394557581477992,
          5.700138893281066,
          5.356760992536861,
          5.392212917679075,
          5.057960227344267,
          5.426193962559188,
          5.615498120995567,
          5.430514204072003,
          4.969122510329386,
          5.275712637367233,
          3.088118682378366,
          2.6779722666124455,
          3.1207865721906463,
          3.102940248868982,
          7.943954953057364,
          7.848011543103028,
          7.7417671396651855,
          8.034348241526525,
          6.980280317962839,
          8.08669146200187,
          8.528236250384236,
          8.03004140368649,
          7.937999687485489,
          4.155848435475987,
          4.042874140578722,
          6.577766703712847,
          4.265446288017559,
          4.137362742108818,
          4.454283377561068,
          4.281508030763495,
          4.199559814103639,
          4.233178967464671,
          4.221043382986936,
          4.144666002425044,
          6.584173512855552,
          6.206145407850913,
          2.041626551315524,
          6.150316031679356,
          6.465874408043136,
          6.453866211135896,
          6.137912176304143,
          6.027120412225223,
          6.05484004772681,
          6.111572500652553,
          6.131542629427639,
          6.003310223291,
          -1.950898729933293,
          5.094844013065236,
          4.90984194942219,
          4.767836659757637,
          4.906281494085132,
          4.889978747389844,
          5.126397110636949,
          4.821087736072802,
          4.869349236143425,
          5.005003027455856,
          4.988083294612407,
          3.614308189559516,
          4.767915354708328,
          3.4129277026347333,
          3.576636154775091,
          3.745598098777023,
          5.586522611126083,
          3.667871975934526,
          3.603192760968084,
          3.5699958345950416,
          5.605318912009979,
          3.6166538498334626,
          5.587870989951589,
          5.6334140978192515,
          5.2691127650625456,
          5.611234612847689,
          5.249781328700646,
          5.268594158695314,
          7.019862426869677,
          5.179951816089797,
          5.217379074588063,
          5.277493831296188,
          5.218356038411512,
          5.323161962008177,
          6.9782977008025036,
          7.369243263047803,
          5.2545543701461925,
          4.500597080128513,
          5.188083294797012,
          4.507592480219907,
          4.525691905289048,
          4.6237468232269645,
          4.439062882063699,
          4.56595063787516,
          4.632141950426163,
          5.763521295236313,
          3.907957402228233,
          5.092629749997397,
          5.8979480430364175,
          5.088362183356441,
          5.866611294308541,
          5.210789999449989,
          5.180888627628308,
          5.151176319987686,
          5.262534451599943,
          5.850784571924754,
          5.225094597919439,
          5.150692665943784,
          6.3663456905960905,
          5.089323266639254,
          5.1518039470943515,
          5.0724194558297935,
          0.49870402422706617,
          6.319422759988877,
          6.346793069140467,
          5.136539331965927,
          5.097691488988081,
          6.366830319303088,
          6.329882968601939,
          9.851544903681244,
          4.738617003208505,
          5.478902019795658,
          4.000083331761184,
          5.4793369062960195,
          5.460970606349672,
          5.427711945614059,
          5.582976059174851,
          5.425008137151638,
          4.032177088244206,
          5.7210919037946235,
          4.332576272250124,
          5.727218323308585,
          5.775169855104755,
          4.9876856725264025,
          4.790577253914003,
          4.320462925442957,
          4.812120152108758,
          4.357110281008881,
          4.8678502668664585,
          4.801755458171332,
          4.816830590159179,
          4.9007932080056,
          4.976127317434617,
          5.120513360156912,
          5.179232684589305,
          5.164689664000215,
          5.112559899721288,
          5.178085787930116,
          5.226152473013082,
          5.197601424876623,
          5.225625355923482,
          5.062056439119345,
          5.160872657030578,
          5.142564278023326,
          5.063104278581228,
          5.217402688051848,
          4.576204708118697,
          5.910326775435475,
          5.897339259043886,
          5.969011638491163,
          6.027394357515401,
          6.006336928138981,
          4.610162619916893,
          6.008828591766464,
          6.060973219754566,
          5.968542633565784,
          5.601041312310924,
          5.50891974408285,
          5.480020859426691,
          5.493452964831687,
          5.467360951429531,
          5.45231036761395,
          5.477086553374774,
          5.468580135402201,
          5.418755061372623,
          5.3877198018352015,
          4.5890631253341745,
          5.368994633497958,
          4.611003197532425,
          4.695932160822183,
          4.669788484526533,
          4.635117624145145,
          4.659799551635611,
          4.676073558643005,
          5.113693423720493,
          5.064607029077135,
          5.099446792475688,
          5.1327653529015205,
          5.215336371047722,
          5.09508033736928,
          5.133778878822646,
          5.094698929680126,
          5.067928206017094,
          5.075909388630098,
          5.0459547883746305,
          5.171755352678867,
          4.917355497216099,
          4.929623284773002,
          5.044337721397442,
          4.9250826915777735,
          4.934419817680998,
          4.931872515233252,
          8.817374190649318,
          4.906422582321927,
          5.674258300795169,
          5.744299675161066,
          4.857646239144881,
          5.307782666734705,
          5.678519676440976,
          5.254082282600612,
          5.676285060491312,
          5.2807977809393964,
          5.278408166560771,
          5.280509977579546,
          5.319559704066883,
          5.323172488590215,
          5.257042029779709,
          5.302246960195115,
          5.292467490548999,
          5.247662278407208,
          5.246751518802267,
          5.265584555853134,
          4.38577398355816,
          4.4635532146753985,
          -0.37385598128419595,
          5.675849256366351,
          4.752605505698385,
          2.268257367247943,
          4.388872033446728,
          5.631761561345016,
          5.628170138091483,
          2.859889818110295,
          4.839116748924375,
          4.794877508188321,
          4.890880745731537,
          4.873448657411124,
          4.819948898237154,
          4.914546301605189,
          4.817866695615666,
          4.8860647820116085,
          4.843242513439924,
          4.816352249055481
         ],
         "y": [
          -66.37137686352875,
          -191.3379718957044,
          -132.2225119679851,
          -25.05676405688688,
          -202.90633215384344,
          -97.09749918209351,
          -204.85381310698153,
          -239.71785727697036,
          -4.132719410793489,
          85.06211149792361,
          -240.2327381745961,
          -240.1069380447532,
          -239.6486990828821,
          -236.57501772086857,
          -239.85429513021657,
          -239.66254550251526,
          -240.19133354304194,
          -239.44766590283822,
          -237.6827632022394,
          -239.41815448717682,
          -239.86507844809393,
          -240.16968207467846,
          -195.47747364908076,
          -178.53007437334213,
          -196.74216430836063,
          -196.05293895933235,
          -122.25849350667018,
          -130.95730410156915,
          -140.1489733728446,
          -113.7121006952513,
          -193.09731027691848,
          -108.60583598671354,
          -60.81045632397336,
          -114.12708733319467,
          -122.80954320669268,
          -228.67382691201232,
          -226.05523097619553,
          -212.51128353112279,
          -230.98329780887875,
          -228.2616600143958,
          -234.4059719555287,
          -231.30217122407157,
          -229.62263098407996,
          -230.32744380151746,
          -230.07554276135932,
          -228.42526818371545,
          -212.24577451793883,
          -225.61245634110628,
          -149.03443057590746,
          -227.20041125356323,
          -216.92819125505653,
          -217.37766511941143,
          -227.5401003617614,
          -230.36517781991316,
          -229.6934025121127,
          -228.24571723979096,
          -227.71269142974506,
          -230.92370046436142,
          31.750888215789754,
          -240.27057825190457,
          -239.54255895605849,
          -238.43706240184994,
          -239.52055122060742,
          -239.41599064886725,
          -240.3118543383619,
          -238.90596267576694,
          -239.27479163858362,
          -240.01971162119156,
          -239.950630776308,
          -214.07625599414385,
          -238.43780286870327,
          -207.42364437136223,
          -212.87865380281406,
          -218.07393449763737,
          -238.01621624015576,
          -215.74065489733692,
          -213.72519483432524,
          -212.665272935058,
          -237.80254832626443,
          -214.15009216218894,
          -238.00121266187983,
          -237.46496112345378,
          -240.18790129777358,
          -237.7332834384582,
          -240.23485273380928,
          -240.18928562915448,
          -190.8805949712321,
          -240.3253880732135,
          -240.29220039619568,
          -240.16457359897507,
          -240.29086076346002,
          -240.00569501933919,
          -193.20686116039292,
          -168.81790385446885,
          -240.2241477566724,
          -235.1341017284478,
          -240.3211757619801,
          -235.24017960524247,
          -235.50985382012684,
          -236.84945468420395,
          -234.15694524164726,
          -236.08479076649863,
          -236.95451164982856,
          -235.61340194663944,
          -222.62346826760816,
          -240.26676096465545,
          -233.1920388118679,
          -240.25906430713366,
          -233.80342535360236,
          -240.30060500077974,
          -240.32498736152712,
          -240.3269988973457,
          -240.20495073372578,
          -234.10129850400654,
          -240.2809624574273,
          -240.32684933775687,
          -220.5117446917721,
          -240.26083663627898,
          -240.32718429143566,
          -240.22636308287238,
          -70.05858376314362,
          -222.09022203471812,
          -221.1780706991578,
          -240.31989595649168,
          -240.27531010056984,
          -220.49507307630444,
          -221.744451348151,
          137.23685553559736,
          -238.15247312697863,
          -239.05360753364405,
          -225.00208323153137,
          -239.05004688583625,
          -239.1960021844871,
          -239.43735312375216,
          -238.05544033351381,
          -239.45567951446185,
          -225.79507560600305,
          -236.26973650520895,
          -232.28215875842878,
          -236.17812855859754,
          -235.4242292695117,
          -239.9489248455495,
          -238.64519921576232,
          -232.05439434029958,
          -238.83152650168347,
          -232.7344657783622,
          -239.26414624759067,
          -238.7432022408968,
          -238.87085549107897,
          -239.48604537310297,
          -239.89768401522457,
          -240.30602152874397,
          -240.32568074122844,
          -240.32881960490877,
          -240.29677672292823,
          -240.32612066712318,
          -240.2793040445526,
          -240.31413421306385,
          -240.28013394371905,
          -240.2017747573947,
          -240.32876710050232,
          -240.32346467354515,
          -240.20438002392044,
          -240.2921683017784,
          -236.22570411190054,
          -232.94258594508028,
          -233.20419059091398,
          -231.69835789392707,
          -230.3586524566724,
          -230.85364804846,
          -236.67621711221537,
          -230.79577254074658,
          -229.54162326055305,
          -231.70870706857954,
          -237.85203076976913,
          -238.79587744483803,
          -239.04443671322755,
          -238.93170817881452,
          -239.14624479447815,
          -239.26168967995727,
          -239.06841683663748,
          -239.1366275266359,
          -239.49731949900035,
          -239.688674853612,
          -236.3992176681446,
          -239.79185284248132,
          -236.68705305962027,
          -237.70235490989538,
          -237.40668434509678,
          -236.99138084678475,
          -237.28973562221844,
          -237.47914322523218,
          -240.29818973639507,
          -240.20806962368846,
          -240.2781277000818,
          -240.31720153749515,
          -240.29492335756694,
          -240.27097855085185,
          -240.31795984197282,
          -240.27033182200262,
          -240.21602849287095,
          -240.23405332337666,
          -240.1583799933252,
          -240.32795583069927,
          -239.58802509414193,
          -239.65940712210758,
          -240.15367372254542,
          -239.63340001021393,
          -239.68635219161348,
          -239.67211001455152,
          -24.773251809317593,
          -239.52142896456687,
          -236.93500795040669,
          -235.91708599586386,
          -239.1902945788828,
          -240.06521232330587,
          -236.8770283276681,
          -240.2252324596316,
          -236.90749570721377,
          -240.1548822251853,
          -240.16191965450452,
          -240.1557375747339,
          -240.02018503559768,
          -240.00565218326025,
          -240.21833793580274,
          -240.0851379068699,
          -240.11840630596745,
          -240.23941910074612,
          -240.2413465408664,
          -240.19718329956007,
          -233.24754400293526,
          -234.5552870728638,
          -27.152615014283484,
          -236.9134212540821,
          -238.29111513455314,
          -159.90942060919284,
          -233.30200191456763,
          -237.48542383924723,
          -237.52963337792323,
          -186.28055802979208,
          -239.0500301588128,
          -238.6832377703735,
          -239.4219381273329,
          -239.3036384723283,
          -238.89661177049805,
          -239.5711812030844,
          -238.8794381200993,
          -239.3899633409836,
          -239.08194712619334,
          -238.8668848343142
         ]
        }
       ],
       "layout": {
        "template": {
         "data": {
          "bar": [
           {
            "error_x": {
             "color": "#2a3f5f"
            },
            "error_y": {
             "color": "#2a3f5f"
            },
            "marker": {
             "line": {
              "color": "#E5ECF6",
              "width": 0.5
             },
             "pattern": {
              "fillmode": "overlay",
              "size": 10,
              "solidity": 0.2
             }
            },
            "type": "bar"
           }
          ],
          "barpolar": [
           {
            "marker": {
             "line": {
              "color": "#E5ECF6",
              "width": 0.5
             },
             "pattern": {
              "fillmode": "overlay",
              "size": 10,
              "solidity": 0.2
             }
            },
            "type": "barpolar"
           }
          ],
          "carpet": [
           {
            "aaxis": {
             "endlinecolor": "#2a3f5f",
             "gridcolor": "white",
             "linecolor": "white",
             "minorgridcolor": "white",
             "startlinecolor": "#2a3f5f"
            },
            "baxis": {
             "endlinecolor": "#2a3f5f",
             "gridcolor": "white",
             "linecolor": "white",
             "minorgridcolor": "white",
             "startlinecolor": "#2a3f5f"
            },
            "type": "carpet"
           }
          ],
          "choropleth": [
           {
            "colorbar": {
             "outlinewidth": 0,
             "ticks": ""
            },
            "type": "choropleth"
           }
          ],
          "contour": [
           {
            "colorbar": {
             "outlinewidth": 0,
             "ticks": ""
            },
            "colorscale": [
             [
              0,
              "#0d0887"
             ],
             [
              0.1111111111111111,
              "#46039f"
             ],
             [
              0.2222222222222222,
              "#7201a8"
             ],
             [
              0.3333333333333333,
              "#9c179e"
             ],
             [
              0.4444444444444444,
              "#bd3786"
             ],
             [
              0.5555555555555556,
              "#d8576b"
             ],
             [
              0.6666666666666666,
              "#ed7953"
             ],
             [
              0.7777777777777778,
              "#fb9f3a"
             ],
             [
              0.8888888888888888,
              "#fdca26"
             ],
             [
              1,
              "#f0f921"
             ]
            ],
            "type": "contour"
           }
          ],
          "contourcarpet": [
           {
            "colorbar": {
             "outlinewidth": 0,
             "ticks": ""
            },
            "type": "contourcarpet"
           }
          ],
          "heatmap": [
           {
            "colorbar": {
             "outlinewidth": 0,
             "ticks": ""
            },
            "colorscale": [
             [
              0,
              "#0d0887"
             ],
             [
              0.1111111111111111,
              "#46039f"
             ],
             [
              0.2222222222222222,
              "#7201a8"
             ],
             [
              0.3333333333333333,
              "#9c179e"
             ],
             [
              0.4444444444444444,
              "#bd3786"
             ],
             [
              0.5555555555555556,
              "#d8576b"
             ],
             [
              0.6666666666666666,
              "#ed7953"
             ],
             [
              0.7777777777777778,
              "#fb9f3a"
             ],
             [
              0.8888888888888888,
              "#fdca26"
             ],
             [
              1,
              "#f0f921"
             ]
            ],
            "type": "heatmap"
           }
          ],
          "heatmapgl": [
           {
            "colorbar": {
             "outlinewidth": 0,
             "ticks": ""
            },
            "colorscale": [
             [
              0,
              "#0d0887"
             ],
             [
              0.1111111111111111,
              "#46039f"
             ],
             [
              0.2222222222222222,
              "#7201a8"
             ],
             [
              0.3333333333333333,
              "#9c179e"
             ],
             [
              0.4444444444444444,
              "#bd3786"
             ],
             [
              0.5555555555555556,
              "#d8576b"
             ],
             [
              0.6666666666666666,
              "#ed7953"
             ],
             [
              0.7777777777777778,
              "#fb9f3a"
             ],
             [
              0.8888888888888888,
              "#fdca26"
             ],
             [
              1,
              "#f0f921"
             ]
            ],
            "type": "heatmapgl"
           }
          ],
          "histogram": [
           {
            "marker": {
             "pattern": {
              "fillmode": "overlay",
              "size": 10,
              "solidity": 0.2
             }
            },
            "type": "histogram"
           }
          ],
          "histogram2d": [
           {
            "colorbar": {
             "outlinewidth": 0,
             "ticks": ""
            },
            "colorscale": [
             [
              0,
              "#0d0887"
             ],
             [
              0.1111111111111111,
              "#46039f"
             ],
             [
              0.2222222222222222,
              "#7201a8"
             ],
             [
              0.3333333333333333,
              "#9c179e"
             ],
             [
              0.4444444444444444,
              "#bd3786"
             ],
             [
              0.5555555555555556,
              "#d8576b"
             ],
             [
              0.6666666666666666,
              "#ed7953"
             ],
             [
              0.7777777777777778,
              "#fb9f3a"
             ],
             [
              0.8888888888888888,
              "#fdca26"
             ],
             [
              1,
              "#f0f921"
             ]
            ],
            "type": "histogram2d"
           }
          ],
          "histogram2dcontour": [
           {
            "colorbar": {
             "outlinewidth": 0,
             "ticks": ""
            },
            "colorscale": [
             [
              0,
              "#0d0887"
             ],
             [
              0.1111111111111111,
              "#46039f"
             ],
             [
              0.2222222222222222,
              "#7201a8"
             ],
             [
              0.3333333333333333,
              "#9c179e"
             ],
             [
              0.4444444444444444,
              "#bd3786"
             ],
             [
              0.5555555555555556,
              "#d8576b"
             ],
             [
              0.6666666666666666,
              "#ed7953"
             ],
             [
              0.7777777777777778,
              "#fb9f3a"
             ],
             [
              0.8888888888888888,
              "#fdca26"
             ],
             [
              1,
              "#f0f921"
             ]
            ],
            "type": "histogram2dcontour"
           }
          ],
          "mesh3d": [
           {
            "colorbar": {
             "outlinewidth": 0,
             "ticks": ""
            },
            "type": "mesh3d"
           }
          ],
          "parcoords": [
           {
            "line": {
             "colorbar": {
              "outlinewidth": 0,
              "ticks": ""
             }
            },
            "type": "parcoords"
           }
          ],
          "pie": [
           {
            "automargin": true,
            "type": "pie"
           }
          ],
          "scatter": [
           {
            "fillpattern": {
             "fillmode": "overlay",
             "size": 10,
             "solidity": 0.2
            },
            "type": "scatter"
           }
          ],
          "scatter3d": [
           {
            "line": {
             "colorbar": {
              "outlinewidth": 0,
              "ticks": ""
             }
            },
            "marker": {
             "colorbar": {
              "outlinewidth": 0,
              "ticks": ""
             }
            },
            "type": "scatter3d"
           }
          ],
          "scattercarpet": [
           {
            "marker": {
             "colorbar": {
              "outlinewidth": 0,
              "ticks": ""
             }
            },
            "type": "scattercarpet"
           }
          ],
          "scattergeo": [
           {
            "marker": {
             "colorbar": {
              "outlinewidth": 0,
              "ticks": ""
             }
            },
            "type": "scattergeo"
           }
          ],
          "scattergl": [
           {
            "marker": {
             "colorbar": {
              "outlinewidth": 0,
              "ticks": ""
             }
            },
            "type": "scattergl"
           }
          ],
          "scattermapbox": [
           {
            "marker": {
             "colorbar": {
              "outlinewidth": 0,
              "ticks": ""
             }
            },
            "type": "scattermapbox"
           }
          ],
          "scatterpolar": [
           {
            "marker": {
             "colorbar": {
              "outlinewidth": 0,
              "ticks": ""
             }
            },
            "type": "scatterpolar"
           }
          ],
          "scatterpolargl": [
           {
            "marker": {
             "colorbar": {
              "outlinewidth": 0,
              "ticks": ""
             }
            },
            "type": "scatterpolargl"
           }
          ],
          "scatterternary": [
           {
            "marker": {
             "colorbar": {
              "outlinewidth": 0,
              "ticks": ""
             }
            },
            "type": "scatterternary"
           }
          ],
          "surface": [
           {
            "colorbar": {
             "outlinewidth": 0,
             "ticks": ""
            },
            "colorscale": [
             [
              0,
              "#0d0887"
             ],
             [
              0.1111111111111111,
              "#46039f"
             ],
             [
              0.2222222222222222,
              "#7201a8"
             ],
             [
              0.3333333333333333,
              "#9c179e"
             ],
             [
              0.4444444444444444,
              "#bd3786"
             ],
             [
              0.5555555555555556,
              "#d8576b"
             ],
             [
              0.6666666666666666,
              "#ed7953"
             ],
             [
              0.7777777777777778,
              "#fb9f3a"
             ],
             [
              0.8888888888888888,
              "#fdca26"
             ],
             [
              1,
              "#f0f921"
             ]
            ],
            "type": "surface"
           }
          ],
          "table": [
           {
            "cells": {
             "fill": {
              "color": "#EBF0F8"
             },
             "line": {
              "color": "white"
             }
            },
            "header": {
             "fill": {
              "color": "#C8D4E3"
             },
             "line": {
              "color": "white"
             }
            },
            "type": "table"
           }
          ]
         },
         "layout": {
          "annotationdefaults": {
           "arrowcolor": "#2a3f5f",
           "arrowhead": 0,
           "arrowwidth": 1
          },
          "autotypenumbers": "strict",
          "coloraxis": {
           "colorbar": {
            "outlinewidth": 0,
            "ticks": ""
           }
          },
          "colorscale": {
           "diverging": [
            [
             0,
             "#8e0152"
            ],
            [
             0.1,
             "#c51b7d"
            ],
            [
             0.2,
             "#de77ae"
            ],
            [
             0.3,
             "#f1b6da"
            ],
            [
             0.4,
             "#fde0ef"
            ],
            [
             0.5,
             "#f7f7f7"
            ],
            [
             0.6,
             "#e6f5d0"
            ],
            [
             0.7,
             "#b8e186"
            ],
            [
             0.8,
             "#7fbc41"
            ],
            [
             0.9,
             "#4d9221"
            ],
            [
             1,
             "#276419"
            ]
           ],
           "sequential": [
            [
             0,
             "#0d0887"
            ],
            [
             0.1111111111111111,
             "#46039f"
            ],
            [
             0.2222222222222222,
             "#7201a8"
            ],
            [
             0.3333333333333333,
             "#9c179e"
            ],
            [
             0.4444444444444444,
             "#bd3786"
            ],
            [
             0.5555555555555556,
             "#d8576b"
            ],
            [
             0.6666666666666666,
             "#ed7953"
            ],
            [
             0.7777777777777778,
             "#fb9f3a"
            ],
            [
             0.8888888888888888,
             "#fdca26"
            ],
            [
             1,
             "#f0f921"
            ]
           ],
           "sequentialminus": [
            [
             0,
             "#0d0887"
            ],
            [
             0.1111111111111111,
             "#46039f"
            ],
            [
             0.2222222222222222,
             "#7201a8"
            ],
            [
             0.3333333333333333,
             "#9c179e"
            ],
            [
             0.4444444444444444,
             "#bd3786"
            ],
            [
             0.5555555555555556,
             "#d8576b"
            ],
            [
             0.6666666666666666,
             "#ed7953"
            ],
            [
             0.7777777777777778,
             "#fb9f3a"
            ],
            [
             0.8888888888888888,
             "#fdca26"
            ],
            [
             1,
             "#f0f921"
            ]
           ]
          },
          "colorway": [
           "#636efa",
           "#EF553B",
           "#00cc96",
           "#ab63fa",
           "#FFA15A",
           "#19d3f3",
           "#FF6692",
           "#B6E880",
           "#FF97FF",
           "#FECB52"
          ],
          "font": {
           "color": "#2a3f5f"
          },
          "geo": {
           "bgcolor": "white",
           "lakecolor": "white",
           "landcolor": "#E5ECF6",
           "showlakes": true,
           "showland": true,
           "subunitcolor": "white"
          },
          "hoverlabel": {
           "align": "left"
          },
          "hovermode": "closest",
          "mapbox": {
           "style": "light"
          },
          "paper_bgcolor": "white",
          "plot_bgcolor": "#E5ECF6",
          "polar": {
           "angularaxis": {
            "gridcolor": "white",
            "linecolor": "white",
            "ticks": ""
           },
           "bgcolor": "#E5ECF6",
           "radialaxis": {
            "gridcolor": "white",
            "linecolor": "white",
            "ticks": ""
           }
          },
          "scene": {
           "xaxis": {
            "backgroundcolor": "#E5ECF6",
            "gridcolor": "white",
            "gridwidth": 2,
            "linecolor": "white",
            "showbackground": true,
            "ticks": "",
            "zerolinecolor": "white"
           },
           "yaxis": {
            "backgroundcolor": "#E5ECF6",
            "gridcolor": "white",
            "gridwidth": 2,
            "linecolor": "white",
            "showbackground": true,
            "ticks": "",
            "zerolinecolor": "white"
           },
           "zaxis": {
            "backgroundcolor": "#E5ECF6",
            "gridcolor": "white",
            "gridwidth": 2,
            "linecolor": "white",
            "showbackground": true,
            "ticks": "",
            "zerolinecolor": "white"
           }
          },
          "shapedefaults": {
           "line": {
            "color": "#2a3f5f"
           }
          },
          "ternary": {
           "aaxis": {
            "gridcolor": "white",
            "linecolor": "white",
            "ticks": ""
           },
           "baxis": {
            "gridcolor": "white",
            "linecolor": "white",
            "ticks": ""
           },
           "bgcolor": "#E5ECF6",
           "caxis": {
            "gridcolor": "white",
            "linecolor": "white",
            "ticks": ""
           }
          },
          "title": {
           "x": 0.05
          },
          "xaxis": {
           "automargin": true,
           "gridcolor": "white",
           "linecolor": "white",
           "ticks": "",
           "title": {
            "standoff": 15
           },
           "zerolinecolor": "white",
           "zerolinewidth": 2
          },
          "yaxis": {
           "automargin": true,
           "gridcolor": "white",
           "linecolor": "white",
           "ticks": "",
           "title": {
            "standoff": 15
           },
           "zerolinecolor": "white",
           "zerolinewidth": 2
          }
         }
        },
        "title": {
         "text": "Slice Plot"
        },
        "xaxis": {
         "title": {
          "text": "x"
         }
        },
        "yaxis": {
         "title": {
          "text": "Objective Value"
         }
        }
       }
      }
     },
     "metadata": {},
     "output_type": "display_data"
    }
   ],
   "source": [
    "optuna.visualization.plot_slice(study)"
   ]
  },
  {
   "cell_type": "code",
   "execution_count": 5,
   "id": "125bd099",
   "metadata": {},
   "outputs": [
    {
     "data": {
      "application/vnd.plotly.v1+json": {
       "config": {
        "plotlyServerURL": "https://plot.ly"
       },
       "data": [
        {
         "mode": "markers",
         "name": "Objective Value",
         "type": "scatter",
         "x": [
          0,
          1,
          2,
          3,
          4,
          5,
          6,
          7,
          8,
          9,
          10,
          11,
          12,
          13,
          14,
          15,
          16,
          17,
          18,
          19,
          20,
          21,
          22,
          23,
          24,
          25,
          26,
          27,
          28,
          29,
          30,
          31,
          32,
          33,
          34,
          35,
          36,
          37,
          38,
          39,
          40,
          41,
          42,
          43,
          44,
          45,
          46,
          47,
          48,
          49,
          50,
          51,
          52,
          53,
          54,
          55,
          56,
          57,
          58,
          59,
          60,
          61,
          62,
          63,
          64,
          65,
          66,
          67,
          68,
          69,
          70,
          71,
          72,
          73,
          74,
          75,
          76,
          77,
          78,
          79,
          80,
          81,
          82,
          83,
          84,
          85,
          86,
          87,
          88,
          89,
          90,
          91,
          92,
          93,
          94,
          95,
          96,
          97,
          98,
          99,
          100,
          101,
          102,
          103,
          104,
          105,
          106,
          107,
          108,
          109,
          110,
          111,
          112,
          113,
          114,
          115,
          116,
          117,
          118,
          119,
          120,
          121,
          122,
          123,
          124,
          125,
          126,
          127,
          128,
          129,
          130,
          131,
          132,
          133,
          134,
          135,
          136,
          137,
          138,
          139,
          140,
          141,
          142,
          143,
          144,
          145,
          146,
          147,
          148,
          149,
          150,
          151,
          152,
          153,
          154,
          155,
          156,
          157,
          158,
          159,
          160,
          161,
          162,
          163,
          164,
          165,
          166,
          167,
          168,
          169,
          170,
          171,
          172,
          173,
          174,
          175,
          176,
          177,
          178,
          179,
          180,
          181,
          182,
          183,
          184,
          185,
          186,
          187,
          188,
          189,
          190,
          191,
          192,
          193,
          194,
          195,
          196,
          197,
          198,
          199,
          200,
          201,
          202,
          203,
          204,
          205,
          206,
          207,
          208,
          209,
          210,
          211,
          212,
          213,
          214,
          215,
          216,
          217,
          218,
          219,
          220,
          221,
          222,
          223,
          224,
          225,
          226,
          227,
          228,
          229,
          230,
          231,
          232,
          233,
          234,
          235,
          236,
          237,
          238,
          239,
          240,
          241,
          242,
          243,
          244,
          245,
          246,
          247,
          248,
          249
         ],
         "y": [
          -66.37137686352875,
          -191.3379718957044,
          -132.2225119679851,
          -25.05676405688688,
          -202.90633215384344,
          -97.09749918209351,
          -204.85381310698153,
          -239.71785727697036,
          -4.132719410793489,
          85.06211149792361,
          -240.2327381745961,
          -240.1069380447532,
          -239.6486990828821,
          -236.57501772086857,
          -239.85429513021657,
          -239.66254550251526,
          -240.19133354304194,
          -239.44766590283822,
          -237.6827632022394,
          -239.41815448717682,
          -239.86507844809393,
          -240.16968207467846,
          -195.47747364908076,
          -178.53007437334213,
          -196.74216430836063,
          -196.05293895933235,
          -122.25849350667018,
          -130.95730410156915,
          -140.1489733728446,
          -113.7121006952513,
          -193.09731027691848,
          -108.60583598671354,
          -60.81045632397336,
          -114.12708733319467,
          -122.80954320669268,
          -228.67382691201232,
          -226.05523097619553,
          -212.51128353112279,
          -230.98329780887875,
          -228.2616600143958,
          -234.4059719555287,
          -231.30217122407157,
          -229.62263098407996,
          -230.32744380151746,
          -230.07554276135932,
          -228.42526818371545,
          -212.24577451793883,
          -225.61245634110628,
          -149.03443057590746,
          -227.20041125356323,
          -216.92819125505653,
          -217.37766511941143,
          -227.5401003617614,
          -230.36517781991316,
          -229.6934025121127,
          -228.24571723979096,
          -227.71269142974506,
          -230.92370046436142,
          31.750888215789754,
          -240.27057825190457,
          -239.54255895605849,
          -238.43706240184994,
          -239.52055122060742,
          -239.41599064886725,
          -240.3118543383619,
          -238.90596267576694,
          -239.27479163858362,
          -240.01971162119156,
          -239.950630776308,
          -214.07625599414385,
          -238.43780286870327,
          -207.42364437136223,
          -212.87865380281406,
          -218.07393449763737,
          -238.01621624015576,
          -215.74065489733692,
          -213.72519483432524,
          -212.665272935058,
          -237.80254832626443,
          -214.15009216218894,
          -238.00121266187983,
          -237.46496112345378,
          -240.18790129777358,
          -237.7332834384582,
          -240.23485273380928,
          -240.18928562915448,
          -190.8805949712321,
          -240.3253880732135,
          -240.29220039619568,
          -240.16457359897507,
          -240.29086076346002,
          -240.00569501933919,
          -193.20686116039292,
          -168.81790385446885,
          -240.2241477566724,
          -235.1341017284478,
          -240.3211757619801,
          -235.24017960524247,
          -235.50985382012684,
          -236.84945468420395,
          -234.15694524164726,
          -236.08479076649863,
          -236.95451164982856,
          -235.61340194663944,
          -222.62346826760816,
          -240.26676096465545,
          -233.1920388118679,
          -240.25906430713366,
          -233.80342535360236,
          -240.30060500077974,
          -240.32498736152712,
          -240.3269988973457,
          -240.20495073372578,
          -234.10129850400654,
          -240.2809624574273,
          -240.32684933775687,
          -220.5117446917721,
          -240.26083663627898,
          -240.32718429143566,
          -240.22636308287238,
          -70.05858376314362,
          -222.09022203471812,
          -221.1780706991578,
          -240.31989595649168,
          -240.27531010056984,
          -220.49507307630444,
          -221.744451348151,
          137.23685553559736,
          -238.15247312697863,
          -239.05360753364405,
          -225.00208323153137,
          -239.05004688583625,
          -239.1960021844871,
          -239.43735312375216,
          -238.05544033351381,
          -239.45567951446185,
          -225.79507560600305,
          -236.26973650520895,
          -232.28215875842878,
          -236.17812855859754,
          -235.4242292695117,
          -239.9489248455495,
          -238.64519921576232,
          -232.05439434029958,
          -238.83152650168347,
          -232.7344657783622,
          -239.26414624759067,
          -238.7432022408968,
          -238.87085549107897,
          -239.48604537310297,
          -239.89768401522457,
          -240.30602152874397,
          -240.32568074122844,
          -240.32881960490877,
          -240.29677672292823,
          -240.32612066712318,
          -240.2793040445526,
          -240.31413421306385,
          -240.28013394371905,
          -240.2017747573947,
          -240.32876710050232,
          -240.32346467354515,
          -240.20438002392044,
          -240.2921683017784,
          -236.22570411190054,
          -232.94258594508028,
          -233.20419059091398,
          -231.69835789392707,
          -230.3586524566724,
          -230.85364804846,
          -236.67621711221537,
          -230.79577254074658,
          -229.54162326055305,
          -231.70870706857954,
          -237.85203076976913,
          -238.79587744483803,
          -239.04443671322755,
          -238.93170817881452,
          -239.14624479447815,
          -239.26168967995727,
          -239.06841683663748,
          -239.1366275266359,
          -239.49731949900035,
          -239.688674853612,
          -236.3992176681446,
          -239.79185284248132,
          -236.68705305962027,
          -237.70235490989538,
          -237.40668434509678,
          -236.99138084678475,
          -237.28973562221844,
          -237.47914322523218,
          -240.29818973639507,
          -240.20806962368846,
          -240.2781277000818,
          -240.31720153749515,
          -240.29492335756694,
          -240.27097855085185,
          -240.31795984197282,
          -240.27033182200262,
          -240.21602849287095,
          -240.23405332337666,
          -240.1583799933252,
          -240.32795583069927,
          -239.58802509414193,
          -239.65940712210758,
          -240.15367372254542,
          -239.63340001021393,
          -239.68635219161348,
          -239.67211001455152,
          -24.773251809317593,
          -239.52142896456687,
          -236.93500795040669,
          -235.91708599586386,
          -239.1902945788828,
          -240.06521232330587,
          -236.8770283276681,
          -240.2252324596316,
          -236.90749570721377,
          -240.1548822251853,
          -240.16191965450452,
          -240.1557375747339,
          -240.02018503559768,
          -240.00565218326025,
          -240.21833793580274,
          -240.0851379068699,
          -240.11840630596745,
          -240.23941910074612,
          -240.2413465408664,
          -240.19718329956007,
          -233.24754400293526,
          -234.5552870728638,
          -27.152615014283484,
          -236.9134212540821,
          -238.29111513455314,
          -159.90942060919284,
          -233.30200191456763,
          -237.48542383924723,
          -237.52963337792323,
          -186.28055802979208,
          -239.0500301588128,
          -238.6832377703735,
          -239.4219381273329,
          -239.3036384723283,
          -238.89661177049805,
          -239.5711812030844,
          -238.8794381200993,
          -239.3899633409836,
          -239.08194712619334,
          -238.8668848343142
         ]
        },
        {
         "mode": "lines",
         "name": "Best Value",
         "type": "scatter",
         "x": [
          0,
          1,
          2,
          3,
          4,
          5,
          6,
          7,
          8,
          9,
          10,
          11,
          12,
          13,
          14,
          15,
          16,
          17,
          18,
          19,
          20,
          21,
          22,
          23,
          24,
          25,
          26,
          27,
          28,
          29,
          30,
          31,
          32,
          33,
          34,
          35,
          36,
          37,
          38,
          39,
          40,
          41,
          42,
          43,
          44,
          45,
          46,
          47,
          48,
          49,
          50,
          51,
          52,
          53,
          54,
          55,
          56,
          57,
          58,
          59,
          60,
          61,
          62,
          63,
          64,
          65,
          66,
          67,
          68,
          69,
          70,
          71,
          72,
          73,
          74,
          75,
          76,
          77,
          78,
          79,
          80,
          81,
          82,
          83,
          84,
          85,
          86,
          87,
          88,
          89,
          90,
          91,
          92,
          93,
          94,
          95,
          96,
          97,
          98,
          99,
          100,
          101,
          102,
          103,
          104,
          105,
          106,
          107,
          108,
          109,
          110,
          111,
          112,
          113,
          114,
          115,
          116,
          117,
          118,
          119,
          120,
          121,
          122,
          123,
          124,
          125,
          126,
          127,
          128,
          129,
          130,
          131,
          132,
          133,
          134,
          135,
          136,
          137,
          138,
          139,
          140,
          141,
          142,
          143,
          144,
          145,
          146,
          147,
          148,
          149,
          150,
          151,
          152,
          153,
          154,
          155,
          156,
          157,
          158,
          159,
          160,
          161,
          162,
          163,
          164,
          165,
          166,
          167,
          168,
          169,
          170,
          171,
          172,
          173,
          174,
          175,
          176,
          177,
          178,
          179,
          180,
          181,
          182,
          183,
          184,
          185,
          186,
          187,
          188,
          189,
          190,
          191,
          192,
          193,
          194,
          195,
          196,
          197,
          198,
          199,
          200,
          201,
          202,
          203,
          204,
          205,
          206,
          207,
          208,
          209,
          210,
          211,
          212,
          213,
          214,
          215,
          216,
          217,
          218,
          219,
          220,
          221,
          222,
          223,
          224,
          225,
          226,
          227,
          228,
          229,
          230,
          231,
          232,
          233,
          234,
          235,
          236,
          237,
          238,
          239,
          240,
          241,
          242,
          243,
          244,
          245,
          246,
          247,
          248,
          249
         ],
         "y": [
          -66.37137686352875,
          -191.3379718957044,
          -191.3379718957044,
          -191.3379718957044,
          -202.90633215384344,
          -202.90633215384344,
          -204.85381310698153,
          -239.71785727697036,
          -239.71785727697036,
          -239.71785727697036,
          -240.2327381745961,
          -240.2327381745961,
          -240.2327381745961,
          -240.2327381745961,
          -240.2327381745961,
          -240.2327381745961,
          -240.2327381745961,
          -240.2327381745961,
          -240.2327381745961,
          -240.2327381745961,
          -240.2327381745961,
          -240.2327381745961,
          -240.2327381745961,
          -240.2327381745961,
          -240.2327381745961,
          -240.2327381745961,
          -240.2327381745961,
          -240.2327381745961,
          -240.2327381745961,
          -240.2327381745961,
          -240.2327381745961,
          -240.2327381745961,
          -240.2327381745961,
          -240.2327381745961,
          -240.2327381745961,
          -240.2327381745961,
          -240.2327381745961,
          -240.2327381745961,
          -240.2327381745961,
          -240.2327381745961,
          -240.2327381745961,
          -240.2327381745961,
          -240.2327381745961,
          -240.2327381745961,
          -240.2327381745961,
          -240.2327381745961,
          -240.2327381745961,
          -240.2327381745961,
          -240.2327381745961,
          -240.2327381745961,
          -240.2327381745961,
          -240.2327381745961,
          -240.2327381745961,
          -240.2327381745961,
          -240.2327381745961,
          -240.2327381745961,
          -240.2327381745961,
          -240.2327381745961,
          -240.2327381745961,
          -240.27057825190457,
          -240.27057825190457,
          -240.27057825190457,
          -240.27057825190457,
          -240.27057825190457,
          -240.3118543383619,
          -240.3118543383619,
          -240.3118543383619,
          -240.3118543383619,
          -240.3118543383619,
          -240.3118543383619,
          -240.3118543383619,
          -240.3118543383619,
          -240.3118543383619,
          -240.3118543383619,
          -240.3118543383619,
          -240.3118543383619,
          -240.3118543383619,
          -240.3118543383619,
          -240.3118543383619,
          -240.3118543383619,
          -240.3118543383619,
          -240.3118543383619,
          -240.3118543383619,
          -240.3118543383619,
          -240.3118543383619,
          -240.3118543383619,
          -240.3118543383619,
          -240.3253880732135,
          -240.3253880732135,
          -240.3253880732135,
          -240.3253880732135,
          -240.3253880732135,
          -240.3253880732135,
          -240.3253880732135,
          -240.3253880732135,
          -240.3253880732135,
          -240.3253880732135,
          -240.3253880732135,
          -240.3253880732135,
          -240.3253880732135,
          -240.3253880732135,
          -240.3253880732135,
          -240.3253880732135,
          -240.3253880732135,
          -240.3253880732135,
          -240.3253880732135,
          -240.3253880732135,
          -240.3253880732135,
          -240.3253880732135,
          -240.3253880732135,
          -240.3253880732135,
          -240.3269988973457,
          -240.3269988973457,
          -240.3269988973457,
          -240.3269988973457,
          -240.3269988973457,
          -240.3269988973457,
          -240.3269988973457,
          -240.32718429143566,
          -240.32718429143566,
          -240.32718429143566,
          -240.32718429143566,
          -240.32718429143566,
          -240.32718429143566,
          -240.32718429143566,
          -240.32718429143566,
          -240.32718429143566,
          -240.32718429143566,
          -240.32718429143566,
          -240.32718429143566,
          -240.32718429143566,
          -240.32718429143566,
          -240.32718429143566,
          -240.32718429143566,
          -240.32718429143566,
          -240.32718429143566,
          -240.32718429143566,
          -240.32718429143566,
          -240.32718429143566,
          -240.32718429143566,
          -240.32718429143566,
          -240.32718429143566,
          -240.32718429143566,
          -240.32718429143566,
          -240.32718429143566,
          -240.32718429143566,
          -240.32718429143566,
          -240.32718429143566,
          -240.32718429143566,
          -240.32718429143566,
          -240.32718429143566,
          -240.32718429143566,
          -240.32718429143566,
          -240.32881960490877,
          -240.32881960490877,
          -240.32881960490877,
          -240.32881960490877,
          -240.32881960490877,
          -240.32881960490877,
          -240.32881960490877,
          -240.32881960490877,
          -240.32881960490877,
          -240.32881960490877,
          -240.32881960490877,
          -240.32881960490877,
          -240.32881960490877,
          -240.32881960490877,
          -240.32881960490877,
          -240.32881960490877,
          -240.32881960490877,
          -240.32881960490877,
          -240.32881960490877,
          -240.32881960490877,
          -240.32881960490877,
          -240.32881960490877,
          -240.32881960490877,
          -240.32881960490877,
          -240.32881960490877,
          -240.32881960490877,
          -240.32881960490877,
          -240.32881960490877,
          -240.32881960490877,
          -240.32881960490877,
          -240.32881960490877,
          -240.32881960490877,
          -240.32881960490877,
          -240.32881960490877,
          -240.32881960490877,
          -240.32881960490877,
          -240.32881960490877,
          -240.32881960490877,
          -240.32881960490877,
          -240.32881960490877,
          -240.32881960490877,
          -240.32881960490877,
          -240.32881960490877,
          -240.32881960490877,
          -240.32881960490877,
          -240.32881960490877,
          -240.32881960490877,
          -240.32881960490877,
          -240.32881960490877,
          -240.32881960490877,
          -240.32881960490877,
          -240.32881960490877,
          -240.32881960490877,
          -240.32881960490877,
          -240.32881960490877,
          -240.32881960490877,
          -240.32881960490877,
          -240.32881960490877,
          -240.32881960490877,
          -240.32881960490877,
          -240.32881960490877,
          -240.32881960490877,
          -240.32881960490877,
          -240.32881960490877,
          -240.32881960490877,
          -240.32881960490877,
          -240.32881960490877,
          -240.32881960490877,
          -240.32881960490877,
          -240.32881960490877,
          -240.32881960490877,
          -240.32881960490877,
          -240.32881960490877,
          -240.32881960490877,
          -240.32881960490877,
          -240.32881960490877,
          -240.32881960490877,
          -240.32881960490877,
          -240.32881960490877,
          -240.32881960490877,
          -240.32881960490877,
          -240.32881960490877,
          -240.32881960490877,
          -240.32881960490877,
          -240.32881960490877,
          -240.32881960490877,
          -240.32881960490877,
          -240.32881960490877,
          -240.32881960490877,
          -240.32881960490877,
          -240.32881960490877,
          -240.32881960490877,
          -240.32881960490877,
          -240.32881960490877,
          -240.32881960490877,
          -240.32881960490877,
          -240.32881960490877
         ]
        },
        {
         "marker": {
          "color": "#cccccc"
         },
         "mode": "markers",
         "name": "Infeasible Trial",
         "showlegend": false,
         "type": "scatter",
         "x": [],
         "y": []
        }
       ],
       "layout": {
        "template": {
         "data": {
          "bar": [
           {
            "error_x": {
             "color": "#2a3f5f"
            },
            "error_y": {
             "color": "#2a3f5f"
            },
            "marker": {
             "line": {
              "color": "#E5ECF6",
              "width": 0.5
             },
             "pattern": {
              "fillmode": "overlay",
              "size": 10,
              "solidity": 0.2
             }
            },
            "type": "bar"
           }
          ],
          "barpolar": [
           {
            "marker": {
             "line": {
              "color": "#E5ECF6",
              "width": 0.5
             },
             "pattern": {
              "fillmode": "overlay",
              "size": 10,
              "solidity": 0.2
             }
            },
            "type": "barpolar"
           }
          ],
          "carpet": [
           {
            "aaxis": {
             "endlinecolor": "#2a3f5f",
             "gridcolor": "white",
             "linecolor": "white",
             "minorgridcolor": "white",
             "startlinecolor": "#2a3f5f"
            },
            "baxis": {
             "endlinecolor": "#2a3f5f",
             "gridcolor": "white",
             "linecolor": "white",
             "minorgridcolor": "white",
             "startlinecolor": "#2a3f5f"
            },
            "type": "carpet"
           }
          ],
          "choropleth": [
           {
            "colorbar": {
             "outlinewidth": 0,
             "ticks": ""
            },
            "type": "choropleth"
           }
          ],
          "contour": [
           {
            "colorbar": {
             "outlinewidth": 0,
             "ticks": ""
            },
            "colorscale": [
             [
              0,
              "#0d0887"
             ],
             [
              0.1111111111111111,
              "#46039f"
             ],
             [
              0.2222222222222222,
              "#7201a8"
             ],
             [
              0.3333333333333333,
              "#9c179e"
             ],
             [
              0.4444444444444444,
              "#bd3786"
             ],
             [
              0.5555555555555556,
              "#d8576b"
             ],
             [
              0.6666666666666666,
              "#ed7953"
             ],
             [
              0.7777777777777778,
              "#fb9f3a"
             ],
             [
              0.8888888888888888,
              "#fdca26"
             ],
             [
              1,
              "#f0f921"
             ]
            ],
            "type": "contour"
           }
          ],
          "contourcarpet": [
           {
            "colorbar": {
             "outlinewidth": 0,
             "ticks": ""
            },
            "type": "contourcarpet"
           }
          ],
          "heatmap": [
           {
            "colorbar": {
             "outlinewidth": 0,
             "ticks": ""
            },
            "colorscale": [
             [
              0,
              "#0d0887"
             ],
             [
              0.1111111111111111,
              "#46039f"
             ],
             [
              0.2222222222222222,
              "#7201a8"
             ],
             [
              0.3333333333333333,
              "#9c179e"
             ],
             [
              0.4444444444444444,
              "#bd3786"
             ],
             [
              0.5555555555555556,
              "#d8576b"
             ],
             [
              0.6666666666666666,
              "#ed7953"
             ],
             [
              0.7777777777777778,
              "#fb9f3a"
             ],
             [
              0.8888888888888888,
              "#fdca26"
             ],
             [
              1,
              "#f0f921"
             ]
            ],
            "type": "heatmap"
           }
          ],
          "heatmapgl": [
           {
            "colorbar": {
             "outlinewidth": 0,
             "ticks": ""
            },
            "colorscale": [
             [
              0,
              "#0d0887"
             ],
             [
              0.1111111111111111,
              "#46039f"
             ],
             [
              0.2222222222222222,
              "#7201a8"
             ],
             [
              0.3333333333333333,
              "#9c179e"
             ],
             [
              0.4444444444444444,
              "#bd3786"
             ],
             [
              0.5555555555555556,
              "#d8576b"
             ],
             [
              0.6666666666666666,
              "#ed7953"
             ],
             [
              0.7777777777777778,
              "#fb9f3a"
             ],
             [
              0.8888888888888888,
              "#fdca26"
             ],
             [
              1,
              "#f0f921"
             ]
            ],
            "type": "heatmapgl"
           }
          ],
          "histogram": [
           {
            "marker": {
             "pattern": {
              "fillmode": "overlay",
              "size": 10,
              "solidity": 0.2
             }
            },
            "type": "histogram"
           }
          ],
          "histogram2d": [
           {
            "colorbar": {
             "outlinewidth": 0,
             "ticks": ""
            },
            "colorscale": [
             [
              0,
              "#0d0887"
             ],
             [
              0.1111111111111111,
              "#46039f"
             ],
             [
              0.2222222222222222,
              "#7201a8"
             ],
             [
              0.3333333333333333,
              "#9c179e"
             ],
             [
              0.4444444444444444,
              "#bd3786"
             ],
             [
              0.5555555555555556,
              "#d8576b"
             ],
             [
              0.6666666666666666,
              "#ed7953"
             ],
             [
              0.7777777777777778,
              "#fb9f3a"
             ],
             [
              0.8888888888888888,
              "#fdca26"
             ],
             [
              1,
              "#f0f921"
             ]
            ],
            "type": "histogram2d"
           }
          ],
          "histogram2dcontour": [
           {
            "colorbar": {
             "outlinewidth": 0,
             "ticks": ""
            },
            "colorscale": [
             [
              0,
              "#0d0887"
             ],
             [
              0.1111111111111111,
              "#46039f"
             ],
             [
              0.2222222222222222,
              "#7201a8"
             ],
             [
              0.3333333333333333,
              "#9c179e"
             ],
             [
              0.4444444444444444,
              "#bd3786"
             ],
             [
              0.5555555555555556,
              "#d8576b"
             ],
             [
              0.6666666666666666,
              "#ed7953"
             ],
             [
              0.7777777777777778,
              "#fb9f3a"
             ],
             [
              0.8888888888888888,
              "#fdca26"
             ],
             [
              1,
              "#f0f921"
             ]
            ],
            "type": "histogram2dcontour"
           }
          ],
          "mesh3d": [
           {
            "colorbar": {
             "outlinewidth": 0,
             "ticks": ""
            },
            "type": "mesh3d"
           }
          ],
          "parcoords": [
           {
            "line": {
             "colorbar": {
              "outlinewidth": 0,
              "ticks": ""
             }
            },
            "type": "parcoords"
           }
          ],
          "pie": [
           {
            "automargin": true,
            "type": "pie"
           }
          ],
          "scatter": [
           {
            "fillpattern": {
             "fillmode": "overlay",
             "size": 10,
             "solidity": 0.2
            },
            "type": "scatter"
           }
          ],
          "scatter3d": [
           {
            "line": {
             "colorbar": {
              "outlinewidth": 0,
              "ticks": ""
             }
            },
            "marker": {
             "colorbar": {
              "outlinewidth": 0,
              "ticks": ""
             }
            },
            "type": "scatter3d"
           }
          ],
          "scattercarpet": [
           {
            "marker": {
             "colorbar": {
              "outlinewidth": 0,
              "ticks": ""
             }
            },
            "type": "scattercarpet"
           }
          ],
          "scattergeo": [
           {
            "marker": {
             "colorbar": {
              "outlinewidth": 0,
              "ticks": ""
             }
            },
            "type": "scattergeo"
           }
          ],
          "scattergl": [
           {
            "marker": {
             "colorbar": {
              "outlinewidth": 0,
              "ticks": ""
             }
            },
            "type": "scattergl"
           }
          ],
          "scattermapbox": [
           {
            "marker": {
             "colorbar": {
              "outlinewidth": 0,
              "ticks": ""
             }
            },
            "type": "scattermapbox"
           }
          ],
          "scatterpolar": [
           {
            "marker": {
             "colorbar": {
              "outlinewidth": 0,
              "ticks": ""
             }
            },
            "type": "scatterpolar"
           }
          ],
          "scatterpolargl": [
           {
            "marker": {
             "colorbar": {
              "outlinewidth": 0,
              "ticks": ""
             }
            },
            "type": "scatterpolargl"
           }
          ],
          "scatterternary": [
           {
            "marker": {
             "colorbar": {
              "outlinewidth": 0,
              "ticks": ""
             }
            },
            "type": "scatterternary"
           }
          ],
          "surface": [
           {
            "colorbar": {
             "outlinewidth": 0,
             "ticks": ""
            },
            "colorscale": [
             [
              0,
              "#0d0887"
             ],
             [
              0.1111111111111111,
              "#46039f"
             ],
             [
              0.2222222222222222,
              "#7201a8"
             ],
             [
              0.3333333333333333,
              "#9c179e"
             ],
             [
              0.4444444444444444,
              "#bd3786"
             ],
             [
              0.5555555555555556,
              "#d8576b"
             ],
             [
              0.6666666666666666,
              "#ed7953"
             ],
             [
              0.7777777777777778,
              "#fb9f3a"
             ],
             [
              0.8888888888888888,
              "#fdca26"
             ],
             [
              1,
              "#f0f921"
             ]
            ],
            "type": "surface"
           }
          ],
          "table": [
           {
            "cells": {
             "fill": {
              "color": "#EBF0F8"
             },
             "line": {
              "color": "white"
             }
            },
            "header": {
             "fill": {
              "color": "#C8D4E3"
             },
             "line": {
              "color": "white"
             }
            },
            "type": "table"
           }
          ]
         },
         "layout": {
          "annotationdefaults": {
           "arrowcolor": "#2a3f5f",
           "arrowhead": 0,
           "arrowwidth": 1
          },
          "autotypenumbers": "strict",
          "coloraxis": {
           "colorbar": {
            "outlinewidth": 0,
            "ticks": ""
           }
          },
          "colorscale": {
           "diverging": [
            [
             0,
             "#8e0152"
            ],
            [
             0.1,
             "#c51b7d"
            ],
            [
             0.2,
             "#de77ae"
            ],
            [
             0.3,
             "#f1b6da"
            ],
            [
             0.4,
             "#fde0ef"
            ],
            [
             0.5,
             "#f7f7f7"
            ],
            [
             0.6,
             "#e6f5d0"
            ],
            [
             0.7,
             "#b8e186"
            ],
            [
             0.8,
             "#7fbc41"
            ],
            [
             0.9,
             "#4d9221"
            ],
            [
             1,
             "#276419"
            ]
           ],
           "sequential": [
            [
             0,
             "#0d0887"
            ],
            [
             0.1111111111111111,
             "#46039f"
            ],
            [
             0.2222222222222222,
             "#7201a8"
            ],
            [
             0.3333333333333333,
             "#9c179e"
            ],
            [
             0.4444444444444444,
             "#bd3786"
            ],
            [
             0.5555555555555556,
             "#d8576b"
            ],
            [
             0.6666666666666666,
             "#ed7953"
            ],
            [
             0.7777777777777778,
             "#fb9f3a"
            ],
            [
             0.8888888888888888,
             "#fdca26"
            ],
            [
             1,
             "#f0f921"
            ]
           ],
           "sequentialminus": [
            [
             0,
             "#0d0887"
            ],
            [
             0.1111111111111111,
             "#46039f"
            ],
            [
             0.2222222222222222,
             "#7201a8"
            ],
            [
             0.3333333333333333,
             "#9c179e"
            ],
            [
             0.4444444444444444,
             "#bd3786"
            ],
            [
             0.5555555555555556,
             "#d8576b"
            ],
            [
             0.6666666666666666,
             "#ed7953"
            ],
            [
             0.7777777777777778,
             "#fb9f3a"
            ],
            [
             0.8888888888888888,
             "#fdca26"
            ],
            [
             1,
             "#f0f921"
            ]
           ]
          },
          "colorway": [
           "#636efa",
           "#EF553B",
           "#00cc96",
           "#ab63fa",
           "#FFA15A",
           "#19d3f3",
           "#FF6692",
           "#B6E880",
           "#FF97FF",
           "#FECB52"
          ],
          "font": {
           "color": "#2a3f5f"
          },
          "geo": {
           "bgcolor": "white",
           "lakecolor": "white",
           "landcolor": "#E5ECF6",
           "showlakes": true,
           "showland": true,
           "subunitcolor": "white"
          },
          "hoverlabel": {
           "align": "left"
          },
          "hovermode": "closest",
          "mapbox": {
           "style": "light"
          },
          "paper_bgcolor": "white",
          "plot_bgcolor": "#E5ECF6",
          "polar": {
           "angularaxis": {
            "gridcolor": "white",
            "linecolor": "white",
            "ticks": ""
           },
           "bgcolor": "#E5ECF6",
           "radialaxis": {
            "gridcolor": "white",
            "linecolor": "white",
            "ticks": ""
           }
          },
          "scene": {
           "xaxis": {
            "backgroundcolor": "#E5ECF6",
            "gridcolor": "white",
            "gridwidth": 2,
            "linecolor": "white",
            "showbackground": true,
            "ticks": "",
            "zerolinecolor": "white"
           },
           "yaxis": {
            "backgroundcolor": "#E5ECF6",
            "gridcolor": "white",
            "gridwidth": 2,
            "linecolor": "white",
            "showbackground": true,
            "ticks": "",
            "zerolinecolor": "white"
           },
           "zaxis": {
            "backgroundcolor": "#E5ECF6",
            "gridcolor": "white",
            "gridwidth": 2,
            "linecolor": "white",
            "showbackground": true,
            "ticks": "",
            "zerolinecolor": "white"
           }
          },
          "shapedefaults": {
           "line": {
            "color": "#2a3f5f"
           }
          },
          "ternary": {
           "aaxis": {
            "gridcolor": "white",
            "linecolor": "white",
            "ticks": ""
           },
           "baxis": {
            "gridcolor": "white",
            "linecolor": "white",
            "ticks": ""
           },
           "bgcolor": "#E5ECF6",
           "caxis": {
            "gridcolor": "white",
            "linecolor": "white",
            "ticks": ""
           }
          },
          "title": {
           "x": 0.05
          },
          "xaxis": {
           "automargin": true,
           "gridcolor": "white",
           "linecolor": "white",
           "ticks": "",
           "title": {
            "standoff": 15
           },
           "zerolinecolor": "white",
           "zerolinewidth": 2
          },
          "yaxis": {
           "automargin": true,
           "gridcolor": "white",
           "linecolor": "white",
           "ticks": "",
           "title": {
            "standoff": 15
           },
           "zerolinecolor": "white",
           "zerolinewidth": 2
          }
         }
        },
        "title": {
         "text": "Optimization History Plot"
        },
        "xaxis": {
         "title": {
          "text": "Trial"
         }
        },
        "yaxis": {
         "title": {
          "text": "Objective Value"
         }
        }
       }
      }
     },
     "metadata": {},
     "output_type": "display_data"
    }
   ],
   "source": [
    "optuna.visualization.plot_optimization_history(study)"
   ]
  },
  {
   "cell_type": "code",
   "execution_count": 6,
   "id": "24372a02",
   "metadata": {},
   "outputs": [
    {
     "name": "stdout",
     "output_type": "stream",
     "text": [
      "Best parameters: {'x': 5.164689664000215}\n",
      "Best value: -240.32881960490877\n"
     ]
    }
   ],
   "source": [
    "# display best parameters\n",
    "print(\"Best parameters:\", study.best_params)\n",
    "# display best value\n",
    "print(\"Best value:\", study.best_value)"
   ]
  },
  {
   "cell_type": "markdown",
   "id": "bb6ceb94",
   "metadata": {},
   "source": [
    "<div class=\"alert\" style=\"background-color: #FEF9E7; border-left: 8px solid #D4AC0D; padding: 14px; border-radius: 8px; font-size: 14px; color: #000000;\">\n",
    "\n",
    "We see the results of all runs and that the minimum of the function occurred at `x = 5.16`, which is close to the actual minimum.\n",
    "\n",
    "</div>"
   ]
  },
  {
   "cell_type": "code",
   "execution_count": 8,
   "id": "3385b0e7",
   "metadata": {},
   "outputs": [
    {
     "data": {
      "text/html": [
       "<div>\n",
       "<style scoped>\n",
       "    .dataframe tbody tr th:only-of-type {\n",
       "        vertical-align: middle;\n",
       "    }\n",
       "\n",
       "    .dataframe tbody tr th {\n",
       "        vertical-align: top;\n",
       "    }\n",
       "\n",
       "    .dataframe thead th {\n",
       "        text-align: right;\n",
       "    }\n",
       "</style>\n",
       "<table border=\"1\" class=\"dataframe\">\n",
       "  <thead>\n",
       "    <tr style=\"text-align: right;\">\n",
       "      <th></th>\n",
       "      <th>car_id</th>\n",
       "      <th>model</th>\n",
       "      <th>car_type</th>\n",
       "      <th>fuel_type</th>\n",
       "      <th>car_rating</th>\n",
       "      <th>year_to_start</th>\n",
       "      <th>riders</th>\n",
       "      <th>year_to_work</th>\n",
       "      <th>target_reg</th>\n",
       "      <th>target_class</th>\n",
       "      <th>mean_rating</th>\n",
       "      <th>distance_sum</th>\n",
       "      <th>rating_min</th>\n",
       "      <th>speed_max</th>\n",
       "      <th>user_ride_quality_median</th>\n",
       "      <th>deviation_normal_count</th>\n",
       "      <th>user_uniq</th>\n",
       "    </tr>\n",
       "  </thead>\n",
       "  <tbody>\n",
       "    <tr>\n",
       "      <th>0</th>\n",
       "      <td>y13744087j</td>\n",
       "      <td>Kia Rio X-line</td>\n",
       "      <td>economy</td>\n",
       "      <td>petrol</td>\n",
       "      <td>3.78</td>\n",
       "      <td>2015</td>\n",
       "      <td>76163</td>\n",
       "      <td>2021</td>\n",
       "      <td>109.99</td>\n",
       "      <td>another_bug</td>\n",
       "      <td>4.737759</td>\n",
       "      <td>1.214131e+07</td>\n",
       "      <td>0.10</td>\n",
       "      <td>180.855726</td>\n",
       "      <td>0.023174</td>\n",
       "      <td>174</td>\n",
       "      <td>170</td>\n",
       "    </tr>\n",
       "    <tr>\n",
       "      <th>1</th>\n",
       "      <td>O41613818T</td>\n",
       "      <td>VW Polo VI</td>\n",
       "      <td>economy</td>\n",
       "      <td>petrol</td>\n",
       "      <td>3.90</td>\n",
       "      <td>2015</td>\n",
       "      <td>78218</td>\n",
       "      <td>2021</td>\n",
       "      <td>34.48</td>\n",
       "      <td>electro_bug</td>\n",
       "      <td>4.480517</td>\n",
       "      <td>1.803909e+07</td>\n",
       "      <td>0.00</td>\n",
       "      <td>187.862734</td>\n",
       "      <td>12.306011</td>\n",
       "      <td>174</td>\n",
       "      <td>174</td>\n",
       "    </tr>\n",
       "    <tr>\n",
       "      <th>2</th>\n",
       "      <td>d-2109686j</td>\n",
       "      <td>Renault Sandero</td>\n",
       "      <td>standart</td>\n",
       "      <td>petrol</td>\n",
       "      <td>6.30</td>\n",
       "      <td>2012</td>\n",
       "      <td>23340</td>\n",
       "      <td>2017</td>\n",
       "      <td>34.93</td>\n",
       "      <td>gear_stick</td>\n",
       "      <td>4.768391</td>\n",
       "      <td>1.588366e+07</td>\n",
       "      <td>0.10</td>\n",
       "      <td>102.382857</td>\n",
       "      <td>2.513319</td>\n",
       "      <td>174</td>\n",
       "      <td>173</td>\n",
       "    </tr>\n",
       "    <tr>\n",
       "      <th>3</th>\n",
       "      <td>u29695600e</td>\n",
       "      <td>Mercedes-Benz GLC</td>\n",
       "      <td>business</td>\n",
       "      <td>petrol</td>\n",
       "      <td>4.04</td>\n",
       "      <td>2011</td>\n",
       "      <td>1263</td>\n",
       "      <td>2020</td>\n",
       "      <td>32.22</td>\n",
       "      <td>engine_fuel</td>\n",
       "      <td>3.880920</td>\n",
       "      <td>1.651883e+07</td>\n",
       "      <td>0.10</td>\n",
       "      <td>172.793237</td>\n",
       "      <td>-5.029476</td>\n",
       "      <td>174</td>\n",
       "      <td>170</td>\n",
       "    </tr>\n",
       "    <tr>\n",
       "      <th>4</th>\n",
       "      <td>N-8915870N</td>\n",
       "      <td>Renault Sandero</td>\n",
       "      <td>standart</td>\n",
       "      <td>petrol</td>\n",
       "      <td>4.70</td>\n",
       "      <td>2012</td>\n",
       "      <td>26428</td>\n",
       "      <td>2017</td>\n",
       "      <td>27.51</td>\n",
       "      <td>engine_fuel</td>\n",
       "      <td>4.181149</td>\n",
       "      <td>1.398317e+07</td>\n",
       "      <td>0.10</td>\n",
       "      <td>203.462289</td>\n",
       "      <td>-14.260456</td>\n",
       "      <td>174</td>\n",
       "      <td>171</td>\n",
       "    </tr>\n",
       "    <tr>\n",
       "      <th>5</th>\n",
       "      <td>b12101843B</td>\n",
       "      <td>Skoda Rapid</td>\n",
       "      <td>economy</td>\n",
       "      <td>petrol</td>\n",
       "      <td>2.36</td>\n",
       "      <td>2013</td>\n",
       "      <td>42176</td>\n",
       "      <td>2018</td>\n",
       "      <td>48.99</td>\n",
       "      <td>engine_ignition</td>\n",
       "      <td>4.351782</td>\n",
       "      <td>1.085589e+07</td>\n",
       "      <td>0.10</td>\n",
       "      <td>180.886289</td>\n",
       "      <td>-18.221832</td>\n",
       "      <td>174</td>\n",
       "      <td>173</td>\n",
       "    </tr>\n",
       "    <tr>\n",
       "      <th>6</th>\n",
       "      <td>Q-9368117S</td>\n",
       "      <td>Nissan Qashqai</td>\n",
       "      <td>standart</td>\n",
       "      <td>petrol</td>\n",
       "      <td>5.32</td>\n",
       "      <td>2012</td>\n",
       "      <td>24611</td>\n",
       "      <td>2014</td>\n",
       "      <td>54.72</td>\n",
       "      <td>engine_overheat</td>\n",
       "      <td>4.392126</td>\n",
       "      <td>8.343280e+06</td>\n",
       "      <td>0.10</td>\n",
       "      <td>174.984786</td>\n",
       "      <td>12.321364</td>\n",
       "      <td>174</td>\n",
       "      <td>167</td>\n",
       "    </tr>\n",
       "    <tr>\n",
       "      <th>7</th>\n",
       "      <td>O-2124190y</td>\n",
       "      <td>Tesla Model 3</td>\n",
       "      <td>premium</td>\n",
       "      <td>electro</td>\n",
       "      <td>3.90</td>\n",
       "      <td>2017</td>\n",
       "      <td>116872</td>\n",
       "      <td>2019</td>\n",
       "      <td>50.40</td>\n",
       "      <td>gear_stick</td>\n",
       "      <td>4.712356</td>\n",
       "      <td>9.793288e+06</td>\n",
       "      <td>0.10</td>\n",
       "      <td>95.890736</td>\n",
       "      <td>-8.939366</td>\n",
       "      <td>174</td>\n",
       "      <td>139</td>\n",
       "    </tr>\n",
       "    <tr>\n",
       "      <th>8</th>\n",
       "      <td>h16895544p</td>\n",
       "      <td>Kia Sportage</td>\n",
       "      <td>standart</td>\n",
       "      <td>petrol</td>\n",
       "      <td>3.50</td>\n",
       "      <td>2014</td>\n",
       "      <td>56384</td>\n",
       "      <td>2017</td>\n",
       "      <td>33.59</td>\n",
       "      <td>gear_stick</td>\n",
       "      <td>4.507759</td>\n",
       "      <td>1.644405e+07</td>\n",
       "      <td>0.32</td>\n",
       "      <td>101.798615</td>\n",
       "      <td>-1.164690</td>\n",
       "      <td>174</td>\n",
       "      <td>170</td>\n",
       "    </tr>\n",
       "    <tr>\n",
       "      <th>9</th>\n",
       "      <td>K77009462l</td>\n",
       "      <td>Smart ForFour</td>\n",
       "      <td>economy</td>\n",
       "      <td>petrol</td>\n",
       "      <td>4.56</td>\n",
       "      <td>2013</td>\n",
       "      <td>41309</td>\n",
       "      <td>2018</td>\n",
       "      <td>39.04</td>\n",
       "      <td>gear_stick</td>\n",
       "      <td>4.376839</td>\n",
       "      <td>6.975742e+06</td>\n",
       "      <td>0.10</td>\n",
       "      <td>125.254983</td>\n",
       "      <td>3.769684</td>\n",
       "      <td>174</td>\n",
       "      <td>173</td>\n",
       "    </tr>\n",
       "  </tbody>\n",
       "</table>\n",
       "</div>"
      ],
      "text/plain": [
       "       car_id              model  car_type fuel_type  car_rating  \\\n",
       "0  y13744087j     Kia Rio X-line   economy    petrol        3.78   \n",
       "1  O41613818T         VW Polo VI   economy    petrol        3.90   \n",
       "2  d-2109686j    Renault Sandero  standart    petrol        6.30   \n",
       "3  u29695600e  Mercedes-Benz GLC  business    petrol        4.04   \n",
       "4  N-8915870N    Renault Sandero  standart    petrol        4.70   \n",
       "5  b12101843B        Skoda Rapid   economy    petrol        2.36   \n",
       "6  Q-9368117S     Nissan Qashqai  standart    petrol        5.32   \n",
       "7  O-2124190y      Tesla Model 3   premium   electro        3.90   \n",
       "8  h16895544p       Kia Sportage  standart    petrol        3.50   \n",
       "9  K77009462l      Smart ForFour   economy    petrol        4.56   \n",
       "\n",
       "   year_to_start  riders  year_to_work  target_reg     target_class  \\\n",
       "0           2015   76163          2021      109.99      another_bug   \n",
       "1           2015   78218          2021       34.48      electro_bug   \n",
       "2           2012   23340          2017       34.93       gear_stick   \n",
       "3           2011    1263          2020       32.22      engine_fuel   \n",
       "4           2012   26428          2017       27.51      engine_fuel   \n",
       "5           2013   42176          2018       48.99  engine_ignition   \n",
       "6           2012   24611          2014       54.72  engine_overheat   \n",
       "7           2017  116872          2019       50.40       gear_stick   \n",
       "8           2014   56384          2017       33.59       gear_stick   \n",
       "9           2013   41309          2018       39.04       gear_stick   \n",
       "\n",
       "   mean_rating  distance_sum  rating_min   speed_max  \\\n",
       "0     4.737759  1.214131e+07        0.10  180.855726   \n",
       "1     4.480517  1.803909e+07        0.00  187.862734   \n",
       "2     4.768391  1.588366e+07        0.10  102.382857   \n",
       "3     3.880920  1.651883e+07        0.10  172.793237   \n",
       "4     4.181149  1.398317e+07        0.10  203.462289   \n",
       "5     4.351782  1.085589e+07        0.10  180.886289   \n",
       "6     4.392126  8.343280e+06        0.10  174.984786   \n",
       "7     4.712356  9.793288e+06        0.10   95.890736   \n",
       "8     4.507759  1.644405e+07        0.32  101.798615   \n",
       "9     4.376839  6.975742e+06        0.10  125.254983   \n",
       "\n",
       "   user_ride_quality_median  deviation_normal_count  user_uniq  \n",
       "0                  0.023174                     174        170  \n",
       "1                 12.306011                     174        174  \n",
       "2                  2.513319                     174        173  \n",
       "3                 -5.029476                     174        170  \n",
       "4                -14.260456                     174        171  \n",
       "5                -18.221832                     174        173  \n",
       "6                 12.321364                     174        167  \n",
       "7                 -8.939366                     174        139  \n",
       "8                 -1.164690                     174        170  \n",
       "9                  3.769684                     174        173  "
      ]
     },
     "execution_count": 8,
     "metadata": {},
     "output_type": "execute_result"
    }
   ],
   "source": [
    "from classes import Paths\n",
    "paths = Paths()\n",
    "path = paths.quickstart_train\n",
    "dft = pd.read_csv(path)\n",
    "dft.head(10)"
   ]
  },
  {
   "cell_type": "code",
   "execution_count": 9,
   "id": "da39e394",
   "metadata": {},
   "outputs": [],
   "source": [
    "cat_features = [\"model\", \"car_type\", \"fuel_type\"]  # categorical features\n",
    "targets = [\"target_class\", \"target_reg\"]\n",
    "features2drop = [\"car_id\"]  # features to be dropped"
   ]
  },
  {
   "cell_type": "code",
   "execution_count": 10,
   "id": "6a3d332d",
   "metadata": {},
   "outputs": [],
   "source": [
    "# selecting the final set of features for model use\n",
    "filtered_features = [i for i in dft.columns if (i not in targets and i not in features2drop)]\n",
    "num_features = [i for i in filtered_features if i not in cat_features]"
   ]
  },
  {
   "cell_type": "code",
   "execution_count": 11,
   "id": "6b0bb9d9",
   "metadata": {},
   "outputs": [
    {
     "data": {
      "text/plain": [
       "<catboost.core.CatBoostClassifier at 0x322040500>"
      ]
     },
     "execution_count": 11,
     "metadata": {},
     "output_type": "execute_result"
    }
   ],
   "source": [
    "CatBoostClassifier()"
   ]
  },
  {
   "cell_type": "markdown",
   "id": "b156daa1",
   "metadata": {},
   "source": [
    "<div class=\"alert\" style=\"background-color: #E8F8F5; border-left: 8px solid #1ABC9C; padding: 14px; border-radius: 8px; font-size: 14px; color: #000000;\">\n",
    "\n",
    "<div class=\"alert alert-info\">\n",
    "\n",
    "**Tips for hyperparameter tuning:**\n",
    "</div>\n",
    "\n",
    "- Understand the importance of each parameter\n",
    "- Set the number of `iterations` with a margin and fix it, while limiting with `early_stopping_rounds`\n",
    "- Peek at or intuit the value ranges and step sizes\n",
    "- Exclude parameters that don't need to be tuned (`random_seed`, `eval_metric`, `thread_count`, etc.)\n",
    "- Use insights from previous runs\n",
    "\n",
    "</div>\n"
   ]
  },
  {
   "cell_type": "markdown",
   "id": "20bc3298",
   "metadata": {},
   "source": [
    "<div class=\"alert\" style=\"background-color: #FEF9E7; border-left: 8px solid #D4AC0D; padding: 14px; border-radius: 8px; font-size: 14px; color: #000000;\">\n",
    "\n",
    "Let's define a training function for `CatBoost` that returns predictions using `KFold` validation.\n",
    "\n",
    "</div>"
   ]
  }
 ],
 "metadata": {
  "kernelspec": {
   "display_name": ".venv",
   "language": "python",
   "name": "python3"
  },
  "language_info": {
   "codemirror_mode": {
    "name": "ipython",
    "version": 3
   },
   "file_extension": ".py",
   "mimetype": "text/x-python",
   "name": "python",
   "nbconvert_exporter": "python",
   "pygments_lexer": "ipython3",
   "version": "3.12.6"
  }
 },
 "nbformat": 4,
 "nbformat_minor": 5
}
