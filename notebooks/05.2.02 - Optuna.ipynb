{
 "cells": [
  {
   "cell_type": "markdown",
   "id": "13223b6c",
   "metadata": {},
   "source": [
    "<div style=\" border-bottom: 8px solid #e3f56c; overflow: hidden; border-radius: 10px; height: 95%; width: 100%; display: flex;\">\n",
    "  <div style=\"height: 100%; width: 100%; background-color: #3800BB; float: left; text-align: center; display: flex; justify-content: left; align-items: center; font-size: 40px; \">\n",
    "    <b><span style=\"color: #FFFFFF; padding: 20px 20px;\">Hyperparameters Tuning with Optuna</span></b>\n",
    "  </div>\n",
    "</div>\n",
    "\n"
   ]
  },
  {
   "cell_type": "markdown",
   "id": "ac2a4406",
   "metadata": {},
   "source": [
    "<div class=\"alert\" style=\"background-color: #FFFFFF; border-left: 8px solid #B12111; padding: 14px; border-radius: 8px; font-size: 14px; color: #000000;\">\n",
    "\n",
    "<div class=\"alert alert-danger\">\n",
    "\n",
    "**Contents** \n",
    "</div>\n",
    "\n",
    "<hr>\n",
    "  <p><font size=\"3\" face=\"Arial\" font-size=\"large\">\n",
    "  <ul type=\"square\">\n",
    "\n",
    "  <li> Basic Optuna concepts;  </li>\n",
    "  <li> Implementation;  </li>\n",
    "  <li> Visuals;  </li>\n",
    "  <li> Pruning;  </li>\n",
    "  <li> Conslusion;  </li>\n",
    "  <li> Useful Resources  </li>\n",
    "  \n",
    "  </ul>\n",
    "  </font></p>\n",
    "\n",
    "</div>"
   ]
  },
  {
   "cell_type": "markdown",
   "id": "f1d45d51",
   "metadata": {},
   "source": [
    "<div class=\"alert\" style=\"background-color:#E8F8F5; border-left: 8px solid #1ABC9C; padding: 14px; border-radius: 8px; font-size: 14px; color: #000000;\">\n",
    "\n",
    "* In previous lessons, we looked at finding optimal hyperparameters using classical methods: exhaustive grid search (`GridSearchCV`) and random search from a given distribution (`Random Search`).\n",
    "* Although `Random Search` significantly speeds up the search process, we might miss a set of hyperparameters where the model performs best.<br>\n",
    "* And here, an idea might come to mind: \"What if we do some guessing at first, like in `Random Search`, and then check more often in those areas where the model showed better accuracy?!\" This method is called **Bayesian hyperparameter optimization**.\n",
    "* The most popular libraries implementing this method are `HyperOpt` and `Optuna`. (in our practice, `HyperOpt` often has failures and unstable performance, so in this notebook we will focus on **`Optuna`**)\n",
    "</div>"
   ]
  },
  {
   "cell_type": "markdown",
   "id": "9d87a19b",
   "metadata": {},
   "source": [
    "<div class=\"alert\" style=\"background-color: #E8F8F5; border-left: 8px solid #1ABC9C; padding: 14px; border-radius: 8px; font-size: 14px; color: #000000;\">\n",
    "\n",
    "<div class=\"alert alert-info\">\n",
    "\n",
    "**Key Features of the `Optuna` Framework**\n",
    "</div>\n",
    "\n",
    "* Lightweight and highly versatile - suitable for optimizing arbitrary functions and evaluation metrics.\n",
    "* Incorporates state-of-the-art algorithms specifically adapted for hyperparameter search.\n",
    "* Supports parallel execution and advanced pruning strategies.\n",
    "* Includes built-in tools for result visualization.\n",
    "* Offers seamless integration with many popular libraries and frameworks (e.g., boosting algorithms, **scikit-learn**, **PyTorch**, **Weights & Biases**, among others).\n",
    "\n",
    "To understand how to use it effectively, we will examine the framework in detail.\n",
    "\n",
    "</div>\n"
   ]
  },
  {
   "cell_type": "code",
   "execution_count": 1,
   "id": "919e6a49",
   "metadata": {},
   "outputs": [],
   "source": [
    "import optuna\n",
    "\n",
    "import numpy as np\n",
    "import pandas as pd\n",
    "\n",
    "from catboost import CatBoostClassifier\n",
    "from sklearn.model_selection import KFold, train_test_split"
   ]
  },
  {
   "cell_type": "markdown",
   "id": "1edcad5c",
   "metadata": {},
   "source": [
    "<div class=\"alert\" style=\"background-color: #E8F8F5; border-left: 8px solid #1ABC9C; padding: 14px; border-radius: 8px; font-size: 14px; color: #000000;\">\n",
    "\n",
    "**`Optuna` has two core concepts:**\n",
    "\n",
    "\n",
    "<div class=\"alert alert-info\">\n",
    "\n",
    "**1. `Study`: an optimization based on an `Objective` function.**\n",
    "</div>\n",
    "\n",
    "\n",
    "The `Objective` function should contain the logic for calculating the metric to optimize. Optuna will call this function multiple times to search for the best set of parameters.\n",
    "\n",
    "\n",
    "<div class=\"alert\" style=\"background-color:rgb(0, 0, 0); border-left: 8px solid #B12111; padding: 14px; border-radius: 8px; font-size: 14px; color:rgb(255, 255, 255);\">\n",
    "\n",
    "```python\n",
    "def objective(trial, ...):\n",
    "    # calculate score...\n",
    "    return score\n",
    "```\n",
    "</div>\n",
    "\n",
    "<div class=\"alert alert-info\">\n",
    "\n",
    "**2. `Trial` - a single execution of the `Objective` function**\n",
    "</div>\n",
    "\n",
    "\n",
    "Within the `trial` object, we define parameters to be tuned using appropriate methods depending on the type. For example:\n",
    "\n",
    "<div class=\"alert\" style=\"background-color:rgb(0, 0, 0); border-left: 8px solid #B12111; padding: 14px; border-radius: 8px; font-size: 14px; color:rgb(255, 255, 255);\">\n",
    "\n",
    "```python\n",
    "# `suggest_float` method is used to tune float values within the range [0, 1.5]\n",
    "param = trial.suggest_float('param', 0, 1.5) \n",
    "\n",
    "# Categorical value\n",
    "loss_function = trial.suggest_categorical('loss', ['Logloss', 'CrossEntropy'])\n",
    "\n",
    "# Integer value\n",
    "depth = trial.suggest_int('depth', 5, 8)\n",
    "\n",
    "# Uniform distribution\n",
    "learning_rate = trial.suggest_uniform('learning_rate', 0.0, 1.0)\n",
    "```\n",
    "</div>\n",
    "\n",
    "</div>"
   ]
  },
  {
   "cell_type": "markdown",
   "id": "8505920d",
   "metadata": {},
   "source": [
    "<div class=\"alert\" style=\"background-color: #E8F8F5; border-left: 8px solid #1ABC9C; padding: 14px; border-radius: 8px; font-size: 14px; color: #000000;\">\n",
    "    \n",
    "[`Optuna`](https://optuna.readthedocs.io/en/stable/index.html) implements several parameter search methods (`samplers`), including classical ones:\n",
    "* `GridSampler`\n",
    "* `RandomSampler`\n",
    "* `Tree-Structured Parzen Estimator` (`TPESampler` – the most popular and default one)\n",
    "* `BruteForceSampler`\n",
    "* And [4 more](https://optuna.readthedocs.io/en/stable/reference/samplers/index.html#module-optuna.samplers); you can also implement a custom sampler.\n",
    "</div>\n"
   ]
  },
  {
   "cell_type": "markdown",
   "id": "184d877b",
   "metadata": {},
   "source": [
    "<div class=\"alert\" style=\"background-color: #E8F8F5; border-left: 8px solid #1ABC9C; padding: 14px; border-radius: 8px; font-size: 14px; color: #000000;\">\n",
    "\n",
    "<div class=\"alert alert-info\">\n",
    "\n",
    "**Let's go through a simple example to see how `Optuna` works:**\n",
    "</div>\n",
    "\n",
    "* Suppose we have a function `y = (x+1)(x+5)(x-9)`, and we want to find the value of `x` that minimizes the function.\n",
    "* We'll create an `objective` function and pass a `trial` object as an argument — using it, we'll define the search range for `x` as `[-5, 5]`.\n",
    "\n",
    "<img src='../imgs/05.2.02_1.JPG' width='600px'>\n",
    "\n",
    "</div>\n"
   ]
  },
  {
   "cell_type": "code",
   "execution_count": 2,
   "id": "aa9a7957",
   "metadata": {},
   "outputs": [],
   "source": [
    "# Limit logging\n",
    "optuna.logging.set_verbosity(30)"
   ]
  },
  {
   "cell_type": "code",
   "execution_count": 3,
   "id": "faa0974f",
   "metadata": {},
   "outputs": [
    {
     "data": {
      "application/vnd.jupyter.widget-view+json": {
       "model_id": "888a048d900b4e4eb2e8424db9900e4a",
       "version_major": 2,
       "version_minor": 0
      },
      "text/plain": [
       "  0%|          | 0/250 [00:00<?, ?it/s]"
      ]
     },
     "metadata": {},
     "output_type": "display_data"
    }
   ],
   "source": [
    "def objective(trial):\n",
    "    x = trial.suggest_float(\"x\", -2, 10)\n",
    "    return (x + 1) * (x + 5) * (x - 9)\n",
    "\n",
    "\n",
    "# create a study object and run for 10 iterations; since we are searching for a minimum, the direction parameter is left as default\n",
    "study = optuna.create_study()\n",
    "\n",
    "# run the optimization\n",
    "study.optimize(objective,\n",
    "               n_jobs=-1,\n",
    "               n_trials=250,\n",
    "               show_progress_bar=True)"
   ]
  },
  {
   "cell_type": "code",
   "execution_count": 4,
   "id": "c63b965f",
   "metadata": {},
   "outputs": [
    {
     "data": {
      "application/vnd.plotly.v1+json": {
       "config": {
        "plotlyServerURL": "https://plot.ly"
       },
       "data": [
        {
         "marker": {
          "color": [
           0,
           1,
           2,
           3,
           4,
           5,
           6,
           7,
           8,
           9,
           10,
           11,
           12,
           13,
           14,
           15,
           16,
           17,
           18,
           19,
           20,
           21,
           22,
           23,
           24,
           25,
           26,
           27,
           28,
           29,
           30,
           31,
           32,
           33,
           34,
           35,
           36,
           37,
           38,
           39,
           40,
           41,
           42,
           43,
           44,
           45,
           46,
           47,
           48,
           49,
           50,
           51,
           52,
           53,
           54,
           55,
           56,
           57,
           58,
           59,
           60,
           61,
           62,
           63,
           64,
           65,
           66,
           67,
           68,
           69,
           70,
           71,
           72,
           73,
           74,
           75,
           76,
           77,
           78,
           79,
           80,
           81,
           82,
           83,
           84,
           85,
           86,
           87,
           88,
           89,
           90,
           91,
           92,
           93,
           94,
           95,
           96,
           97,
           98,
           99,
           100,
           101,
           102,
           103,
           104,
           105,
           106,
           107,
           108,
           109,
           110,
           111,
           112,
           113,
           114,
           115,
           116,
           117,
           118,
           119,
           120,
           121,
           122,
           123,
           124,
           125,
           126,
           127,
           128,
           129,
           130,
           131,
           132,
           133,
           134,
           135,
           136,
           137,
           138,
           139,
           140,
           141,
           142,
           143,
           144,
           145,
           146,
           147,
           148,
           149,
           150,
           151,
           152,
           153,
           154,
           155,
           156,
           157,
           158,
           159,
           160,
           161,
           162,
           163,
           164,
           165,
           166,
           167,
           168,
           169,
           170,
           171,
           172,
           173,
           174,
           175,
           176,
           177,
           178,
           179,
           180,
           181,
           182,
           183,
           184,
           185,
           186,
           187,
           188,
           189,
           190,
           191,
           192,
           193,
           194,
           195,
           196,
           197,
           198,
           199,
           200,
           201,
           202,
           203,
           204,
           205,
           206,
           207,
           208,
           209,
           210,
           211,
           212,
           213,
           214,
           215,
           216,
           217,
           218,
           219,
           220,
           221,
           222,
           223,
           224,
           225,
           226,
           227,
           228,
           229,
           230,
           231,
           232,
           233,
           234,
           235,
           236,
           237,
           238,
           239,
           240,
           241,
           242,
           243,
           244,
           245,
           246,
           247,
           248,
           249
          ],
          "colorbar": {
           "title": {
            "text": "Trial"
           },
           "x": 1,
           "xpad": 40
          },
          "colorscale": [
           [
            0,
            "rgb(247,251,255)"
           ],
           [
            0.125,
            "rgb(222,235,247)"
           ],
           [
            0.25,
            "rgb(198,219,239)"
           ],
           [
            0.375,
            "rgb(158,202,225)"
           ],
           [
            0.5,
            "rgb(107,174,214)"
           ],
           [
            0.625,
            "rgb(66,146,198)"
           ],
           [
            0.75,
            "rgb(33,113,181)"
           ],
           [
            0.875,
            "rgb(8,81,156)"
           ],
           [
            1,
            "rgb(8,48,107)"
           ]
          ],
          "line": {
           "color": "Grey",
           "width": 0.5
          }
         },
         "mode": "markers",
         "name": "Feasible Trial",
         "showlegend": false,
         "type": "scatter",
         "x": [
          8.269854336132477,
          6.072301508546143,
          6.013033803956938,
          8.300210197629758,
          9.59030436136371,
          8.607768993851636,
          -1.8260135098205774,
          5.111366562882717,
          1.8403696457890506,
          -0.7403999608912892,
          4.421310155428868,
          4.253397757248043,
          8.01147315712822,
          2.137649843134529,
          3.113713330152611,
          2.936621699409188,
          5.907623750742714,
          4.433422813905281,
          4.454675771447882,
          4.461860762939396,
          1.2618750352909096,
          5.451161528299213,
          6.69905702226342,
          6.861648778836355,
          5.067206554894609,
          5.291320319999007,
          5.270455309866129,
          5.310629471148712,
          5.291300230975558,
          3.472770398549096,
          7.221109652161017,
          7.506881330745684,
          7.3573561084121835,
          7.4175954973558325,
          3.605353779457221,
          5.1198322843472,
          5.156668354156372,
          6.27305576046748,
          6.401777735553749,
          6.169449741242333,
          5.0125239742048375,
          6.247241218342659,
          6.340039910880056,
          5.30687743214747,
          5.3434173095849005,
          9.274592720360106,
          2.601086994093781,
          9.039095357532702,
          4.83079000557893,
          3.760350307657643,
          4.902693372053139,
          3.932165784953633,
          9.729481678427135,
          9.521656659792491,
          9.225317696561344,
          4.0337932046230085,
          3.7514253926368015,
          1.5499069830502954,
          5.7547206785564615,
          5.745998433591094,
          5.85190573920217,
          5.709290864290349,
          5.772566645236037,
          5.70680515711688,
          5.607891797681327,
          5.8448470534921775,
          5.778152535478983,
          5.840175594935094,
          5.870102282891607,
          4.748517086170552,
          4.805318623137797,
          4.572001520185374,
          4.78807980129346,
          4.635186781394812,
          4.727987512567287,
          4.646903047441264,
          4.752128873217769,
          4.6332376845509256,
          5.317892624612047,
          5.230856164723945,
          5.130590867556847,
          6.858925625025281,
          5.091615334545796,
          5.249956818643719,
          5.172798835500459,
          5.215885413083247,
          5.261261448415441,
          6.846556014204612,
          6.844341729636769,
          6.770045959394455,
          4.096142164391966,
          6.532800659864284,
          4.314073525230809,
          4.276522813696392,
          -0.08321890570742241,
          4.184389074438516,
          4.336051825891157,
          5.096311692898249,
          4.233937781377687,
          3.2875411642615107,
          5.089388863571564,
          5.078785742146267,
          3.440670303494811,
          5.051002647763818,
          3.1994524246562137,
          3.4140576840428345,
          3.3333838142332284,
          5.112102748756981,
          5.106455554617263,
          5.059015510487727,
          4.977871496020739,
          6.094009824674586,
          5.50025535729175,
          5.534419808643707,
          5.48913895274338,
          6.258705039851086,
          6.126982131383176,
          6.140308924155726,
          6.061428472412674,
          5.4609720849878,
          5.4798853662893245,
          5.5715128171748995,
          5.514913625169072,
          6.091820034577266,
          4.4519099141664515,
          3.764000389735793,
          3.8509848760859198,
          3.9448185022107563,
          3.737222036145994,
          3.7833998271097187,
          5.089597688506341,
          5.059980385909294,
          5.0479739138176765,
          5.091392841607686,
          5.114983109838048,
          5.232037910137251,
          5.142739052488275,
          5.140810231846839,
          5.048255906959158,
          4.975181964205813,
          5.10091966705827,
          5.2645641675465775,
          4.548679261288204,
          4.580876178010798,
          4.425565756752345,
          4.585251411478285,
          6.505219181216463,
          4.563652666179071,
          4.803993765121007,
          5.323217861211784,
          4.845521902949195,
          4.763342064928766,
          4.815545520922518,
          5.316354825649265,
          4.788299254411668,
          4.853144869524208,
          4.849598962571018,
          5.354649228854905,
          4.850995144224545,
          5.236951217107707,
          5.7017780749943725,
          5.301653201778725,
          5.857813175504806,
          5.7420750012405675,
          5.9437354094324615,
          5.689223839348098,
          5.755255120515827,
          5.892853073284263,
          5.7107535932201525,
          5.693476998945895,
          5.6564214287532995,
          5.672824686652968,
          5.614521538851264,
          5.208116460064283,
          5.260228578250348,
          5.201442458422652,
          5.146777046110275,
          5.212223915926578,
          5.132662969216106,
          5.132381321226657,
          -1.6943553627015495,
          5.127366272814796,
          -1.9387653374714207,
          5.447427755255977,
          5.201146810735861,
          4.384005068694563,
          4.181824764512672,
          5.441400049746822,
          5.042891748948636,
          5.465839315667636,
          4.375635072636227,
          5.4380512910662215,
          5.05459511527534,
          5.084649222881671,
          5.010278645712001,
          4.642378952597827,
          5.3817684798183185,
          4.976798934341861,
          4.984003679931403,
          5.145742390245816,
          5.005389657397295,
          4.669398447088886,
          4.663423272046552,
          5.2060849701351515,
          5.172643157256927,
          4.658285338590443,
          4.643240548150872,
          4.701410876174958,
          4.651028544203742,
          5.24364928406043,
          5.241453761407184,
          5.196987398559189,
          5.189689724319541,
          5.272866783033843,
          5.2514827980022725,
          5.295095670643542,
          8.233005913444641,
          5.264636094914651,
          5.406857467705571,
          5.450212664019497,
          5.461542401468159,
          5.527490033342719,
          5.429828812983125,
          5.524138045562216,
          5.510705653034001,
          5.531088160126083,
          5.509867063821229,
          5.494471859210662,
          5.571537774475635,
          4.844754139054276,
          4.982467138624856,
          4.897322831896397,
          4.831436575636657,
          4.876995143530536,
          4.871395738990372,
          4.940655084113385,
          4.969149287820855,
          4.9405745404808465,
          4.831622012094064,
          4.889076289799904,
          0.7707260215531662,
          4.978109007710348,
          5.151423462063278,
          5.117111789462563,
          5.140389026824793,
          5.192306892956694,
          5.174490757159922,
          5.190576067171876,
          5.175443046099643,
          5.185076095734826
         ],
         "y": [
          -89.81493828959955,
          -229.25827472464366,
          -230.6976720941234,
          -86.56032501406008,
          91.21132933656561,
          -51.28039981110575,
          28.38316285365513,
          -240.2952548905334,
          -139.10573477044608,
          -10.770859633537032,
          -233.86045016281327,
          -230.74077934352,
          -115.90728426254488,
          -153.68539175809153,
          -196.46947848198022,
          -189.44102170098014,
          -232.99744144236087,
          -234.0634515389411,
          -234.4123286237091,
          -234.5281587974761,
          -109.59954282908741,
          -239.27025296643083,
          -207.24986199308088,
          -199.40577748708998,
          -240.21432201406958,
          -240.12214729820366,
          -240.18428559956624,
          -240.0546570191622,
          -240.12221250780948,
          -209.4640750572142,
          -178.7270389344287,
          -158.85969682301024,
          -169.64376135512154,
          -165.40288135050355,
          -213.793598159883,
          -240.30529105612106,
          -240.32828831774358,
          -223.58096689751858,
          -219.2728747393668,
          -226.66709228250062,
          -240.04821173327628,
          -224.38141526180573,
          -221.40535709217096,
          -240.06852482711113,
          -239.91794278163292,
          40.273313350421574,
          -175.15216990548245,
          5.510092537294059,
          -238.98442058009073,
          -218.5056334712319,
          -239.4980718856798,
          -223.26304343509563,
          115.28706838718134,
          79.70490463631356,
          32.77435000712303,
          -225.83451369828023,
          -218.24489005688082,
          -124.42887251722198,
          -235.75375169146014,
          -235.89067145850936,
          -234.08043733714263,
          -236.44320145034226,
          -235.46684239866684,
          -236.47923711949042,
          -237.77254220061863,
          -234.21116612702974,
          -235.37516573208404,
          -234.2968862387812,
          -233.7367380581799,
          -238.25104917218346,
          -238.77384301801047,
          -236.16821561263998,
          -238.6229145300177,
          -236.9922354232914,
          -238.0441869501751,
          -237.1355059253293,
          -238.28646357266285,
          -236.9681104705039,
          -240.02677698074362,
          -240.27158645365148,
          -240.31548868060645,
          -199.54473703093007,
          -240.264971942539,
          -240.23446943544292,
          -240.32772241536063,
          -240.2942018473422,
          -240.2081221956016,
          -200.17266502991737,
          -200.28450371357187,
          -203.93776648737727,
          -227.31947559544878,
          -214.33618706633297,
          -231.93307762053826,
          -231.20374226392667,
          -40.943626102204476,
          -229.29746377887966,
          -232.34696756860095,
          -240.27304208363043,
          -230.34309987825029,
          -202.9817931628042,
          -240.26095677712064,
          -240.24016761227838,
          -208.3760963358433,
          -240.17266267844664,
          -199.73147489734328,
          -207.4626571588484,
          -204.63143009722083,
          -240.2961978814919,
          -240.2886223592385,
          -240.19406253519477,
          -239.90562077150244,
          -228.7043754809946,
          -238.87276474338134,
          -238.55779213285538,
          -238.96844295299866,
          -224.0285449308505,
          -227.83549653431487,
          -227.47483362660006,
          -229.53031147845127,
          -239.19599079779644,
          -239.04554910371306,
          -238.17985700646162,
          -238.7414998438268,
          -228.7609012962252,
          -234.36745451514852,
          -218.61189158987105,
          -221.07808129415216,
          -223.59322560351828,
          -217.82722599089678,
          -219.17291689830785,
          -240.2613385371309,
          -240.1965339950742,
          -240.1641672865966,
          -240.26457617590992,
          -240.29975884779458,
          -240.26955924923263,
          -240.32355473684268,
          -240.32251875279,
          -240.16496766688323,
          -239.89335192430948,
          -240.28043347331743,
          -240.19980832826565,
          -235.8423618408012,
          -236.28915266734796,
          -233.9321153962027,
          -236.3481525013963,
          -215.4223071281249,
          -236.05290281007478,
          -238.76248398572693,
          -240.0054675144417,
          -239.09941220753623,
          -238.39453901674693,
          -238.86017640411023,
          -240.03279388424897,
          -238.62487838531302,
          -239.15694946672775,
          -239.13035232803244,
          -239.8646776208969,
          -239.14085948478194,
          -240.26075048253185,
          -236.55158228634417,
          -240.08722812862754,
          -233.96991517175175,
          -235.9515539358969,
          -232.24677813782534,
          -236.72913969238982,
          -235.74529161962522,
          -233.29340245231717,
          -236.4219144604887,
          -236.66948355403997,
          -237.17217177600702,
          -236.95439897342465,
          -237.69437959550626,
          -240.30370227281134,
          -240.21066496130848,
          -240.31064671860244,
          -240.32542407778428,
          -240.29886942688037,
          -240.3171235189782,
          -240.31690755633068,
          24.546669176411857,
          -240.31273292484522,
          31.43561589235851,
          -239.29784059044607,
          -240.31092836141144,
          -233.21636233605815,
          -229.24206573664597,
          -239.34159241296823,
          -240.14941166221826,
          -239.15819199501942,
          -233.0679586954994,
          -239.3654807659006,
          -240.18245021410476,
          -240.25200444707386,
          -240.03984569021128,
          -237.08053920978617,
          -239.72246617671777,
          -239.9007487528842,
          -239.93294822583124,
          -240.32498373778725,
          -240.0212098921459,
          -237.40215903270965,
          -237.33241508489297,
          -240.30593506371284,
          -240.3277589688531,
          -237.27181608497784,
          -237.09104189689313,
          -237.7623987784393,
          -237.1852393730036,
          -240.24775321944225,
          -240.25213928414902,
          -240.31465726599748,
          -240.3201471471407,
          -240.17767511078608,
          -240.23110334281336,
          -240.10970786426898,
          -93.71166105292606,
          -240.19962416235114,
          -239.57368554568265,
          -239.27729908749905,
          -239.19159454249214,
          -238.62423945788188,
          -239.42286946992652,
          -238.65591232662507,
          -238.77977706037387,
          -238.5899011580573,
          -238.7873478851132,
          -238.92295883625067,
          -238.17959004993088,
          -239.0935428516784,
          -239.9261851293865,
          -239.46386260178795,
          -238.98957226458933,
          -239.32827932497054,
          -239.28924127763173,
          -239.72056751000926,
          -239.86520531665244,
          -239.7201313932452,
          -238.99104799569614,
          -239.41002113842276,
          -84.0898052644655,
          -239.90669593482406,
          -240.32707307151088,
          -240.30225889483108,
          -240.32228022266563,
          -240.31833239669854,
          -240.32728601229945,
          -240.31955184272076,
          -240.32700885230238,
          -240.32292700704616
         ]
        }
       ],
       "layout": {
        "template": {
         "data": {
          "bar": [
           {
            "error_x": {
             "color": "#2a3f5f"
            },
            "error_y": {
             "color": "#2a3f5f"
            },
            "marker": {
             "line": {
              "color": "#E5ECF6",
              "width": 0.5
             },
             "pattern": {
              "fillmode": "overlay",
              "size": 10,
              "solidity": 0.2
             }
            },
            "type": "bar"
           }
          ],
          "barpolar": [
           {
            "marker": {
             "line": {
              "color": "#E5ECF6",
              "width": 0.5
             },
             "pattern": {
              "fillmode": "overlay",
              "size": 10,
              "solidity": 0.2
             }
            },
            "type": "barpolar"
           }
          ],
          "carpet": [
           {
            "aaxis": {
             "endlinecolor": "#2a3f5f",
             "gridcolor": "white",
             "linecolor": "white",
             "minorgridcolor": "white",
             "startlinecolor": "#2a3f5f"
            },
            "baxis": {
             "endlinecolor": "#2a3f5f",
             "gridcolor": "white",
             "linecolor": "white",
             "minorgridcolor": "white",
             "startlinecolor": "#2a3f5f"
            },
            "type": "carpet"
           }
          ],
          "choropleth": [
           {
            "colorbar": {
             "outlinewidth": 0,
             "ticks": ""
            },
            "type": "choropleth"
           }
          ],
          "contour": [
           {
            "colorbar": {
             "outlinewidth": 0,
             "ticks": ""
            },
            "colorscale": [
             [
              0,
              "#0d0887"
             ],
             [
              0.1111111111111111,
              "#46039f"
             ],
             [
              0.2222222222222222,
              "#7201a8"
             ],
             [
              0.3333333333333333,
              "#9c179e"
             ],
             [
              0.4444444444444444,
              "#bd3786"
             ],
             [
              0.5555555555555556,
              "#d8576b"
             ],
             [
              0.6666666666666666,
              "#ed7953"
             ],
             [
              0.7777777777777778,
              "#fb9f3a"
             ],
             [
              0.8888888888888888,
              "#fdca26"
             ],
             [
              1,
              "#f0f921"
             ]
            ],
            "type": "contour"
           }
          ],
          "contourcarpet": [
           {
            "colorbar": {
             "outlinewidth": 0,
             "ticks": ""
            },
            "type": "contourcarpet"
           }
          ],
          "heatmap": [
           {
            "colorbar": {
             "outlinewidth": 0,
             "ticks": ""
            },
            "colorscale": [
             [
              0,
              "#0d0887"
             ],
             [
              0.1111111111111111,
              "#46039f"
             ],
             [
              0.2222222222222222,
              "#7201a8"
             ],
             [
              0.3333333333333333,
              "#9c179e"
             ],
             [
              0.4444444444444444,
              "#bd3786"
             ],
             [
              0.5555555555555556,
              "#d8576b"
             ],
             [
              0.6666666666666666,
              "#ed7953"
             ],
             [
              0.7777777777777778,
              "#fb9f3a"
             ],
             [
              0.8888888888888888,
              "#fdca26"
             ],
             [
              1,
              "#f0f921"
             ]
            ],
            "type": "heatmap"
           }
          ],
          "heatmapgl": [
           {
            "colorbar": {
             "outlinewidth": 0,
             "ticks": ""
            },
            "colorscale": [
             [
              0,
              "#0d0887"
             ],
             [
              0.1111111111111111,
              "#46039f"
             ],
             [
              0.2222222222222222,
              "#7201a8"
             ],
             [
              0.3333333333333333,
              "#9c179e"
             ],
             [
              0.4444444444444444,
              "#bd3786"
             ],
             [
              0.5555555555555556,
              "#d8576b"
             ],
             [
              0.6666666666666666,
              "#ed7953"
             ],
             [
              0.7777777777777778,
              "#fb9f3a"
             ],
             [
              0.8888888888888888,
              "#fdca26"
             ],
             [
              1,
              "#f0f921"
             ]
            ],
            "type": "heatmapgl"
           }
          ],
          "histogram": [
           {
            "marker": {
             "pattern": {
              "fillmode": "overlay",
              "size": 10,
              "solidity": 0.2
             }
            },
            "type": "histogram"
           }
          ],
          "histogram2d": [
           {
            "colorbar": {
             "outlinewidth": 0,
             "ticks": ""
            },
            "colorscale": [
             [
              0,
              "#0d0887"
             ],
             [
              0.1111111111111111,
              "#46039f"
             ],
             [
              0.2222222222222222,
              "#7201a8"
             ],
             [
              0.3333333333333333,
              "#9c179e"
             ],
             [
              0.4444444444444444,
              "#bd3786"
             ],
             [
              0.5555555555555556,
              "#d8576b"
             ],
             [
              0.6666666666666666,
              "#ed7953"
             ],
             [
              0.7777777777777778,
              "#fb9f3a"
             ],
             [
              0.8888888888888888,
              "#fdca26"
             ],
             [
              1,
              "#f0f921"
             ]
            ],
            "type": "histogram2d"
           }
          ],
          "histogram2dcontour": [
           {
            "colorbar": {
             "outlinewidth": 0,
             "ticks": ""
            },
            "colorscale": [
             [
              0,
              "#0d0887"
             ],
             [
              0.1111111111111111,
              "#46039f"
             ],
             [
              0.2222222222222222,
              "#7201a8"
             ],
             [
              0.3333333333333333,
              "#9c179e"
             ],
             [
              0.4444444444444444,
              "#bd3786"
             ],
             [
              0.5555555555555556,
              "#d8576b"
             ],
             [
              0.6666666666666666,
              "#ed7953"
             ],
             [
              0.7777777777777778,
              "#fb9f3a"
             ],
             [
              0.8888888888888888,
              "#fdca26"
             ],
             [
              1,
              "#f0f921"
             ]
            ],
            "type": "histogram2dcontour"
           }
          ],
          "mesh3d": [
           {
            "colorbar": {
             "outlinewidth": 0,
             "ticks": ""
            },
            "type": "mesh3d"
           }
          ],
          "parcoords": [
           {
            "line": {
             "colorbar": {
              "outlinewidth": 0,
              "ticks": ""
             }
            },
            "type": "parcoords"
           }
          ],
          "pie": [
           {
            "automargin": true,
            "type": "pie"
           }
          ],
          "scatter": [
           {
            "fillpattern": {
             "fillmode": "overlay",
             "size": 10,
             "solidity": 0.2
            },
            "type": "scatter"
           }
          ],
          "scatter3d": [
           {
            "line": {
             "colorbar": {
              "outlinewidth": 0,
              "ticks": ""
             }
            },
            "marker": {
             "colorbar": {
              "outlinewidth": 0,
              "ticks": ""
             }
            },
            "type": "scatter3d"
           }
          ],
          "scattercarpet": [
           {
            "marker": {
             "colorbar": {
              "outlinewidth": 0,
              "ticks": ""
             }
            },
            "type": "scattercarpet"
           }
          ],
          "scattergeo": [
           {
            "marker": {
             "colorbar": {
              "outlinewidth": 0,
              "ticks": ""
             }
            },
            "type": "scattergeo"
           }
          ],
          "scattergl": [
           {
            "marker": {
             "colorbar": {
              "outlinewidth": 0,
              "ticks": ""
             }
            },
            "type": "scattergl"
           }
          ],
          "scattermapbox": [
           {
            "marker": {
             "colorbar": {
              "outlinewidth": 0,
              "ticks": ""
             }
            },
            "type": "scattermapbox"
           }
          ],
          "scatterpolar": [
           {
            "marker": {
             "colorbar": {
              "outlinewidth": 0,
              "ticks": ""
             }
            },
            "type": "scatterpolar"
           }
          ],
          "scatterpolargl": [
           {
            "marker": {
             "colorbar": {
              "outlinewidth": 0,
              "ticks": ""
             }
            },
            "type": "scatterpolargl"
           }
          ],
          "scatterternary": [
           {
            "marker": {
             "colorbar": {
              "outlinewidth": 0,
              "ticks": ""
             }
            },
            "type": "scatterternary"
           }
          ],
          "surface": [
           {
            "colorbar": {
             "outlinewidth": 0,
             "ticks": ""
            },
            "colorscale": [
             [
              0,
              "#0d0887"
             ],
             [
              0.1111111111111111,
              "#46039f"
             ],
             [
              0.2222222222222222,
              "#7201a8"
             ],
             [
              0.3333333333333333,
              "#9c179e"
             ],
             [
              0.4444444444444444,
              "#bd3786"
             ],
             [
              0.5555555555555556,
              "#d8576b"
             ],
             [
              0.6666666666666666,
              "#ed7953"
             ],
             [
              0.7777777777777778,
              "#fb9f3a"
             ],
             [
              0.8888888888888888,
              "#fdca26"
             ],
             [
              1,
              "#f0f921"
             ]
            ],
            "type": "surface"
           }
          ],
          "table": [
           {
            "cells": {
             "fill": {
              "color": "#EBF0F8"
             },
             "line": {
              "color": "white"
             }
            },
            "header": {
             "fill": {
              "color": "#C8D4E3"
             },
             "line": {
              "color": "white"
             }
            },
            "type": "table"
           }
          ]
         },
         "layout": {
          "annotationdefaults": {
           "arrowcolor": "#2a3f5f",
           "arrowhead": 0,
           "arrowwidth": 1
          },
          "autotypenumbers": "strict",
          "coloraxis": {
           "colorbar": {
            "outlinewidth": 0,
            "ticks": ""
           }
          },
          "colorscale": {
           "diverging": [
            [
             0,
             "#8e0152"
            ],
            [
             0.1,
             "#c51b7d"
            ],
            [
             0.2,
             "#de77ae"
            ],
            [
             0.3,
             "#f1b6da"
            ],
            [
             0.4,
             "#fde0ef"
            ],
            [
             0.5,
             "#f7f7f7"
            ],
            [
             0.6,
             "#e6f5d0"
            ],
            [
             0.7,
             "#b8e186"
            ],
            [
             0.8,
             "#7fbc41"
            ],
            [
             0.9,
             "#4d9221"
            ],
            [
             1,
             "#276419"
            ]
           ],
           "sequential": [
            [
             0,
             "#0d0887"
            ],
            [
             0.1111111111111111,
             "#46039f"
            ],
            [
             0.2222222222222222,
             "#7201a8"
            ],
            [
             0.3333333333333333,
             "#9c179e"
            ],
            [
             0.4444444444444444,
             "#bd3786"
            ],
            [
             0.5555555555555556,
             "#d8576b"
            ],
            [
             0.6666666666666666,
             "#ed7953"
            ],
            [
             0.7777777777777778,
             "#fb9f3a"
            ],
            [
             0.8888888888888888,
             "#fdca26"
            ],
            [
             1,
             "#f0f921"
            ]
           ],
           "sequentialminus": [
            [
             0,
             "#0d0887"
            ],
            [
             0.1111111111111111,
             "#46039f"
            ],
            [
             0.2222222222222222,
             "#7201a8"
            ],
            [
             0.3333333333333333,
             "#9c179e"
            ],
            [
             0.4444444444444444,
             "#bd3786"
            ],
            [
             0.5555555555555556,
             "#d8576b"
            ],
            [
             0.6666666666666666,
             "#ed7953"
            ],
            [
             0.7777777777777778,
             "#fb9f3a"
            ],
            [
             0.8888888888888888,
             "#fdca26"
            ],
            [
             1,
             "#f0f921"
            ]
           ]
          },
          "colorway": [
           "#636efa",
           "#EF553B",
           "#00cc96",
           "#ab63fa",
           "#FFA15A",
           "#19d3f3",
           "#FF6692",
           "#B6E880",
           "#FF97FF",
           "#FECB52"
          ],
          "font": {
           "color": "#2a3f5f"
          },
          "geo": {
           "bgcolor": "white",
           "lakecolor": "white",
           "landcolor": "#E5ECF6",
           "showlakes": true,
           "showland": true,
           "subunitcolor": "white"
          },
          "hoverlabel": {
           "align": "left"
          },
          "hovermode": "closest",
          "mapbox": {
           "style": "light"
          },
          "paper_bgcolor": "white",
          "plot_bgcolor": "#E5ECF6",
          "polar": {
           "angularaxis": {
            "gridcolor": "white",
            "linecolor": "white",
            "ticks": ""
           },
           "bgcolor": "#E5ECF6",
           "radialaxis": {
            "gridcolor": "white",
            "linecolor": "white",
            "ticks": ""
           }
          },
          "scene": {
           "xaxis": {
            "backgroundcolor": "#E5ECF6",
            "gridcolor": "white",
            "gridwidth": 2,
            "linecolor": "white",
            "showbackground": true,
            "ticks": "",
            "zerolinecolor": "white"
           },
           "yaxis": {
            "backgroundcolor": "#E5ECF6",
            "gridcolor": "white",
            "gridwidth": 2,
            "linecolor": "white",
            "showbackground": true,
            "ticks": "",
            "zerolinecolor": "white"
           },
           "zaxis": {
            "backgroundcolor": "#E5ECF6",
            "gridcolor": "white",
            "gridwidth": 2,
            "linecolor": "white",
            "showbackground": true,
            "ticks": "",
            "zerolinecolor": "white"
           }
          },
          "shapedefaults": {
           "line": {
            "color": "#2a3f5f"
           }
          },
          "ternary": {
           "aaxis": {
            "gridcolor": "white",
            "linecolor": "white",
            "ticks": ""
           },
           "baxis": {
            "gridcolor": "white",
            "linecolor": "white",
            "ticks": ""
           },
           "bgcolor": "#E5ECF6",
           "caxis": {
            "gridcolor": "white",
            "linecolor": "white",
            "ticks": ""
           }
          },
          "title": {
           "x": 0.05
          },
          "xaxis": {
           "automargin": true,
           "gridcolor": "white",
           "linecolor": "white",
           "ticks": "",
           "title": {
            "standoff": 15
           },
           "zerolinecolor": "white",
           "zerolinewidth": 2
          },
          "yaxis": {
           "automargin": true,
           "gridcolor": "white",
           "linecolor": "white",
           "ticks": "",
           "title": {
            "standoff": 15
           },
           "zerolinecolor": "white",
           "zerolinewidth": 2
          }
         }
        },
        "title": {
         "text": "Slice Plot"
        },
        "xaxis": {
         "title": {
          "text": "x"
         }
        },
        "yaxis": {
         "title": {
          "text": "Objective Value"
         }
        }
       }
      }
     },
     "metadata": {},
     "output_type": "display_data"
    }
   ],
   "source": [
    "optuna.visualization.plot_slice(study)"
   ]
  },
  {
   "cell_type": "code",
   "execution_count": 5,
   "id": "125bd099",
   "metadata": {},
   "outputs": [
    {
     "data": {
      "application/vnd.plotly.v1+json": {
       "config": {
        "plotlyServerURL": "https://plot.ly"
       },
       "data": [
        {
         "mode": "markers",
         "name": "Objective Value",
         "type": "scatter",
         "x": [
          0,
          1,
          2,
          3,
          4,
          5,
          6,
          7,
          8,
          9,
          10,
          11,
          12,
          13,
          14,
          15,
          16,
          17,
          18,
          19,
          20,
          21,
          22,
          23,
          24,
          25,
          26,
          27,
          28,
          29,
          30,
          31,
          32,
          33,
          34,
          35,
          36,
          37,
          38,
          39,
          40,
          41,
          42,
          43,
          44,
          45,
          46,
          47,
          48,
          49,
          50,
          51,
          52,
          53,
          54,
          55,
          56,
          57,
          58,
          59,
          60,
          61,
          62,
          63,
          64,
          65,
          66,
          67,
          68,
          69,
          70,
          71,
          72,
          73,
          74,
          75,
          76,
          77,
          78,
          79,
          80,
          81,
          82,
          83,
          84,
          85,
          86,
          87,
          88,
          89,
          90,
          91,
          92,
          93,
          94,
          95,
          96,
          97,
          98,
          99,
          100,
          101,
          102,
          103,
          104,
          105,
          106,
          107,
          108,
          109,
          110,
          111,
          112,
          113,
          114,
          115,
          116,
          117,
          118,
          119,
          120,
          121,
          122,
          123,
          124,
          125,
          126,
          127,
          128,
          129,
          130,
          131,
          132,
          133,
          134,
          135,
          136,
          137,
          138,
          139,
          140,
          141,
          142,
          143,
          144,
          145,
          146,
          147,
          148,
          149,
          150,
          151,
          152,
          153,
          154,
          155,
          156,
          157,
          158,
          159,
          160,
          161,
          162,
          163,
          164,
          165,
          166,
          167,
          168,
          169,
          170,
          171,
          172,
          173,
          174,
          175,
          176,
          177,
          178,
          179,
          180,
          181,
          182,
          183,
          184,
          185,
          186,
          187,
          188,
          189,
          190,
          191,
          192,
          193,
          194,
          195,
          196,
          197,
          198,
          199,
          200,
          201,
          202,
          203,
          204,
          205,
          206,
          207,
          208,
          209,
          210,
          211,
          212,
          213,
          214,
          215,
          216,
          217,
          218,
          219,
          220,
          221,
          222,
          223,
          224,
          225,
          226,
          227,
          228,
          229,
          230,
          231,
          232,
          233,
          234,
          235,
          236,
          237,
          238,
          239,
          240,
          241,
          242,
          243,
          244,
          245,
          246,
          247,
          248,
          249
         ],
         "y": [
          -89.81493828959955,
          -229.25827472464366,
          -230.6976720941234,
          -86.56032501406008,
          91.21132933656561,
          -51.28039981110575,
          28.38316285365513,
          -240.2952548905334,
          -139.10573477044608,
          -10.770859633537032,
          -233.86045016281327,
          -230.74077934352,
          -115.90728426254488,
          -153.68539175809153,
          -196.46947848198022,
          -189.44102170098014,
          -232.99744144236087,
          -234.0634515389411,
          -234.4123286237091,
          -234.5281587974761,
          -109.59954282908741,
          -239.27025296643083,
          -207.24986199308088,
          -199.40577748708998,
          -240.21432201406958,
          -240.12214729820366,
          -240.18428559956624,
          -240.0546570191622,
          -240.12221250780948,
          -209.4640750572142,
          -178.7270389344287,
          -158.85969682301024,
          -169.64376135512154,
          -165.40288135050355,
          -213.793598159883,
          -240.30529105612106,
          -240.32828831774358,
          -223.58096689751858,
          -219.2728747393668,
          -226.66709228250062,
          -240.04821173327628,
          -224.38141526180573,
          -221.40535709217096,
          -240.06852482711113,
          -239.91794278163292,
          40.273313350421574,
          -175.15216990548245,
          5.510092537294059,
          -238.98442058009073,
          -218.5056334712319,
          -239.4980718856798,
          -223.26304343509563,
          115.28706838718134,
          79.70490463631356,
          32.77435000712303,
          -225.83451369828023,
          -218.24489005688082,
          -124.42887251722198,
          -235.75375169146014,
          -235.89067145850936,
          -234.08043733714263,
          -236.44320145034226,
          -235.46684239866684,
          -236.47923711949042,
          -237.77254220061863,
          -234.21116612702974,
          -235.37516573208404,
          -234.2968862387812,
          -233.7367380581799,
          -238.25104917218346,
          -238.77384301801047,
          -236.16821561263998,
          -238.6229145300177,
          -236.9922354232914,
          -238.0441869501751,
          -237.1355059253293,
          -238.28646357266285,
          -236.9681104705039,
          -240.02677698074362,
          -240.27158645365148,
          -240.31548868060645,
          -199.54473703093007,
          -240.264971942539,
          -240.23446943544292,
          -240.32772241536063,
          -240.2942018473422,
          -240.2081221956016,
          -200.17266502991737,
          -200.28450371357187,
          -203.93776648737727,
          -227.31947559544878,
          -214.33618706633297,
          -231.93307762053826,
          -231.20374226392667,
          -40.943626102204476,
          -229.29746377887966,
          -232.34696756860095,
          -240.27304208363043,
          -230.34309987825029,
          -202.9817931628042,
          -240.26095677712064,
          -240.24016761227838,
          -208.3760963358433,
          -240.17266267844664,
          -199.73147489734328,
          -207.4626571588484,
          -204.63143009722083,
          -240.2961978814919,
          -240.2886223592385,
          -240.19406253519477,
          -239.90562077150244,
          -228.7043754809946,
          -238.87276474338134,
          -238.55779213285538,
          -238.96844295299866,
          -224.0285449308505,
          -227.83549653431487,
          -227.47483362660006,
          -229.53031147845127,
          -239.19599079779644,
          -239.04554910371306,
          -238.17985700646162,
          -238.7414998438268,
          -228.7609012962252,
          -234.36745451514852,
          -218.61189158987105,
          -221.07808129415216,
          -223.59322560351828,
          -217.82722599089678,
          -219.17291689830785,
          -240.2613385371309,
          -240.1965339950742,
          -240.1641672865966,
          -240.26457617590992,
          -240.29975884779458,
          -240.26955924923263,
          -240.32355473684268,
          -240.32251875279,
          -240.16496766688323,
          -239.89335192430948,
          -240.28043347331743,
          -240.19980832826565,
          -235.8423618408012,
          -236.28915266734796,
          -233.9321153962027,
          -236.3481525013963,
          -215.4223071281249,
          -236.05290281007478,
          -238.76248398572693,
          -240.0054675144417,
          -239.09941220753623,
          -238.39453901674693,
          -238.86017640411023,
          -240.03279388424897,
          -238.62487838531302,
          -239.15694946672775,
          -239.13035232803244,
          -239.8646776208969,
          -239.14085948478194,
          -240.26075048253185,
          -236.55158228634417,
          -240.08722812862754,
          -233.96991517175175,
          -235.9515539358969,
          -232.24677813782534,
          -236.72913969238982,
          -235.74529161962522,
          -233.29340245231717,
          -236.4219144604887,
          -236.66948355403997,
          -237.17217177600702,
          -236.95439897342465,
          -237.69437959550626,
          -240.30370227281134,
          -240.21066496130848,
          -240.31064671860244,
          -240.32542407778428,
          -240.29886942688037,
          -240.3171235189782,
          -240.31690755633068,
          24.546669176411857,
          -240.31273292484522,
          31.43561589235851,
          -239.29784059044607,
          -240.31092836141144,
          -233.21636233605815,
          -229.24206573664597,
          -239.34159241296823,
          -240.14941166221826,
          -239.15819199501942,
          -233.0679586954994,
          -239.3654807659006,
          -240.18245021410476,
          -240.25200444707386,
          -240.03984569021128,
          -237.08053920978617,
          -239.72246617671777,
          -239.9007487528842,
          -239.93294822583124,
          -240.32498373778725,
          -240.0212098921459,
          -237.40215903270965,
          -237.33241508489297,
          -240.30593506371284,
          -240.3277589688531,
          -237.27181608497784,
          -237.09104189689313,
          -237.7623987784393,
          -237.1852393730036,
          -240.24775321944225,
          -240.25213928414902,
          -240.31465726599748,
          -240.3201471471407,
          -240.17767511078608,
          -240.23110334281336,
          -240.10970786426898,
          -93.71166105292606,
          -240.19962416235114,
          -239.57368554568265,
          -239.27729908749905,
          -239.19159454249214,
          -238.62423945788188,
          -239.42286946992652,
          -238.65591232662507,
          -238.77977706037387,
          -238.5899011580573,
          -238.7873478851132,
          -238.92295883625067,
          -238.17959004993088,
          -239.0935428516784,
          -239.9261851293865,
          -239.46386260178795,
          -238.98957226458933,
          -239.32827932497054,
          -239.28924127763173,
          -239.72056751000926,
          -239.86520531665244,
          -239.7201313932452,
          -238.99104799569614,
          -239.41002113842276,
          -84.0898052644655,
          -239.90669593482406,
          -240.32707307151088,
          -240.30225889483108,
          -240.32228022266563,
          -240.31833239669854,
          -240.32728601229945,
          -240.31955184272076,
          -240.32700885230238,
          -240.32292700704616
         ]
        },
        {
         "mode": "lines",
         "name": "Best Value",
         "type": "scatter",
         "x": [
          0,
          1,
          2,
          3,
          4,
          5,
          6,
          7,
          8,
          9,
          10,
          11,
          12,
          13,
          14,
          15,
          16,
          17,
          18,
          19,
          20,
          21,
          22,
          23,
          24,
          25,
          26,
          27,
          28,
          29,
          30,
          31,
          32,
          33,
          34,
          35,
          36,
          37,
          38,
          39,
          40,
          41,
          42,
          43,
          44,
          45,
          46,
          47,
          48,
          49,
          50,
          51,
          52,
          53,
          54,
          55,
          56,
          57,
          58,
          59,
          60,
          61,
          62,
          63,
          64,
          65,
          66,
          67,
          68,
          69,
          70,
          71,
          72,
          73,
          74,
          75,
          76,
          77,
          78,
          79,
          80,
          81,
          82,
          83,
          84,
          85,
          86,
          87,
          88,
          89,
          90,
          91,
          92,
          93,
          94,
          95,
          96,
          97,
          98,
          99,
          100,
          101,
          102,
          103,
          104,
          105,
          106,
          107,
          108,
          109,
          110,
          111,
          112,
          113,
          114,
          115,
          116,
          117,
          118,
          119,
          120,
          121,
          122,
          123,
          124,
          125,
          126,
          127,
          128,
          129,
          130,
          131,
          132,
          133,
          134,
          135,
          136,
          137,
          138,
          139,
          140,
          141,
          142,
          143,
          144,
          145,
          146,
          147,
          148,
          149,
          150,
          151,
          152,
          153,
          154,
          155,
          156,
          157,
          158,
          159,
          160,
          161,
          162,
          163,
          164,
          165,
          166,
          167,
          168,
          169,
          170,
          171,
          172,
          173,
          174,
          175,
          176,
          177,
          178,
          179,
          180,
          181,
          182,
          183,
          184,
          185,
          186,
          187,
          188,
          189,
          190,
          191,
          192,
          193,
          194,
          195,
          196,
          197,
          198,
          199,
          200,
          201,
          202,
          203,
          204,
          205,
          206,
          207,
          208,
          209,
          210,
          211,
          212,
          213,
          214,
          215,
          216,
          217,
          218,
          219,
          220,
          221,
          222,
          223,
          224,
          225,
          226,
          227,
          228,
          229,
          230,
          231,
          232,
          233,
          234,
          235,
          236,
          237,
          238,
          239,
          240,
          241,
          242,
          243,
          244,
          245,
          246,
          247,
          248,
          249
         ],
         "y": [
          -89.81493828959955,
          -229.25827472464366,
          -230.6976720941234,
          -230.6976720941234,
          -230.6976720941234,
          -230.6976720941234,
          -230.6976720941234,
          -240.2952548905334,
          -240.2952548905334,
          -240.2952548905334,
          -240.2952548905334,
          -240.2952548905334,
          -240.2952548905334,
          -240.2952548905334,
          -240.2952548905334,
          -240.2952548905334,
          -240.2952548905334,
          -240.2952548905334,
          -240.2952548905334,
          -240.2952548905334,
          -240.2952548905334,
          -240.2952548905334,
          -240.2952548905334,
          -240.2952548905334,
          -240.2952548905334,
          -240.2952548905334,
          -240.2952548905334,
          -240.2952548905334,
          -240.2952548905334,
          -240.2952548905334,
          -240.2952548905334,
          -240.2952548905334,
          -240.2952548905334,
          -240.2952548905334,
          -240.2952548905334,
          -240.30529105612106,
          -240.32828831774358,
          -240.32828831774358,
          -240.32828831774358,
          -240.32828831774358,
          -240.32828831774358,
          -240.32828831774358,
          -240.32828831774358,
          -240.32828831774358,
          -240.32828831774358,
          -240.32828831774358,
          -240.32828831774358,
          -240.32828831774358,
          -240.32828831774358,
          -240.32828831774358,
          -240.32828831774358,
          -240.32828831774358,
          -240.32828831774358,
          -240.32828831774358,
          -240.32828831774358,
          -240.32828831774358,
          -240.32828831774358,
          -240.32828831774358,
          -240.32828831774358,
          -240.32828831774358,
          -240.32828831774358,
          -240.32828831774358,
          -240.32828831774358,
          -240.32828831774358,
          -240.32828831774358,
          -240.32828831774358,
          -240.32828831774358,
          -240.32828831774358,
          -240.32828831774358,
          -240.32828831774358,
          -240.32828831774358,
          -240.32828831774358,
          -240.32828831774358,
          -240.32828831774358,
          -240.32828831774358,
          -240.32828831774358,
          -240.32828831774358,
          -240.32828831774358,
          -240.32828831774358,
          -240.32828831774358,
          -240.32828831774358,
          -240.32828831774358,
          -240.32828831774358,
          -240.32828831774358,
          -240.32828831774358,
          -240.32828831774358,
          -240.32828831774358,
          -240.32828831774358,
          -240.32828831774358,
          -240.32828831774358,
          -240.32828831774358,
          -240.32828831774358,
          -240.32828831774358,
          -240.32828831774358,
          -240.32828831774358,
          -240.32828831774358,
          -240.32828831774358,
          -240.32828831774358,
          -240.32828831774358,
          -240.32828831774358,
          -240.32828831774358,
          -240.32828831774358,
          -240.32828831774358,
          -240.32828831774358,
          -240.32828831774358,
          -240.32828831774358,
          -240.32828831774358,
          -240.32828831774358,
          -240.32828831774358,
          -240.32828831774358,
          -240.32828831774358,
          -240.32828831774358,
          -240.32828831774358,
          -240.32828831774358,
          -240.32828831774358,
          -240.32828831774358,
          -240.32828831774358,
          -240.32828831774358,
          -240.32828831774358,
          -240.32828831774358,
          -240.32828831774358,
          -240.32828831774358,
          -240.32828831774358,
          -240.32828831774358,
          -240.32828831774358,
          -240.32828831774358,
          -240.32828831774358,
          -240.32828831774358,
          -240.32828831774358,
          -240.32828831774358,
          -240.32828831774358,
          -240.32828831774358,
          -240.32828831774358,
          -240.32828831774358,
          -240.32828831774358,
          -240.32828831774358,
          -240.32828831774358,
          -240.32828831774358,
          -240.32828831774358,
          -240.32828831774358,
          -240.32828831774358,
          -240.32828831774358,
          -240.32828831774358,
          -240.32828831774358,
          -240.32828831774358,
          -240.32828831774358,
          -240.32828831774358,
          -240.32828831774358,
          -240.32828831774358,
          -240.32828831774358,
          -240.32828831774358,
          -240.32828831774358,
          -240.32828831774358,
          -240.32828831774358,
          -240.32828831774358,
          -240.32828831774358,
          -240.32828831774358,
          -240.32828831774358,
          -240.32828831774358,
          -240.32828831774358,
          -240.32828831774358,
          -240.32828831774358,
          -240.32828831774358,
          -240.32828831774358,
          -240.32828831774358,
          -240.32828831774358,
          -240.32828831774358,
          -240.32828831774358,
          -240.32828831774358,
          -240.32828831774358,
          -240.32828831774358,
          -240.32828831774358,
          -240.32828831774358,
          -240.32828831774358,
          -240.32828831774358,
          -240.32828831774358,
          -240.32828831774358,
          -240.32828831774358,
          -240.32828831774358,
          -240.32828831774358,
          -240.32828831774358,
          -240.32828831774358,
          -240.32828831774358,
          -240.32828831774358,
          -240.32828831774358,
          -240.32828831774358,
          -240.32828831774358,
          -240.32828831774358,
          -240.32828831774358,
          -240.32828831774358,
          -240.32828831774358,
          -240.32828831774358,
          -240.32828831774358,
          -240.32828831774358,
          -240.32828831774358,
          -240.32828831774358,
          -240.32828831774358,
          -240.32828831774358,
          -240.32828831774358,
          -240.32828831774358,
          -240.32828831774358,
          -240.32828831774358,
          -240.32828831774358,
          -240.32828831774358,
          -240.32828831774358,
          -240.32828831774358,
          -240.32828831774358,
          -240.32828831774358,
          -240.32828831774358,
          -240.32828831774358,
          -240.32828831774358,
          -240.32828831774358,
          -240.32828831774358,
          -240.32828831774358,
          -240.32828831774358,
          -240.32828831774358,
          -240.32828831774358,
          -240.32828831774358,
          -240.32828831774358,
          -240.32828831774358,
          -240.32828831774358,
          -240.32828831774358,
          -240.32828831774358,
          -240.32828831774358,
          -240.32828831774358,
          -240.32828831774358,
          -240.32828831774358,
          -240.32828831774358,
          -240.32828831774358,
          -240.32828831774358,
          -240.32828831774358,
          -240.32828831774358,
          -240.32828831774358,
          -240.32828831774358,
          -240.32828831774358,
          -240.32828831774358,
          -240.32828831774358,
          -240.32828831774358,
          -240.32828831774358,
          -240.32828831774358,
          -240.32828831774358,
          -240.32828831774358,
          -240.32828831774358,
          -240.32828831774358,
          -240.32828831774358,
          -240.32828831774358,
          -240.32828831774358,
          -240.32828831774358,
          -240.32828831774358,
          -240.32828831774358
         ]
        },
        {
         "marker": {
          "color": "#cccccc"
         },
         "mode": "markers",
         "name": "Infeasible Trial",
         "showlegend": false,
         "type": "scatter",
         "x": [],
         "y": []
        }
       ],
       "layout": {
        "template": {
         "data": {
          "bar": [
           {
            "error_x": {
             "color": "#2a3f5f"
            },
            "error_y": {
             "color": "#2a3f5f"
            },
            "marker": {
             "line": {
              "color": "#E5ECF6",
              "width": 0.5
             },
             "pattern": {
              "fillmode": "overlay",
              "size": 10,
              "solidity": 0.2
             }
            },
            "type": "bar"
           }
          ],
          "barpolar": [
           {
            "marker": {
             "line": {
              "color": "#E5ECF6",
              "width": 0.5
             },
             "pattern": {
              "fillmode": "overlay",
              "size": 10,
              "solidity": 0.2
             }
            },
            "type": "barpolar"
           }
          ],
          "carpet": [
           {
            "aaxis": {
             "endlinecolor": "#2a3f5f",
             "gridcolor": "white",
             "linecolor": "white",
             "minorgridcolor": "white",
             "startlinecolor": "#2a3f5f"
            },
            "baxis": {
             "endlinecolor": "#2a3f5f",
             "gridcolor": "white",
             "linecolor": "white",
             "minorgridcolor": "white",
             "startlinecolor": "#2a3f5f"
            },
            "type": "carpet"
           }
          ],
          "choropleth": [
           {
            "colorbar": {
             "outlinewidth": 0,
             "ticks": ""
            },
            "type": "choropleth"
           }
          ],
          "contour": [
           {
            "colorbar": {
             "outlinewidth": 0,
             "ticks": ""
            },
            "colorscale": [
             [
              0,
              "#0d0887"
             ],
             [
              0.1111111111111111,
              "#46039f"
             ],
             [
              0.2222222222222222,
              "#7201a8"
             ],
             [
              0.3333333333333333,
              "#9c179e"
             ],
             [
              0.4444444444444444,
              "#bd3786"
             ],
             [
              0.5555555555555556,
              "#d8576b"
             ],
             [
              0.6666666666666666,
              "#ed7953"
             ],
             [
              0.7777777777777778,
              "#fb9f3a"
             ],
             [
              0.8888888888888888,
              "#fdca26"
             ],
             [
              1,
              "#f0f921"
             ]
            ],
            "type": "contour"
           }
          ],
          "contourcarpet": [
           {
            "colorbar": {
             "outlinewidth": 0,
             "ticks": ""
            },
            "type": "contourcarpet"
           }
          ],
          "heatmap": [
           {
            "colorbar": {
             "outlinewidth": 0,
             "ticks": ""
            },
            "colorscale": [
             [
              0,
              "#0d0887"
             ],
             [
              0.1111111111111111,
              "#46039f"
             ],
             [
              0.2222222222222222,
              "#7201a8"
             ],
             [
              0.3333333333333333,
              "#9c179e"
             ],
             [
              0.4444444444444444,
              "#bd3786"
             ],
             [
              0.5555555555555556,
              "#d8576b"
             ],
             [
              0.6666666666666666,
              "#ed7953"
             ],
             [
              0.7777777777777778,
              "#fb9f3a"
             ],
             [
              0.8888888888888888,
              "#fdca26"
             ],
             [
              1,
              "#f0f921"
             ]
            ],
            "type": "heatmap"
           }
          ],
          "heatmapgl": [
           {
            "colorbar": {
             "outlinewidth": 0,
             "ticks": ""
            },
            "colorscale": [
             [
              0,
              "#0d0887"
             ],
             [
              0.1111111111111111,
              "#46039f"
             ],
             [
              0.2222222222222222,
              "#7201a8"
             ],
             [
              0.3333333333333333,
              "#9c179e"
             ],
             [
              0.4444444444444444,
              "#bd3786"
             ],
             [
              0.5555555555555556,
              "#d8576b"
             ],
             [
              0.6666666666666666,
              "#ed7953"
             ],
             [
              0.7777777777777778,
              "#fb9f3a"
             ],
             [
              0.8888888888888888,
              "#fdca26"
             ],
             [
              1,
              "#f0f921"
             ]
            ],
            "type": "heatmapgl"
           }
          ],
          "histogram": [
           {
            "marker": {
             "pattern": {
              "fillmode": "overlay",
              "size": 10,
              "solidity": 0.2
             }
            },
            "type": "histogram"
           }
          ],
          "histogram2d": [
           {
            "colorbar": {
             "outlinewidth": 0,
             "ticks": ""
            },
            "colorscale": [
             [
              0,
              "#0d0887"
             ],
             [
              0.1111111111111111,
              "#46039f"
             ],
             [
              0.2222222222222222,
              "#7201a8"
             ],
             [
              0.3333333333333333,
              "#9c179e"
             ],
             [
              0.4444444444444444,
              "#bd3786"
             ],
             [
              0.5555555555555556,
              "#d8576b"
             ],
             [
              0.6666666666666666,
              "#ed7953"
             ],
             [
              0.7777777777777778,
              "#fb9f3a"
             ],
             [
              0.8888888888888888,
              "#fdca26"
             ],
             [
              1,
              "#f0f921"
             ]
            ],
            "type": "histogram2d"
           }
          ],
          "histogram2dcontour": [
           {
            "colorbar": {
             "outlinewidth": 0,
             "ticks": ""
            },
            "colorscale": [
             [
              0,
              "#0d0887"
             ],
             [
              0.1111111111111111,
              "#46039f"
             ],
             [
              0.2222222222222222,
              "#7201a8"
             ],
             [
              0.3333333333333333,
              "#9c179e"
             ],
             [
              0.4444444444444444,
              "#bd3786"
             ],
             [
              0.5555555555555556,
              "#d8576b"
             ],
             [
              0.6666666666666666,
              "#ed7953"
             ],
             [
              0.7777777777777778,
              "#fb9f3a"
             ],
             [
              0.8888888888888888,
              "#fdca26"
             ],
             [
              1,
              "#f0f921"
             ]
            ],
            "type": "histogram2dcontour"
           }
          ],
          "mesh3d": [
           {
            "colorbar": {
             "outlinewidth": 0,
             "ticks": ""
            },
            "type": "mesh3d"
           }
          ],
          "parcoords": [
           {
            "line": {
             "colorbar": {
              "outlinewidth": 0,
              "ticks": ""
             }
            },
            "type": "parcoords"
           }
          ],
          "pie": [
           {
            "automargin": true,
            "type": "pie"
           }
          ],
          "scatter": [
           {
            "fillpattern": {
             "fillmode": "overlay",
             "size": 10,
             "solidity": 0.2
            },
            "type": "scatter"
           }
          ],
          "scatter3d": [
           {
            "line": {
             "colorbar": {
              "outlinewidth": 0,
              "ticks": ""
             }
            },
            "marker": {
             "colorbar": {
              "outlinewidth": 0,
              "ticks": ""
             }
            },
            "type": "scatter3d"
           }
          ],
          "scattercarpet": [
           {
            "marker": {
             "colorbar": {
              "outlinewidth": 0,
              "ticks": ""
             }
            },
            "type": "scattercarpet"
           }
          ],
          "scattergeo": [
           {
            "marker": {
             "colorbar": {
              "outlinewidth": 0,
              "ticks": ""
             }
            },
            "type": "scattergeo"
           }
          ],
          "scattergl": [
           {
            "marker": {
             "colorbar": {
              "outlinewidth": 0,
              "ticks": ""
             }
            },
            "type": "scattergl"
           }
          ],
          "scattermapbox": [
           {
            "marker": {
             "colorbar": {
              "outlinewidth": 0,
              "ticks": ""
             }
            },
            "type": "scattermapbox"
           }
          ],
          "scatterpolar": [
           {
            "marker": {
             "colorbar": {
              "outlinewidth": 0,
              "ticks": ""
             }
            },
            "type": "scatterpolar"
           }
          ],
          "scatterpolargl": [
           {
            "marker": {
             "colorbar": {
              "outlinewidth": 0,
              "ticks": ""
             }
            },
            "type": "scatterpolargl"
           }
          ],
          "scatterternary": [
           {
            "marker": {
             "colorbar": {
              "outlinewidth": 0,
              "ticks": ""
             }
            },
            "type": "scatterternary"
           }
          ],
          "surface": [
           {
            "colorbar": {
             "outlinewidth": 0,
             "ticks": ""
            },
            "colorscale": [
             [
              0,
              "#0d0887"
             ],
             [
              0.1111111111111111,
              "#46039f"
             ],
             [
              0.2222222222222222,
              "#7201a8"
             ],
             [
              0.3333333333333333,
              "#9c179e"
             ],
             [
              0.4444444444444444,
              "#bd3786"
             ],
             [
              0.5555555555555556,
              "#d8576b"
             ],
             [
              0.6666666666666666,
              "#ed7953"
             ],
             [
              0.7777777777777778,
              "#fb9f3a"
             ],
             [
              0.8888888888888888,
              "#fdca26"
             ],
             [
              1,
              "#f0f921"
             ]
            ],
            "type": "surface"
           }
          ],
          "table": [
           {
            "cells": {
             "fill": {
              "color": "#EBF0F8"
             },
             "line": {
              "color": "white"
             }
            },
            "header": {
             "fill": {
              "color": "#C8D4E3"
             },
             "line": {
              "color": "white"
             }
            },
            "type": "table"
           }
          ]
         },
         "layout": {
          "annotationdefaults": {
           "arrowcolor": "#2a3f5f",
           "arrowhead": 0,
           "arrowwidth": 1
          },
          "autotypenumbers": "strict",
          "coloraxis": {
           "colorbar": {
            "outlinewidth": 0,
            "ticks": ""
           }
          },
          "colorscale": {
           "diverging": [
            [
             0,
             "#8e0152"
            ],
            [
             0.1,
             "#c51b7d"
            ],
            [
             0.2,
             "#de77ae"
            ],
            [
             0.3,
             "#f1b6da"
            ],
            [
             0.4,
             "#fde0ef"
            ],
            [
             0.5,
             "#f7f7f7"
            ],
            [
             0.6,
             "#e6f5d0"
            ],
            [
             0.7,
             "#b8e186"
            ],
            [
             0.8,
             "#7fbc41"
            ],
            [
             0.9,
             "#4d9221"
            ],
            [
             1,
             "#276419"
            ]
           ],
           "sequential": [
            [
             0,
             "#0d0887"
            ],
            [
             0.1111111111111111,
             "#46039f"
            ],
            [
             0.2222222222222222,
             "#7201a8"
            ],
            [
             0.3333333333333333,
             "#9c179e"
            ],
            [
             0.4444444444444444,
             "#bd3786"
            ],
            [
             0.5555555555555556,
             "#d8576b"
            ],
            [
             0.6666666666666666,
             "#ed7953"
            ],
            [
             0.7777777777777778,
             "#fb9f3a"
            ],
            [
             0.8888888888888888,
             "#fdca26"
            ],
            [
             1,
             "#f0f921"
            ]
           ],
           "sequentialminus": [
            [
             0,
             "#0d0887"
            ],
            [
             0.1111111111111111,
             "#46039f"
            ],
            [
             0.2222222222222222,
             "#7201a8"
            ],
            [
             0.3333333333333333,
             "#9c179e"
            ],
            [
             0.4444444444444444,
             "#bd3786"
            ],
            [
             0.5555555555555556,
             "#d8576b"
            ],
            [
             0.6666666666666666,
             "#ed7953"
            ],
            [
             0.7777777777777778,
             "#fb9f3a"
            ],
            [
             0.8888888888888888,
             "#fdca26"
            ],
            [
             1,
             "#f0f921"
            ]
           ]
          },
          "colorway": [
           "#636efa",
           "#EF553B",
           "#00cc96",
           "#ab63fa",
           "#FFA15A",
           "#19d3f3",
           "#FF6692",
           "#B6E880",
           "#FF97FF",
           "#FECB52"
          ],
          "font": {
           "color": "#2a3f5f"
          },
          "geo": {
           "bgcolor": "white",
           "lakecolor": "white",
           "landcolor": "#E5ECF6",
           "showlakes": true,
           "showland": true,
           "subunitcolor": "white"
          },
          "hoverlabel": {
           "align": "left"
          },
          "hovermode": "closest",
          "mapbox": {
           "style": "light"
          },
          "paper_bgcolor": "white",
          "plot_bgcolor": "#E5ECF6",
          "polar": {
           "angularaxis": {
            "gridcolor": "white",
            "linecolor": "white",
            "ticks": ""
           },
           "bgcolor": "#E5ECF6",
           "radialaxis": {
            "gridcolor": "white",
            "linecolor": "white",
            "ticks": ""
           }
          },
          "scene": {
           "xaxis": {
            "backgroundcolor": "#E5ECF6",
            "gridcolor": "white",
            "gridwidth": 2,
            "linecolor": "white",
            "showbackground": true,
            "ticks": "",
            "zerolinecolor": "white"
           },
           "yaxis": {
            "backgroundcolor": "#E5ECF6",
            "gridcolor": "white",
            "gridwidth": 2,
            "linecolor": "white",
            "showbackground": true,
            "ticks": "",
            "zerolinecolor": "white"
           },
           "zaxis": {
            "backgroundcolor": "#E5ECF6",
            "gridcolor": "white",
            "gridwidth": 2,
            "linecolor": "white",
            "showbackground": true,
            "ticks": "",
            "zerolinecolor": "white"
           }
          },
          "shapedefaults": {
           "line": {
            "color": "#2a3f5f"
           }
          },
          "ternary": {
           "aaxis": {
            "gridcolor": "white",
            "linecolor": "white",
            "ticks": ""
           },
           "baxis": {
            "gridcolor": "white",
            "linecolor": "white",
            "ticks": ""
           },
           "bgcolor": "#E5ECF6",
           "caxis": {
            "gridcolor": "white",
            "linecolor": "white",
            "ticks": ""
           }
          },
          "title": {
           "x": 0.05
          },
          "xaxis": {
           "automargin": true,
           "gridcolor": "white",
           "linecolor": "white",
           "ticks": "",
           "title": {
            "standoff": 15
           },
           "zerolinecolor": "white",
           "zerolinewidth": 2
          },
          "yaxis": {
           "automargin": true,
           "gridcolor": "white",
           "linecolor": "white",
           "ticks": "",
           "title": {
            "standoff": 15
           },
           "zerolinecolor": "white",
           "zerolinewidth": 2
          }
         }
        },
        "title": {
         "text": "Optimization History Plot"
        },
        "xaxis": {
         "title": {
          "text": "Trial"
         }
        },
        "yaxis": {
         "title": {
          "text": "Objective Value"
         }
        }
       }
      }
     },
     "metadata": {},
     "output_type": "display_data"
    }
   ],
   "source": [
    "optuna.visualization.plot_optimization_history(study)"
   ]
  },
  {
   "cell_type": "code",
   "execution_count": 6,
   "id": "24372a02",
   "metadata": {},
   "outputs": [
    {
     "name": "stdout",
     "output_type": "stream",
     "text": [
      "Best parameters: {'x': 5.156668354156372}\n",
      "Best value: -240.32828831774358\n"
     ]
    }
   ],
   "source": [
    "# display best parameters\n",
    "print(\"Best parameters:\", study.best_params)\n",
    "# display best value\n",
    "print(\"Best value:\", study.best_value)"
   ]
  },
  {
   "cell_type": "markdown",
   "id": "bb6ceb94",
   "metadata": {},
   "source": [
    "<div class=\"alert\" style=\"background-color: #FEF9E7; border-left: 8px solid #D4AC0D; padding: 14px; border-radius: 8px; font-size: 14px; color: #000000;\">\n",
    "\n",
    "We see the results of all runs and that the minimum of the function occurred at `x = 5.16`, which is close to the actual minimum.\n",
    "\n",
    "</div>"
   ]
  },
  {
   "cell_type": "code",
   "execution_count": 7,
   "id": "3385b0e7",
   "metadata": {},
   "outputs": [
    {
     "data": {
      "text/html": [
       "<div>\n",
       "<style scoped>\n",
       "    .dataframe tbody tr th:only-of-type {\n",
       "        vertical-align: middle;\n",
       "    }\n",
       "\n",
       "    .dataframe tbody tr th {\n",
       "        vertical-align: top;\n",
       "    }\n",
       "\n",
       "    .dataframe thead th {\n",
       "        text-align: right;\n",
       "    }\n",
       "</style>\n",
       "<table border=\"1\" class=\"dataframe\">\n",
       "  <thead>\n",
       "    <tr style=\"text-align: right;\">\n",
       "      <th></th>\n",
       "      <th>car_id</th>\n",
       "      <th>model</th>\n",
       "      <th>car_type</th>\n",
       "      <th>fuel_type</th>\n",
       "      <th>car_rating</th>\n",
       "      <th>year_to_start</th>\n",
       "      <th>riders</th>\n",
       "      <th>year_to_work</th>\n",
       "      <th>target_reg</th>\n",
       "      <th>target_class</th>\n",
       "      <th>mean_rating</th>\n",
       "      <th>distance_sum</th>\n",
       "      <th>rating_min</th>\n",
       "      <th>speed_max</th>\n",
       "      <th>user_ride_quality_median</th>\n",
       "      <th>deviation_normal_count</th>\n",
       "      <th>user_uniq</th>\n",
       "    </tr>\n",
       "  </thead>\n",
       "  <tbody>\n",
       "    <tr>\n",
       "      <th>0</th>\n",
       "      <td>y13744087j</td>\n",
       "      <td>Kia Rio X-line</td>\n",
       "      <td>economy</td>\n",
       "      <td>petrol</td>\n",
       "      <td>3.78</td>\n",
       "      <td>2015</td>\n",
       "      <td>76163</td>\n",
       "      <td>2021</td>\n",
       "      <td>109.99</td>\n",
       "      <td>another_bug</td>\n",
       "      <td>4.737759</td>\n",
       "      <td>1.214131e+07</td>\n",
       "      <td>0.10</td>\n",
       "      <td>180.855726</td>\n",
       "      <td>0.023174</td>\n",
       "      <td>174</td>\n",
       "      <td>170</td>\n",
       "    </tr>\n",
       "    <tr>\n",
       "      <th>1</th>\n",
       "      <td>O41613818T</td>\n",
       "      <td>VW Polo VI</td>\n",
       "      <td>economy</td>\n",
       "      <td>petrol</td>\n",
       "      <td>3.90</td>\n",
       "      <td>2015</td>\n",
       "      <td>78218</td>\n",
       "      <td>2021</td>\n",
       "      <td>34.48</td>\n",
       "      <td>electro_bug</td>\n",
       "      <td>4.480517</td>\n",
       "      <td>1.803909e+07</td>\n",
       "      <td>0.00</td>\n",
       "      <td>187.862734</td>\n",
       "      <td>12.306011</td>\n",
       "      <td>174</td>\n",
       "      <td>174</td>\n",
       "    </tr>\n",
       "    <tr>\n",
       "      <th>2</th>\n",
       "      <td>d-2109686j</td>\n",
       "      <td>Renault Sandero</td>\n",
       "      <td>standart</td>\n",
       "      <td>petrol</td>\n",
       "      <td>6.30</td>\n",
       "      <td>2012</td>\n",
       "      <td>23340</td>\n",
       "      <td>2017</td>\n",
       "      <td>34.93</td>\n",
       "      <td>gear_stick</td>\n",
       "      <td>4.768391</td>\n",
       "      <td>1.588366e+07</td>\n",
       "      <td>0.10</td>\n",
       "      <td>102.382857</td>\n",
       "      <td>2.513319</td>\n",
       "      <td>174</td>\n",
       "      <td>173</td>\n",
       "    </tr>\n",
       "    <tr>\n",
       "      <th>3</th>\n",
       "      <td>u29695600e</td>\n",
       "      <td>Mercedes-Benz GLC</td>\n",
       "      <td>business</td>\n",
       "      <td>petrol</td>\n",
       "      <td>4.04</td>\n",
       "      <td>2011</td>\n",
       "      <td>1263</td>\n",
       "      <td>2020</td>\n",
       "      <td>32.22</td>\n",
       "      <td>engine_fuel</td>\n",
       "      <td>3.880920</td>\n",
       "      <td>1.651883e+07</td>\n",
       "      <td>0.10</td>\n",
       "      <td>172.793237</td>\n",
       "      <td>-5.029476</td>\n",
       "      <td>174</td>\n",
       "      <td>170</td>\n",
       "    </tr>\n",
       "    <tr>\n",
       "      <th>4</th>\n",
       "      <td>N-8915870N</td>\n",
       "      <td>Renault Sandero</td>\n",
       "      <td>standart</td>\n",
       "      <td>petrol</td>\n",
       "      <td>4.70</td>\n",
       "      <td>2012</td>\n",
       "      <td>26428</td>\n",
       "      <td>2017</td>\n",
       "      <td>27.51</td>\n",
       "      <td>engine_fuel</td>\n",
       "      <td>4.181149</td>\n",
       "      <td>1.398317e+07</td>\n",
       "      <td>0.10</td>\n",
       "      <td>203.462289</td>\n",
       "      <td>-14.260456</td>\n",
       "      <td>174</td>\n",
       "      <td>171</td>\n",
       "    </tr>\n",
       "    <tr>\n",
       "      <th>5</th>\n",
       "      <td>b12101843B</td>\n",
       "      <td>Skoda Rapid</td>\n",
       "      <td>economy</td>\n",
       "      <td>petrol</td>\n",
       "      <td>2.36</td>\n",
       "      <td>2013</td>\n",
       "      <td>42176</td>\n",
       "      <td>2018</td>\n",
       "      <td>48.99</td>\n",
       "      <td>engine_ignition</td>\n",
       "      <td>4.351782</td>\n",
       "      <td>1.085589e+07</td>\n",
       "      <td>0.10</td>\n",
       "      <td>180.886289</td>\n",
       "      <td>-18.221832</td>\n",
       "      <td>174</td>\n",
       "      <td>173</td>\n",
       "    </tr>\n",
       "    <tr>\n",
       "      <th>6</th>\n",
       "      <td>Q-9368117S</td>\n",
       "      <td>Nissan Qashqai</td>\n",
       "      <td>standart</td>\n",
       "      <td>petrol</td>\n",
       "      <td>5.32</td>\n",
       "      <td>2012</td>\n",
       "      <td>24611</td>\n",
       "      <td>2014</td>\n",
       "      <td>54.72</td>\n",
       "      <td>engine_overheat</td>\n",
       "      <td>4.392126</td>\n",
       "      <td>8.343280e+06</td>\n",
       "      <td>0.10</td>\n",
       "      <td>174.984786</td>\n",
       "      <td>12.321364</td>\n",
       "      <td>174</td>\n",
       "      <td>167</td>\n",
       "    </tr>\n",
       "    <tr>\n",
       "      <th>7</th>\n",
       "      <td>O-2124190y</td>\n",
       "      <td>Tesla Model 3</td>\n",
       "      <td>premium</td>\n",
       "      <td>electro</td>\n",
       "      <td>3.90</td>\n",
       "      <td>2017</td>\n",
       "      <td>116872</td>\n",
       "      <td>2019</td>\n",
       "      <td>50.40</td>\n",
       "      <td>gear_stick</td>\n",
       "      <td>4.712356</td>\n",
       "      <td>9.793288e+06</td>\n",
       "      <td>0.10</td>\n",
       "      <td>95.890736</td>\n",
       "      <td>-8.939366</td>\n",
       "      <td>174</td>\n",
       "      <td>139</td>\n",
       "    </tr>\n",
       "    <tr>\n",
       "      <th>8</th>\n",
       "      <td>h16895544p</td>\n",
       "      <td>Kia Sportage</td>\n",
       "      <td>standart</td>\n",
       "      <td>petrol</td>\n",
       "      <td>3.50</td>\n",
       "      <td>2014</td>\n",
       "      <td>56384</td>\n",
       "      <td>2017</td>\n",
       "      <td>33.59</td>\n",
       "      <td>gear_stick</td>\n",
       "      <td>4.507759</td>\n",
       "      <td>1.644405e+07</td>\n",
       "      <td>0.32</td>\n",
       "      <td>101.798615</td>\n",
       "      <td>-1.164690</td>\n",
       "      <td>174</td>\n",
       "      <td>170</td>\n",
       "    </tr>\n",
       "    <tr>\n",
       "      <th>9</th>\n",
       "      <td>K77009462l</td>\n",
       "      <td>Smart ForFour</td>\n",
       "      <td>economy</td>\n",
       "      <td>petrol</td>\n",
       "      <td>4.56</td>\n",
       "      <td>2013</td>\n",
       "      <td>41309</td>\n",
       "      <td>2018</td>\n",
       "      <td>39.04</td>\n",
       "      <td>gear_stick</td>\n",
       "      <td>4.376839</td>\n",
       "      <td>6.975742e+06</td>\n",
       "      <td>0.10</td>\n",
       "      <td>125.254983</td>\n",
       "      <td>3.769684</td>\n",
       "      <td>174</td>\n",
       "      <td>173</td>\n",
       "    </tr>\n",
       "  </tbody>\n",
       "</table>\n",
       "</div>"
      ],
      "text/plain": [
       "       car_id              model  car_type fuel_type  car_rating  \\\n",
       "0  y13744087j     Kia Rio X-line   economy    petrol        3.78   \n",
       "1  O41613818T         VW Polo VI   economy    petrol        3.90   \n",
       "2  d-2109686j    Renault Sandero  standart    petrol        6.30   \n",
       "3  u29695600e  Mercedes-Benz GLC  business    petrol        4.04   \n",
       "4  N-8915870N    Renault Sandero  standart    petrol        4.70   \n",
       "5  b12101843B        Skoda Rapid   economy    petrol        2.36   \n",
       "6  Q-9368117S     Nissan Qashqai  standart    petrol        5.32   \n",
       "7  O-2124190y      Tesla Model 3   premium   electro        3.90   \n",
       "8  h16895544p       Kia Sportage  standart    petrol        3.50   \n",
       "9  K77009462l      Smart ForFour   economy    petrol        4.56   \n",
       "\n",
       "   year_to_start  riders  year_to_work  target_reg     target_class  \\\n",
       "0           2015   76163          2021      109.99      another_bug   \n",
       "1           2015   78218          2021       34.48      electro_bug   \n",
       "2           2012   23340          2017       34.93       gear_stick   \n",
       "3           2011    1263          2020       32.22      engine_fuel   \n",
       "4           2012   26428          2017       27.51      engine_fuel   \n",
       "5           2013   42176          2018       48.99  engine_ignition   \n",
       "6           2012   24611          2014       54.72  engine_overheat   \n",
       "7           2017  116872          2019       50.40       gear_stick   \n",
       "8           2014   56384          2017       33.59       gear_stick   \n",
       "9           2013   41309          2018       39.04       gear_stick   \n",
       "\n",
       "   mean_rating  distance_sum  rating_min   speed_max  \\\n",
       "0     4.737759  1.214131e+07        0.10  180.855726   \n",
       "1     4.480517  1.803909e+07        0.00  187.862734   \n",
       "2     4.768391  1.588366e+07        0.10  102.382857   \n",
       "3     3.880920  1.651883e+07        0.10  172.793237   \n",
       "4     4.181149  1.398317e+07        0.10  203.462289   \n",
       "5     4.351782  1.085589e+07        0.10  180.886289   \n",
       "6     4.392126  8.343280e+06        0.10  174.984786   \n",
       "7     4.712356  9.793288e+06        0.10   95.890736   \n",
       "8     4.507759  1.644405e+07        0.32  101.798615   \n",
       "9     4.376839  6.975742e+06        0.10  125.254983   \n",
       "\n",
       "   user_ride_quality_median  deviation_normal_count  user_uniq  \n",
       "0                  0.023174                     174        170  \n",
       "1                 12.306011                     174        174  \n",
       "2                  2.513319                     174        173  \n",
       "3                 -5.029476                     174        170  \n",
       "4                -14.260456                     174        171  \n",
       "5                -18.221832                     174        173  \n",
       "6                 12.321364                     174        167  \n",
       "7                 -8.939366                     174        139  \n",
       "8                 -1.164690                     174        170  \n",
       "9                  3.769684                     174        173  "
      ]
     },
     "execution_count": 7,
     "metadata": {},
     "output_type": "execute_result"
    }
   ],
   "source": [
    "from classes import Paths\n",
    "paths = Paths()\n",
    "path = paths.quickstart_train\n",
    "dft = pd.read_csv(path)\n",
    "dft.head(10)"
   ]
  },
  {
   "cell_type": "code",
   "execution_count": 8,
   "id": "da39e394",
   "metadata": {},
   "outputs": [],
   "source": [
    "cat_features = [\"model\", \"car_type\", \"fuel_type\"]  # categorical features\n",
    "targets = [\"target_class\", \"target_reg\"]\n",
    "features2drop = [\"car_id\"]  # features to be dropped"
   ]
  },
  {
   "cell_type": "code",
   "execution_count": 9,
   "id": "6a3d332d",
   "metadata": {},
   "outputs": [],
   "source": [
    "# selecting the final set of features for model use\n",
    "filtered_features = [i for i in dft.columns if (i not in targets and i not in features2drop)]\n",
    "num_features = [i for i in filtered_features if i not in cat_features]"
   ]
  },
  {
   "cell_type": "code",
   "execution_count": 10,
   "id": "6b0bb9d9",
   "metadata": {},
   "outputs": [
    {
     "data": {
      "text/plain": [
       "<catboost.core.CatBoostClassifier at 0x173624e60>"
      ]
     },
     "execution_count": 10,
     "metadata": {},
     "output_type": "execute_result"
    }
   ],
   "source": [
    "CatBoostClassifier()"
   ]
  },
  {
   "cell_type": "markdown",
   "id": "b156daa1",
   "metadata": {},
   "source": [
    "<div class=\"alert\" style=\"background-color: #E8F8F5; border-left: 8px solid #1ABC9C; padding: 14px; border-radius: 8px; font-size: 14px; color: #000000;\">\n",
    "\n",
    "<div class=\"alert alert-info\">\n",
    "\n",
    "**Tips for hyperparameter tuning:**\n",
    "</div>\n",
    "\n",
    "- Understand the importance of each parameter\n",
    "- Set the number of `iterations` with a margin and fix it, while limiting with `early_stopping_rounds`\n",
    "- Peek at or intuit the value ranges and step sizes\n",
    "- Exclude parameters that don't need to be tuned (`random_seed`, `eval_metric`, `thread_count`, etc.)\n",
    "- Use insights from previous runs\n",
    "\n",
    "</div>\n"
   ]
  },
  {
   "cell_type": "markdown",
   "id": "20bc3298",
   "metadata": {},
   "source": [
    "<div class=\"alert\" style=\"background-color: #FEF9E7; border-left: 8px solid #D4AC0D; padding: 14px; border-radius: 8px; font-size: 14px; color: #000000;\">\n",
    "\n",
    "Let's define a training function for `CatBoost` that returns predictions using `KFold` validation.\n",
    "\n",
    "</div>"
   ]
  },
  {
   "cell_type": "code",
   "execution_count": null,
   "id": "004ed26b",
   "metadata": {},
   "outputs": [],
   "source": [
    "def fit_catboost(trial, train, val):\n",
    "    X_train, y_train = train\n",
    "    X_val, y_val = val\n",
    "\n",
    "    param = {\n",
    "        'iterations' : 400, # No need to tune this parameter, there is Early-Stopping\n",
    "        \"learning_rate\": trial.suggest_float(\"learning_rate\", 0.001, 0.01),\n",
    "        \"l2_leaf_reg\": trial.suggest_int(\"l2_leaf_reg\", 2, 50),\n",
    "        \"colsample_bylevel\": trial.suggest_float(\"colsample_bylevel\", 0.01, 0.8),\n",
    "        \n",
    "        \"auto_class_weights\": trial.suggest_categorical(\"auto_class_weights\", [\"SqrtBalanced\", \"Balanced\", \"None\"]),\n",
    "        \"depth\": trial.suggest_int(\"depth\", 3, 9),\n",
    "        \n",
    "        \"boosting_type\": trial.suggest_categorical(\"boosting_type\", [\"Ordered\", \"Plain\"]),\n",
    "        \"bootstrap_type\": trial.suggest_categorical(\"bootstrap_type\", [\"Bayesian\", \"Bernoulli\", \"MVS\"]),\n",
    "        \"used_ram_limit\": \"14gb\",\n",
    "        \"eval_metric\": \"Accuracy\", # to be defined beforehand\n",
    "    }\n",
    "\n",
    "    \n",
    "    if param[\"bootstrap_type\"] == \"Bayesian\":\n",
    "        param[\"bagging_temperature\"] = trial.suggest_float(\"bagging_temperature\", 0, 20)\n",
    "        \n",
    "    elif param[\"bootstrap_type\"] == \"Bernoulli\":\n",
    "        param[\"subsample\"] = trial.suggest_float(\"subsample\", 0.1, 1)\n",
    "        \n",
    "\n",
    "    clf = CatBoostClassifier(\n",
    "        **param,\n",
    "        thread_count=-1,\n",
    "        random_seed=42,\n",
    "        cat_features=cat_features,\n",
    "    )\n",
    "\n",
    "    clf.fit(\n",
    "        X_train,\n",
    "        y_train,\n",
    "        eval_set=(X_val, y_val),\n",
    "        verbose=0,\n",
    "        plot=False,\n",
    "        early_stopping_rounds=5,\n",
    "    )\n",
    "\n",
    "    y_pred = clf.predict(X_val)\n",
    "    return clf, y_pred"
   ]
  },
  {
   "cell_type": "markdown",
   "id": "c0f606c7",
   "metadata": {},
   "source": [
    "<div class=\"alert\" style=\"background-color: #FEF9E7; border-left: 8px solid #D4AC0D; padding: 14px; border-radius: 8px; font-size: 14px; color: #000000;\">\n",
    "\n",
    "Let's define the `objective` function, in which we will place `KFold` validation to select the best hyperparameters on the entire dataset\n",
    "\n",
    "</div>"
   ]
  },
  {
   "cell_type": "code",
   "execution_count": null,
   "id": "3572c6b4",
   "metadata": {},
   "outputs": [],
   "source": [
    "from sklearn.metrics import accuracy_score\n",
    "\n",
    "\n",
    "def objective(trial, return_models=False):\n",
    "    n_splits = 3\n",
    "    kf = KFold(n_splits=n_splits, shuffle=True, random_state=42)\n",
    "    X_train = dft[filtered_features].drop(targets, axis=1, errors=\"ignore\")\n",
    "    y_train = dft[\"target_class\"]\n",
    "\n",
    "    scores, models = [], []\n",
    "    \n",
    "    for train_idx, valid_idx in kf.split(X_train):\n",
    "        train_data = X_train.iloc[train_idx, :], y_train.iloc[train_idx]\n",
    "        valid_data = X_train.iloc[valid_idx, :], y_train.iloc[valid_idx]\n",
    "\n",
    "        # Pass trials for iteration\n",
    "        model, y_pred = fit_catboost(trial, train_data, valid_data)  # defined above\n",
    "        scores.append(accuracy_score(y_pred, valid_data[1]))\n",
    "        models.append(model)\n",
    "        break\n",
    "         \n",
    "\n",
    "    result = np.mean(scores)\n",
    "    \n",
    "    if return_models:\n",
    "        return result, models\n",
    "    else:\n",
    "        return result"
   ]
  },
  {
   "cell_type": "code",
   "execution_count": 15,
   "id": "294c96bc",
   "metadata": {},
   "outputs": [
    {
     "data": {
      "application/vnd.jupyter.widget-view+json": {
       "model_id": "3691a7c6f3c348dcaac90fce26fe22df",
       "version_major": 2,
       "version_minor": 0
      },
      "text/plain": [
       "  0%|          | 0/600 [00:00<?, ?it/s]"
      ]
     },
     "metadata": {},
     "output_type": "display_data"
    }
   ],
   "source": [
    "study = optuna.create_study(direction=\"maximize\")\n",
    "study.optimize(objective,\n",
    "               n_trials=600,\n",
    "               n_jobs = -1,\n",
    "               show_progress_bar=True,)"
   ]
  },
  {
   "cell_type": "markdown",
   "id": "4048f82c",
   "metadata": {},
   "source": [
    "<div class=\"alert\" style=\"background-color: #FEF9E7; border-left: 8px solid #D4AC0D; padding: 14px; border-radius: 8px; font-size: 14px; color: #000000;\">\n",
    "\n",
    "Let's display best parameters\n",
    "\n",
    "</div>"
   ]
  },
  {
   "cell_type": "code",
   "execution_count": 16,
   "id": "9045608d",
   "metadata": {},
   "outputs": [
    {
     "name": "stdout",
     "output_type": "stream",
     "text": [
      "Best trial: score 0.7971758664955071, params {'learning_rate': 0.007609476408946439, 'l2_leaf_reg': 7, 'colsample_bylevel': 0.2891035998013902, 'auto_class_weights': 'Balanced', 'depth': 9, 'boosting_type': 'Plain', 'bootstrap_type': 'MVS'}\n"
     ]
    }
   ],
   "source": [
    "print(\"Best trial: score {}, params {}\".format(study.best_trial.value, study.best_trial.params))"
   ]
  },
  {
   "cell_type": "markdown",
   "id": "179b1ae6",
   "metadata": {},
   "source": [
    "<div class=\"alert\" style=\"background-color: #FEF9E7; border-left: 8px solid #D4AC0D; padding: 14px; border-radius: 8px; font-size: 14px; color: #000000;\">\n",
    "\n",
    "Retrain new model on best parameters (selected by Optuna)\n",
    "\n",
    "</div>"
   ]
  },
  {
   "cell_type": "code",
   "execution_count": 17,
   "id": "996ae604",
   "metadata": {},
   "outputs": [],
   "source": [
    "valid_scores, models = objective(\n",
    "    optuna.trial.FixedTrial(study.best_params),\n",
    "    return_models=True,\n",
    ")"
   ]
  },
  {
   "cell_type": "code",
   "execution_count": 18,
   "id": "9f83b3ee",
   "metadata": {},
   "outputs": [
    {
     "data": {
      "text/plain": [
       "(0.7971758664955071, 1)"
      ]
     },
     "execution_count": 18,
     "metadata": {},
     "output_type": "execute_result"
    }
   ],
   "source": [
    "valid_scores, len(models)"
   ]
  },
  {
   "cell_type": "code",
   "execution_count": null,
   "id": "65bae4e4",
   "metadata": {},
   "outputs": [],
   "source": []
  }
 ],
 "metadata": {
  "kernelspec": {
   "display_name": ".venv",
   "language": "python",
   "name": "python3"
  },
  "language_info": {
   "codemirror_mode": {
    "name": "ipython",
    "version": 3
   },
   "file_extension": ".py",
   "mimetype": "text/x-python",
   "name": "python",
   "nbconvert_exporter": "python",
   "pygments_lexer": "ipython3",
   "version": "3.12.6"
  }
 },
 "nbformat": 4,
 "nbformat_minor": 5
}
