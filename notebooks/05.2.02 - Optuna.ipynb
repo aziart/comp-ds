{
 "cells": [
  {
   "cell_type": "markdown",
   "id": "13223b6c",
   "metadata": {},
   "source": [
    "<div style=\" border-bottom: 8px solid #e3f56c; overflow: hidden; border-radius: 10px; height: 95%; width: 100%; display: flex;\">\n",
    "  <div style=\"height: 100%; width: 100%; background-color: #3800BB; float: left; text-align: center; display: flex; justify-content: left; align-items: center; font-size: 40px; \">\n",
    "    <b><span style=\"color: #FFFFFF; padding: 20px 20px;\">Hyperparameters Tuning with Optuna</span></b>\n",
    "  </div>\n",
    "</div>\n",
    "\n"
   ]
  },
  {
   "cell_type": "markdown",
   "id": "ac2a4406",
   "metadata": {},
   "source": [
    "<div class=\"alert\" style=\"background-color: #FFFFFF; border-left: 8px solid #B12111; padding: 14px; border-radius: 8px; font-size: 14px; color: #000000;\">\n",
    "\n",
    "<div class=\"alert alert-danger\">\n",
    "\n",
    "**Contents** \n",
    "</div>\n",
    "\n",
    "<hr>\n",
    "  <p><font size=\"3\" face=\"Arial\" font-size=\"large\">\n",
    "  <ul type=\"square\">\n",
    "\n",
    "  <li> Basic Optuna concepts;  </li>\n",
    "  <li> Implementation;  </li>\n",
    "  <li> Visuals;  </li>\n",
    "  <li> Pruning;  </li>\n",
    "  <li> Conslusion;  </li>\n",
    "  <li> Useful Resources  </li>\n",
    "  \n",
    "  </ul>\n",
    "  </font></p>\n",
    "\n",
    "</div>"
   ]
  },
  {
   "cell_type": "markdown",
   "id": "f1d45d51",
   "metadata": {},
   "source": [
    "<div class=\"alert\" style=\"background-color: #FFFFFF; border-left: 8px solid #1ABC9C; padding: 14px; border-radius: 8px; font-size: 14px; color: #000000;\">\n",
    "\n",
    "* In previous lessons, we looked at finding optimal hyperparameters using classical methods: exhaustive grid search (`GridSearchCV`) and random search from a given distribution (`Random Search`).\n",
    "* Although `Random Search` significantly speeds up the search process, we might miss a set of hyperparameters where the model performs best.<br>\n",
    "* And here, an idea might come to mind: \"What if we do some guessing at first, like in `Random Search`, and then check more often in those areas where the model showed better accuracy?!\" This method is called **Bayesian hyperparameter optimization**.\n",
    "* The most popular libraries implementing this method are `HyperOpt` and `Optuna`. (in our practice, `HyperOpt` often has failures and unstable performance, so in this notebook we will focus on **`Optuna`**)\n",
    "</div>"
   ]
  },
  {
   "cell_type": "markdown",
   "id": "9d87a19b",
   "metadata": {},
   "source": [
    "<div class=\"alert\" style=\"background-color: #FFFFFF; border-left: 8px solid #1ABC9C; padding: 14px; border-radius: 8px; font-size: 14px; color: #000000;\">\n",
    "\n",
    "<div class=\"alert alert-info\">\n",
    "\n",
    "**Key Features of the `Optuna` Framework**\n",
    "</div>\n",
    "\n",
    "* Lightweight and highly versatile - suitable for optimizing arbitrary functions and evaluation metrics.\n",
    "* Incorporates state-of-the-art algorithms specifically adapted for hyperparameter search.\n",
    "* Supports parallel execution and advanced pruning strategies.\n",
    "* Includes built-in tools for result visualization.\n",
    "* Offers seamless integration with many popular libraries and frameworks (e.g., boosting algorithms, **scikit-learn**, **PyTorch**, **Weights & Biases**, among others).\n",
    "\n",
    "To understand how to use it effectively, we will examine the framework in detail.\n",
    "\n",
    "</div>\n"
   ]
  },
  {
   "cell_type": "code",
   "execution_count": 2,
   "id": "919e6a49",
   "metadata": {},
   "outputs": [],
   "source": [
    "import optuna\n",
    "\n",
    "import numpy as np\n",
    "import pandas as pd\n",
    "\n",
    "from catboost import CatBoostClassifier\n",
    "from sklearn.model_selection import KFold, train_test_split"
   ]
  },
  {
   "cell_type": "markdown",
   "id": "1edcad5c",
   "metadata": {},
   "source": [
    "<div class=\"alert\" style=\"background-color: #FFFFFF; border-left: 8px solid #1ABC9C; padding: 14px; border-radius: 8px; font-size: 14px; color: #000000;\">\n",
    "\n",
    "**`Optuna` has two core concepts:**\n",
    "\n",
    "\n",
    "<div class=\"alert alert-info\">\n",
    "\n",
    "**1. `Study`: an optimization based on an `Objective` function.**\n",
    "</div>\n",
    "\n",
    "\n",
    "The `Objective` function should contain the logic for calculating the metric to optimize. Optuna will call this function multiple times to search for the best set of parameters.\n",
    "\n",
    "\n",
    "<div class=\"alert\" style=\"background-color:rgb(0, 0, 0); border-left: 8px solid #B12111; padding: 14px; border-radius: 8px; font-size: 14px; color:rgb(255, 255, 255);\">\n",
    "\n",
    "```python\n",
    "def objective(trial, ...):\n",
    "    # calculate score...\n",
    "    return score\n",
    "```\n",
    "</div>\n",
    "\n",
    "<div class=\"alert alert-info\">\n",
    "\n",
    "**2. `Trial` - a single execution of the `Objective` function**\n",
    "</div>\n",
    "\n",
    "\n",
    "Within the `trial` object, we define parameters to be tuned using appropriate methods depending on the type. For example:\n",
    "\n",
    "<div class=\"alert\" style=\"background-color:rgb(0, 0, 0); border-left: 8px solid #B12111; padding: 14px; border-radius: 8px; font-size: 14px; color:rgb(255, 255, 255);\">\n",
    "\n",
    "```python\n",
    "# `suggest_float` method is used to tune float values within the range [0, 1.5]\n",
    "param = trial.suggest_float('param', 0, 1.5) \n",
    "\n",
    "# Categorical value\n",
    "loss_function = trial.suggest_categorical('loss', ['Logloss', 'CrossEntropy'])\n",
    "\n",
    "# Integer value\n",
    "depth = trial.suggest_int('depth', 5, 8)\n",
    "\n",
    "# Uniform distribution\n",
    "learning_rate = trial.suggest_uniform('learning_rate', 0.0, 1.0)\n",
    "```\n",
    "</div>\n",
    "\n",
    "</div>"
   ]
  },
  {
   "cell_type": "markdown",
   "id": "8505920d",
   "metadata": {},
   "source": [
    "<div class=\"alert\" style=\"background-color: #FFFFFF; border-left: 8px solid #1ABC9C; padding: 14px; border-radius: 8px; font-size: 14px; color: #000000;\">\n",
    "    \n",
    "[`Optuna`](https://optuna.readthedocs.io/en/stable/index.html) implements several parameter search methods (`samplers`), including classical ones:\n",
    "* `GridSampler`\n",
    "* `RandomSampler`\n",
    "* `Tree-Structured Parzen Estimator` (`TPESampler` – the most popular and default one)\n",
    "* `BruteForceSampler`\n",
    "* And [4 more](https://optuna.readthedocs.io/en/stable/reference/samplers/index.html#module-optuna.samplers); you can also implement a custom sampler.\n",
    "</div>\n"
   ]
  },
  {
   "cell_type": "code",
   "execution_count": null,
   "id": "aa9a7957",
   "metadata": {},
   "outputs": [],
   "source": []
  }
 ],
 "metadata": {
  "kernelspec": {
   "display_name": ".venv",
   "language": "python",
   "name": "python3"
  },
  "language_info": {
   "codemirror_mode": {
    "name": "ipython",
    "version": 3
   },
   "file_extension": ".py",
   "mimetype": "text/x-python",
   "name": "python",
   "nbconvert_exporter": "python",
   "pygments_lexer": "ipython3",
   "version": "3.12.6"
  }
 },
 "nbformat": 4,
 "nbformat_minor": 5
}
