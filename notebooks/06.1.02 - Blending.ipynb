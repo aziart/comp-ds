{
 "cells": [
  {
   "cell_type": "markdown",
   "id": "c5d9ab1a",
   "metadata": {},
   "source": [
    "<div style=\" border-bottom: 8px solid #e3f56c; overflow: hidden; border-radius: 10px; height: 95%; width: 100%; display: flex;\">\n",
    "  <div style=\"height: 100%; width: 100%; background-color: #3800BB; float: left; text-align: center; display: flex; justify-content: left; align-items: center; font-size: 40px; \">\n",
    "    <b><span style=\"color: #FFFFFF; padding: 20px 20px;\">Blending</span></b>\n",
    "  </div>\n",
    "</div>\n",
    "\n"
   ]
  },
  {
   "cell_type": "markdown",
   "id": "366f6192",
   "metadata": {},
   "source": [
    "<div class=\"alert\" style=\"background-color: #FFFFFF; border-left: 8px solid #B12111; padding: 14px; border-radius: 8px; font-size: 14px; color: #000000;\">\n",
    "\n",
    "<div class=\"alert alert-danger\">\n",
    "\n",
    "### **Contents** \n",
    "</div>\n",
    "\n",
    "<hr>\n",
    "\n",
    "<div class=\"alert\">\n",
    "\n",
    "  <p><font size=\"3\" face=\"Arial\" font-size=\"large\">\n",
    "  <ul type=\"square\">\n",
    "\n",
    "  <li> Train Catboost;  </li>\n",
    "  <li> Train LightGBM;  </li>\n",
    "  <li> Train XGBoost;  </li>\n",
    "  <li> Blending and some of its key concepts;  </li>\n",
    "  <li> Conclusions and Summary;  </li>\n",
    "  \n",
    "  </ul>\n",
    "  </font></p>\n",
    "\n",
    "</div>\n",
    "\n",
    "</div>"
   ]
  },
  {
   "cell_type": "markdown",
   "id": "892753fb",
   "metadata": {},
   "source": [
    "<div class=\"alert alert-warning\">\n",
    "\n",
    "### **Intro** \n",
    "</div>"
   ]
  },
  {
   "cell_type": "markdown",
   "id": "1e508af9",
   "metadata": {},
   "source": [
    "<div class=\"alert\" style=\"background-color:#E8F8F5; border-left: 8px solid #1ABC9C; padding: 14px; border-radius: 8px; font-size: 14px; color: #000000;\">\n",
    "\n",
    "* text\n",
    "* text\n",
    "* text\n",
    "* text\n",
    "\n",
    "</div>"
   ]
  },
  {
   "cell_type": "markdown",
   "id": "9a2f2e07",
   "metadata": {},
   "source": [
    "<div class=\"alert alert-success\">\n",
    "\n",
    "### **Conclusions and Summary** \n",
    "</div>\n",
    "\n",
    "<div class=\"alert\" style=\"background-color:rgb(255, 255, 255); border-left: 8px solid #5ad197; padding: 14px; border-radius: 8px; font-size: 14px; color: #000000;\">\n",
    "\n",
    "* \n",
    "* \n",
    "* \n",
    "\n",
    "\n",
    "</div>"
   ]
  }
 ],
 "metadata": {
  "kernelspec": {
   "display_name": ".venv",
   "language": "python",
   "name": "python3"
  },
  "language_info": {
   "name": "python",
   "version": "3.12.6"
  }
 },
 "nbformat": 4,
 "nbformat_minor": 5
}
