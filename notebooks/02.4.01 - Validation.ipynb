{
 "cells": [
  {
   "cell_type": "markdown",
   "metadata": {},
   "source": [
    "# <center>Validation</center>"
   ]
  },
  {
   "cell_type": "markdown",
   "metadata": {},
   "source": [
    "<center> <img src = 'https://scikit-learn.org/stable/_images/grid_search_workflow.png' width=80%> </center>\n",
    "\n",
    "* [`Scikit-Learn` Validation Docs](https://scikit-learn.org/stable/modules/cross_validation.html)"
   ]
  },
  {
   "cell_type": "markdown",
   "metadata": {},
   "source": [
    "## Types of Validation Techniques"
   ]
  },
  {
   "cell_type": "markdown",
   "metadata": {},
   "source": [
    "**Main Validation Techniques**\n",
    "* `KFold` - is a cross-iterator for K-fold validation.\n",
    "* `StratifiedKFold` - is the same, but also stratified (balanced).\n",
    "* `GroupKFold` - is a K-fragment iterator with disjoint groups.\n",
    "* `RepeatedKFold` - K-fold validation with repetitions."
   ]
  },
  {
   "cell_type": "markdown",
   "metadata": {},
   "source": [
    "<center> <img src = 'https://scikit-learn.ru/wp-content/uploads/2021/10/image-161.png' width=%90> </center>"
   ]
  },
  {
   "cell_type": "markdown",
   "metadata": {},
   "source": [
    "**Can be useful too**\n",
    "* `StratifiedGroupKFold` - it's the same, but also stratified (balanced)\n",
    "* `RepeatedStratifiedKFold` - and here it's stratified, but additionally with repetitions"
   ]
  },
  {
   "cell_type": "markdown",
   "metadata": {},
   "source": [
    "* `Shuffle Split` - shuffles all samples first, then divides them into a set number of folds.\n",
    "* `Time Series Split` - used when the data is ordered by time.\n",
    "* `Leave One Out (LOO)` - removes only 1 data sample from the dataset for each fold (creates all possible training sets).\n",
    "* `Leave One Group Out` - the same thing, but removes 1 group of samples each time.\n",
    "* `Leave P Out` - removes P samples from the dataset and creates all possible sets, the values in the sets can be repeated."
   ]
  },
  {
   "cell_type": "markdown",
   "metadata": {},
   "source": [
    "**Which one to use and when:**\n",
    "- Is there a temporary dependence?  \n",
    "=>> `TimeSeriesSplit`\n",
    "- Little data and learning fast?  \n",
    "=>> `LeaveOneOut` \n",
    "- A lot of data, but learning fast?  \n",
    "=>> `KFold`\n",
    "- Does it take a lot of data and a long time to learn?  \n",
    "=>> `train_test_split()`\n",
    "- Is there a class imbalance?  \n",
    "=>> Any iterator with the prefix `Stratified`\n",
    "- There are groups and it is impossible to allow their simultaneous presence in `train` and `test`?  \n",
    "=>> Any iterator with the prefix `Group` will do the thing."
   ]
  }
 ],
 "metadata": {
  "kernelspec": {
   "display_name": ".venv",
   "language": "python",
   "name": "python3"
  },
  "language_info": {
   "codemirror_mode": {
    "name": "ipython",
    "version": 3
   },
   "file_extension": ".py",
   "mimetype": "text/x-python",
   "name": "python",
   "nbconvert_exporter": "python",
   "pygments_lexer": "ipython3",
   "version": "3.12.6"
  }
 },
 "nbformat": 4,
 "nbformat_minor": 2
}
