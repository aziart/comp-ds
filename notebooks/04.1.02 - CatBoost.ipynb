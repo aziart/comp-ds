{
 "cells": [
  {
   "cell_type": "markdown",
   "metadata": {},
   "source": [
    "<div style=\" border-bottom: 8px solid #00B2FF; overflow: hidden; border-radius: 10px; height: 60px; width: 100%; display: flex;\">\n",
    "  <div style=\"height: 100%; width: 100%; background-color: #3800BB; float: left; text-align: center; display: flex; justify-content: left; align-items: center; font-size: 40px; \">\n",
    "    <b><span style=\"color: #FFFFFF; padding: 20px 20px;\">CatBoost</span></b>\n",
    "  </div>\n",
    "</div>"
   ]
  },
  {
   "cell_type": "markdown",
   "metadata": {},
   "source": [
    "<div class=\"alert\" style=\"background-color: #FEDAD5; border-left: 8px solid #B12111; padding: 14px; border-radius: 8px; font-size: 14px; color: #000000;\">\n",
    "  <h5 style=\"font-size: 16px; margin-bottom: 10px;\">\n",
    "    <strong> Contents </strong>\n",
    "  </h5>\n",
    "<hr>\n",
    "  <p><font size=\"3\" face=\"Arial\" font-size=\"large\">\n",
    "  <ul type=\"square\">\n",
    "      \n",
    "  <li>CatBoost Classifier and its parameters </li>\n",
    "  <li>Setup learning by folds</li>\n",
    "  <li>Best practices using CatBoost</li>\n",
    "  <li>Useful built-in features (functions)</li>\n",
    "  <li>Other parameters</li>\n",
    "  <li>Conclusion</li>\n",
    "  \n",
    "  </ul>\n",
    "  </font></p>\n",
    "\n",
    "</div>"
   ]
  }
 ],
 "metadata": {
  "kernelspec": {
   "display_name": ".venv",
   "language": "python",
   "name": "python3"
  },
  "language_info": {
   "name": "python",
   "version": "3.12.6"
  }
 },
 "nbformat": 4,
 "nbformat_minor": 2
}
